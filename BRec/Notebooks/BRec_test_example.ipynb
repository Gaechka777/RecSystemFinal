{
 "cells": [
  {
   "cell_type": "markdown",
   "id": "f5073319-1b3a-4535-8993-934c7fb707fc",
   "metadata": {},
   "source": [
    "# BRec\n",
    "Данный ноутбук представляет из себя пособие по тестированию основных функций модуля BRec, разработанного в рамках проекта ЭО ПО RecSys. В рамках этого ноутбука реализованы фрагменты кода, использование которых упростит тестирование модуля, согласно ПМИ."
   ]
  },
  {
   "cell_type": "markdown",
   "id": "62113d46-8f21-4ff4-8ce6-0cb5cb72d796",
   "metadata": {},
   "source": [
    "## 1. Тестирование загрузчика данных"
   ]
  },
  {
   "cell_type": "code",
   "execution_count": 1,
   "id": "446af4ce-d634-4e1e-9d60-995fa43c2007",
   "metadata": {
    "tags": []
   },
   "outputs": [],
   "source": [
    "# импортирование библиотек\n",
    "import numpy as np\n",
    "import pandas as pd\n",
    "import brec\n",
    "from brec import CustomDataset"
   ]
  },
  {
   "cell_type": "code",
   "execution_count": 2,
   "id": "b6efd077-c6e9-45b6-9230-bb0ed3219c17",
   "metadata": {
    "tags": []
   },
   "outputs": [],
   "source": [
    "# Загрузка данных из актуальной директории\n",
    "dir_x = '../data/x.npy'\n",
    "dir_y = '../data/y.npy'\n",
    "\n",
    "dataset = CustomDataset(dir_x, dir_y)"
   ]
  },
  {
   "cell_type": "code",
   "execution_count": 4,
   "id": "0d350115-1101-4fbb-8210-52bab2f267ec",
   "metadata": {
    "tags": []
   },
   "outputs": [
    {
     "data": {
      "text/plain": [
       "5248"
      ]
     },
     "execution_count": 4,
     "metadata": {},
     "output_type": "execute_result"
    }
   ],
   "source": [
    "# Проверка размера датасета\n",
    "len(dataset)"
   ]
  },
  {
   "cell_type": "code",
   "execution_count": 9,
   "id": "6b904b81-fa1d-49ed-9454-1660a8b991d8",
   "metadata": {
    "tags": []
   },
   "outputs": [
    {
     "data": {
      "text/plain": [
       "torch.Size([15, 42])"
      ]
     },
     "execution_count": 9,
     "metadata": {},
     "output_type": "execute_result"
    }
   ],
   "source": [
    "# Проверка размерности возвращаемых значений\n",
    "x, y = dataset[0]\n",
    "x.shape"
   ]
  },
  {
   "cell_type": "code",
   "execution_count": 10,
   "id": "5aafe74d-4ba8-436b-b29a-343f25c4b56d",
   "metadata": {
    "tags": []
   },
   "outputs": [
    {
     "data": {
      "text/plain": [
       "torch.Size([22])"
      ]
     },
     "execution_count": 10,
     "metadata": {},
     "output_type": "execute_result"
    }
   ],
   "source": [
    "# Проверка размерности возвращаемых значений\n",
    "y.shape"
   ]
  },
  {
   "cell_type": "code",
   "execution_count": 20,
   "id": "1f0fa85b-411f-49e5-ac56-08991c66f516",
   "metadata": {
    "tags": []
   },
   "outputs": [
    {
     "name": "stdout",
     "output_type": "stream",
     "text": [
      "Test dataset shape: (19968, 16, 42)\n",
      "Users history length: 16\n"
     ]
    }
   ],
   "source": [
    "!python brec.py --test_dataset '../' --test_dataset_only True"
   ]
  },
  {
   "cell_type": "markdown",
   "id": "f4953bbb-9f4d-4171-97f0-be461d9a6c3e",
   "metadata": {},
   "source": [
    "## Тестирование функций подсчёта метрик качества"
   ]
  },
  {
   "cell_type": "code",
   "execution_count": 11,
   "id": "5f27cae6-e153-44eb-9c83-004e16d580c1",
   "metadata": {
    "tags": []
   },
   "outputs": [],
   "source": [
    "from brec import compute_metrics, print_metrics_dict"
   ]
  },
  {
   "cell_type": "code",
   "execution_count": 18,
   "id": "bda7a8df-f403-45ea-930f-9dd44a8a934b",
   "metadata": {
    "tags": []
   },
   "outputs": [],
   "source": [
    "# Пример\n",
    "l = [[4, 3, 1, 6, 8, 2, 5]]\n",
    "p = [[4, 3, 6, 1, 8, 5, 2]]"
   ]
  },
  {
   "cell_type": "code",
   "execution_count": 19,
   "id": "e4244445-3ccb-44f9-9d54-ab40c8551dd1",
   "metadata": {
    "tags": []
   },
   "outputs": [
    {
     "name": "stdout",
     "output_type": "stream",
     "text": [
      "Precision 1: 1.0\n",
      "Precision 3: 1.0\n",
      "Precision 5: 1.0\n",
      "Precision 10: 0.7\n",
      "Recall 1: 0.14285714285714285\n",
      "Recall 3: 0.42857142857142855\n",
      "Recall 5: 0.7142857142857143\n",
      "Recall 10: 1.0\n",
      "Mean Reciprocal Rank 20: 1.0\n"
     ]
    }
   ],
   "source": [
    "compute_metrics(l, p);"
   ]
  },
  {
   "cell_type": "markdown",
   "id": "1d288284-863b-4bd3-a285-e09b2b980f1f",
   "metadata": {},
   "source": [
    "## Тестирование обучения модели"
   ]
  },
  {
   "cell_type": "code",
   "execution_count": 15,
   "id": "3aa9fd1a-e98c-4c37-91c8-3099f7781c15",
   "metadata": {
    "tags": []
   },
   "outputs": [
    {
     "name": "stdout",
     "output_type": "stream",
     "text": [
      "training...\n",
      "100%|█████████████████████████████████████████████| 2/2 [00:02<00:00,  1.00s/it]\n",
      "epoch 1 | train loss: 1.252893477678299\n",
      "100%|███████████████████████████████████████| 1000/1000 [00:36<00:00, 27.57it/s]\n",
      "epoch 1 | val loss: 0.3623620295226574\n",
      "prec1: 0.7868504772004242\n",
      "prec3: 0.3008130081300824\n",
      "prec5: 0.20911983032873643\n",
      "prec10: 0.13191940615058195\n",
      "mrr20: 0.8271268447229747\n",
      "ndcg20: 0.8142066465305074\n",
      "Best model with new best validation score 0.3623620295226574 saved at  ./model/best_model_weights.pth\n",
      "finished training in 38.473939657211304\n",
      "100%|█████████████████████████████████████████████| 2/2 [00:00<00:00,  3.99it/s]\n",
      "epoch 2 | train loss: 0.6933501064777374\n",
      "finished training in 38.977354526519775\n",
      "100%|█████████████████████████████████████████████| 2/2 [00:00<00:00,  4.55it/s]\n",
      "epoch 3 | train loss: 0.6012445688247681\n",
      "finished training in 39.41979432106018\n",
      "100%|█████████████████████████████████████████████| 2/2 [00:00<00:00,  4.06it/s]\n",
      "epoch 4 | train loss: 0.5570864975452423\n",
      "100%|███████████████████████████████████████| 1000/1000 [00:37<00:00, 26.33it/s]\n",
      "epoch 4 | val loss: 0.2658080802708864\n",
      "prec1: 0.7804878048780488\n",
      "prec3: 0.34570519618239615\n",
      "prec5: 0.22651113467656228\n",
      "prec10: 0.14178154825026362\n",
      "mrr20: 0.8377933498691726\n",
      "ndcg20: 0.8277943484526256\n",
      "Best model with new best validation score 0.2658080802708864 saved at  ./model/best_model_weights.pth\n",
      "finished training in 78.01227140426636\n",
      "100%|█████████████████████████████████████████████| 2/2 [00:00<00:00,  4.00it/s]\n",
      "epoch 5 | train loss: 0.5287249982357025\n",
      "finished training in 78.51495909690857\n",
      "100%|█████████████████████████████████████████████| 2/2 [00:00<00:00,  4.26it/s]\n",
      "epoch 6 | train loss: 0.5122175514698029\n",
      "finished training in 78.98669290542603\n",
      "100%|█████████████████████████████████████████████| 2/2 [00:00<00:00,  3.96it/s]\n",
      "epoch 7 | train loss: 0.49409614503383636\n",
      "100%|███████████████████████████████████████| 1000/1000 [00:38<00:00, 25.98it/s]\n",
      "epoch 7 | val loss: 0.23910504868626595\n",
      "prec1: 0.7857900318133616\n",
      "prec3: 0.3503004595263337\n",
      "prec5: 0.25344644750795114\n",
      "prec10: 0.1478260869565201\n",
      "mrr20: 0.8409710794396391\n",
      "ndcg20: 0.839784427830505\n",
      "Best model with new best validation score 0.23910504868626595 saved at  ./model/best_model_weights.pth\n",
      "finished training in 118.21036124229431\n",
      "100%|█████████████████████████████████████████████| 2/2 [00:00<00:00,  3.45it/s]\n",
      "epoch 8 | train loss: 0.4770842343568802\n",
      "finished training in 118.79300141334534\n",
      "100%|█████████████████████████████████████████████| 2/2 [00:00<00:00,  4.04it/s]\n",
      "epoch 9 | train loss: 0.46127793192863464\n",
      "finished training in 119.2904417514801\n",
      "100%|█████████████████████████████████████████████| 2/2 [00:00<00:00,  3.38it/s]\n",
      "epoch 10 | train loss: 0.442528173327446\n",
      "100%|███████████████████████████████████████| 1000/1000 [00:37<00:00, 26.39it/s]\n",
      "epoch 10 | val loss: 0.21365286421775817\n",
      "prec1: 0.8515376458112407\n",
      "prec3: 0.3669141039236465\n",
      "prec5: 0.27253446447507684\n",
      "prec10: 0.15312831389183298\n",
      "mrr20: 0.8769209404946418\n",
      "ndcg20: 0.8587828849154993\n",
      "Best model with new best validation score 0.21365286421775817 saved at  ./model/best_model_weights.pth\n",
      "finished training in 157.90423703193665\n"
     ]
    }
   ],
   "source": [
    "!python brec.py  --no_test True --train_dataset '../' --val_dataset '../' --epochs 10 --lr 1e-3 --batch_size 640 --limit_rows 1000 --val_every_n 3"
   ]
  },
  {
   "cell_type": "markdown",
   "id": "c728804d-ac49-4ea5-b1ba-52687980a0ea",
   "metadata": {},
   "source": [
    "ndcg20 и prec1 на последней эпохе обучения должен превышать 0.85. Количество эпох обучения подбирается индивидуально в зависимости от объема и других характеристик датасета."
   ]
  },
  {
   "cell_type": "markdown",
   "id": "e3194151-6a12-4a7b-b2f6-b1bc52c26aaf",
   "metadata": {},
   "source": [
    "## Тестирование загрузки модели и возможности её использования для рекомендации 3-5 товаров"
   ]
  },
  {
   "cell_type": "code",
   "execution_count": 16,
   "id": "fed1a0fb-543e-4113-8ce2-215f999ac09a",
   "metadata": {},
   "outputs": [
    {
     "name": "stdout",
     "output_type": "stream",
     "text": [
      "100%|█████████████████████████████████████| 19968/19968 [12:47<00:00, 26.03it/s]\n"
     ]
    }
   ],
   "source": [
    "!python brec.py  --no_train True --no_val True --test_dataset '../' --weights_path './model/best_model_weights.pth' --predict_only True --predictions_save_file './prediction.npy' --prediction_type 'recommendations'"
   ]
  },
  {
   "cell_type": "code",
   "execution_count": 24,
   "id": "1cbd560c-710a-4ac9-8e33-02fb78994c55",
   "metadata": {
    "tags": []
   },
   "outputs": [
    {
     "data": {
      "text/plain": [
       "(19968, 22)"
      ]
     },
     "execution_count": 24,
     "metadata": {},
     "output_type": "execute_result"
    }
   ],
   "source": [
    "import numpy as np\n",
    "np.load('./prediciton.py.npy').shape"
   ]
  },
  {
   "cell_type": "code",
   "execution_count": null,
   "id": "ccb40b82-6251-41f1-9fdc-9b07107b86ac",
   "metadata": {},
   "outputs": [],
   "source": []
  }
 ],
 "metadata": {
  "kernelspec": {
   "display_name": "Python 3 (ipykernel)",
   "language": "python",
   "name": "python3"
  },
  "language_info": {
   "codemirror_mode": {
    "name": "ipython",
    "version": 3
   },
   "file_extension": ".py",
   "mimetype": "text/x-python",
   "name": "python",
   "nbconvert_exporter": "python",
   "pygments_lexer": "ipython3",
   "version": "3.10.10"
  }
 },
 "nbformat": 4,
 "nbformat_minor": 5
}
