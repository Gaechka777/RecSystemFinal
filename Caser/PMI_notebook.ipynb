{
 "cells": [
  {
   "cell_type": "markdown",
   "id": "6f64dea7",
   "metadata": {},
   "source": [
    "# It is scratch for full instruction and test of Caser."
   ]
  },
  {
   "cell_type": "markdown",
   "id": "f12acee9",
   "metadata": {},
   "source": [
    "### DataModule"
   ]
  },
  {
   "cell_type": "markdown",
   "id": "8cfe8e93",
   "metadata": {},
   "source": [
    "----"
   ]
  },
  {
   "cell_type": "markdown",
   "id": "ef3e7936",
   "metadata": {},
   "source": [
    "LightningDataModule for Santander dataset.\n",
    "\n",
    "A DataModule implements 5 key methods:\n",
    "\n",
    "- ``prepare_data`` (things to do on 1 GPU/TPU, not on every GPU/TPU in distributed mode)\n",
    "- ``setup`` (things to do on every accelerator in distributed mode)\n",
    "- ``train_dataloader`` (the training dataloader)\n",
    "- ``val_dataloader`` (the validation dataloader(s))\n",
    "- ``test_dataloader`` (the test dataloader(s))\n",
    "\n",
    "This allows you to share a full dataset without explaining how to download,\n",
    "split, transform and process the data.\n",
    "\n",
    "Read the docs:\n",
    "    https://pytorch-lightning.readthedocs.io/en/latest/extensions/datamodules.html"
   ]
  },
  {
   "cell_type": "code",
   "execution_count": 1,
   "id": "e4aef8fb",
   "metadata": {
    "ExecuteTime": {
     "end_time": "2023-11-14T12:13:06.004137Z",
     "start_time": "2023-11-14T12:12:55.814051Z"
    }
   },
   "outputs": [],
   "source": [
    "import warnings\n",
    "warnings.filterwarnings('ignore')\n",
    "\n",
    "from src.datamodules.caser_datamodule import SantanderDataModule\n",
    "import numpy as np\n",
    "import torch"
   ]
  },
  {
   "cell_type": "code",
   "execution_count": 2,
   "id": "f9af70f0",
   "metadata": {
    "ExecuteTime": {
     "end_time": "2023-11-14T12:13:06.020137Z",
     "start_time": "2023-11-14T12:13:06.008138Z"
    }
   },
   "outputs": [],
   "source": [
    "San = SantanderDataModule(seed=25)"
   ]
  },
  {
   "cell_type": "markdown",
   "id": "575aa721",
   "metadata": {},
   "source": [
    "---\n",
    "\n",
    "``SantanderDataModule.prepare_data()`` - preproces data if needed.\n",
    "\n",
    "\n",
    "The process consists of two parts: creating subsample and making interactions data. First one allows us to choose the amount of users which will be in dataset. Second one transforms table data in special format suitable for Caser model."
   ]
  },
  {
   "cell_type": "code",
   "execution_count": 3,
   "id": "21f137fb",
   "metadata": {
    "ExecuteTime": {
     "end_time": "2023-11-14T12:17:21.612596Z",
     "start_time": "2023-11-14T12:13:06.023137Z"
    }
   },
   "outputs": [
    {
     "name": "stdout",
     "output_type": "stream",
     "text": [
      "making data subsample...\n",
      "you have took 2000 users from 601769 possible users\n",
      "dataset reduced to 34000 entries\n",
      "process done\n",
      "making interactions data...\n",
      "progress: 25.0 %\n",
      "progress: 75.0 %\n",
      "        TIMESTAMP  USER_ID  ITEM_ID\n",
      "0      1422392400  1376263        1\n",
      "1      1422392400   220061        3\n",
      "2      1422392400   220061        7\n",
      "3      1422392400   220061       11\n",
      "4      1422392400   220061       20\n",
      "...           ...      ...      ...\n",
      "62492  1464382800  1196488        1\n",
      "62493  1464382800  1196669        1\n",
      "62494  1464382800  1193770        1\n",
      "62495  1464382800  1114714       11\n",
      "62496  1464382800  1180766        1\n",
      "\n",
      "[62497 rows x 3 columns]\n",
      "created file data\\preprocessed\\train_ver2.csv\n",
      "process done\n",
      "making data split...\n",
      "process done\n"
     ]
    }
   ],
   "source": [
    "San.prepare_data()"
   ]
  },
  {
   "cell_type": "markdown",
   "id": "06018cc5",
   "metadata": {},
   "source": [
    "You need to make sure that ``data_test.csv``, ``data_train.csv`` and ``data_val.csv`` appered in ``data\\preprocessed`` after this part."
   ]
  },
  {
   "cell_type": "markdown",
   "id": "1356167c",
   "metadata": {
    "ExecuteTime": {
     "end_time": "2023-11-07T13:07:29.847400Z",
     "start_time": "2023-11-07T13:07:29.827735Z"
    }
   },
   "source": [
    "---\n",
    "\n",
    "``SantanderDataModule.setup()`` - Load data. Set variables: `self.data_train`, `self.data_val`, `self.data_test`.\n",
    "\n",
    "This method is called by lightning when doing `trainer.fit()` and `trainer.test()`."
   ]
  },
  {
   "cell_type": "code",
   "execution_count": 4,
   "id": "71be8c40",
   "metadata": {
    "ExecuteTime": {
     "end_time": "2023-11-14T12:17:30.284977Z",
     "start_time": "2023-11-14T12:17:28.655978Z"
    }
   },
   "outputs": [
    {
     "name": "stdout",
     "output_type": "stream",
     "text": [
      "Train, validation and test datasets are ready for use!\n"
     ]
    }
   ],
   "source": [
    "San.setup()"
   ]
  },
  {
   "cell_type": "markdown",
   "id": "5c16461b",
   "metadata": {},
   "source": [
    "---\n",
    "\n",
    "As a result, we obtain pytorch dataloaders for train, validation and test."
   ]
  },
  {
   "cell_type": "code",
   "execution_count": 5,
   "id": "cee9139c",
   "metadata": {
    "ExecuteTime": {
     "end_time": "2023-11-14T12:17:30.300976Z",
     "start_time": "2023-11-14T12:17:30.288977Z"
    }
   },
   "outputs": [],
   "source": [
    "train_DL = San.train_dataloader()"
   ]
  },
  {
   "cell_type": "code",
   "execution_count": 6,
   "id": "73dbe54a",
   "metadata": {
    "ExecuteTime": {
     "end_time": "2023-11-14T12:17:30.440377Z",
     "start_time": "2023-11-14T12:17:30.302973Z"
    }
   },
   "outputs": [
    {
     "name": "stdout",
     "output_type": "stream",
     "text": [
      "tensor([1, 1, 1, 1, 1]) tensor([1616]) tensor([1]) tensor([10,  2, 15])\n"
     ]
    }
   ],
   "source": [
    "sequence, user, target, negative_sample = next(iter(train_DL))\n",
    "\n",
    "print(sequence[0], user[0], target[0], negative_sample[0])"
   ]
  },
  {
   "cell_type": "markdown",
   "id": "481d5dc5",
   "metadata": {},
   "source": [
    "---"
   ]
  },
  {
   "cell_type": "markdown",
   "id": "2a2669a8",
   "metadata": {
    "ExecuteTime": {
     "end_time": "2023-11-07T13:17:59.537096Z",
     "start_time": "2023-11-07T13:17:59.522091Z"
    }
   },
   "source": [
    "### Training Caser"
   ]
  },
  {
   "cell_type": "code",
   "execution_count": 7,
   "id": "0c480ad5",
   "metadata": {
    "ExecuteTime": {
     "end_time": "2023-11-14T12:20:43.589684Z",
     "start_time": "2023-11-14T12:17:33.911543Z"
    }
   },
   "outputs": [
    {
     "name": "stdout",
     "output_type": "stream",
     "text": [
      "[\u001b[36m2023-11-14 15:17:34,477\u001b[0m][\u001b[34msrc.utils\u001b[0m][\u001b[32mINFO\u001b[0m] - Disabling python warnings! <config.ignore_warnings=True>\u001b[0m\n",
      "[\u001b[36m2023-11-14 15:17:34,478\u001b[0m][\u001b[34msrc.utils\u001b[0m][\u001b[32mINFO\u001b[0m] - Printing config tree with Rich! <config.print_config=True>\u001b[0m\n"
     ]
    },
    {
     "data": {
      "text/html": [
       "<pre style=\"white-space:pre;overflow-x:auto;line-height:normal;font-family:Menlo,'DejaVu Sans Mono',consolas,'Courier New',monospace\"><span style=\"color: #7f7f7f; text-decoration-color: #7f7f7f\">CONFIG</span>\n",
       "<span style=\"color: #7f7f7f; text-decoration-color: #7f7f7f\">├── </span><span style=\"color: #7f7f7f; text-decoration-color: #7f7f7f\">datamodule</span>\n",
       "<span style=\"color: #7f7f7f; text-decoration-color: #7f7f7f\">│   └── </span><span style=\"color: #fc92b8; text-decoration-color: #fc92b8; background-color: #272822\">_target_</span><span style=\"color: #fbfbf8; text-decoration-color: #fbfbf8; background-color: #272822\">: </span><span style=\"color: #7f7f7f; text-decoration-color: #7f7f7f; background-color: #272822\">src.datamodules.caser_datamodule.SantanderDataModule                                             </span>\n",
       "<span style=\"color: #7f7f7f; text-decoration-color: #7f7f7f\">│       </span><span style=\"color: #fc92b8; text-decoration-color: #fc92b8; background-color: #272822\">data_dir</span><span style=\"color: #fbfbf8; text-decoration-color: #fbfbf8; background-color: #272822\">: </span><span style=\"color: #7f7f7f; text-decoration-color: #7f7f7f; background-color: #272822\">C:\\Users\\Skoltech\\Desktop\\RecSystemFinal\\Caser/data/                                             </span>\n",
       "<span style=\"color: #7f7f7f; text-decoration-color: #7f7f7f\">│       </span><span style=\"color: #fc92b8; text-decoration-color: #fc92b8; background-color: #272822\">dataset_name</span><span style=\"color: #fbfbf8; text-decoration-color: #fbfbf8; background-color: #272822\">: </span><span style=\"color: #7f7f7f; text-decoration-color: #7f7f7f; background-color: #272822\">train_ver2.csv                                                                               </span>\n",
       "<span style=\"color: #7f7f7f; text-decoration-color: #7f7f7f\">│       </span><span style=\"color: #fc92b8; text-decoration-color: #fc92b8; background-color: #272822\">dataset_name_test</span><span style=\"color: #fbfbf8; text-decoration-color: #fbfbf8; background-color: #272822\">: </span><span style=\"color: #7f7f7f; text-decoration-color: #7f7f7f; background-color: #272822\">train_ver2.csv                                                                          </span>\n",
       "<span style=\"color: #7f7f7f; text-decoration-color: #7f7f7f\">│       </span><span style=\"color: #fc92b8; text-decoration-color: #fc92b8; background-color: #272822\">batch_size</span><span style=\"color: #fbfbf8; text-decoration-color: #fbfbf8; background-color: #272822\">: </span><span style=\"color: #7f7f7f; text-decoration-color: #7f7f7f; background-color: #272822\">64                                                                                             </span>\n",
       "<span style=\"color: #7f7f7f; text-decoration-color: #7f7f7f\">│       </span><span style=\"color: #fc92b8; text-decoration-color: #fc92b8; background-color: #272822\">num_workers</span><span style=\"color: #fbfbf8; text-decoration-color: #fbfbf8; background-color: #272822\">: </span><span style=\"color: #7f7f7f; text-decoration-color: #7f7f7f; background-color: #272822\">0                                                                                             </span>\n",
       "<span style=\"color: #7f7f7f; text-decoration-color: #7f7f7f\">│       </span><span style=\"color: #fc92b8; text-decoration-color: #fc92b8; background-color: #272822\">pin_memory</span><span style=\"color: #fbfbf8; text-decoration-color: #fbfbf8; background-color: #272822\">: </span><span style=\"color: #7f7f7f; text-decoration-color: #7f7f7f; background-color: #272822\">false                                                                                          </span>\n",
       "<span style=\"color: #7f7f7f; text-decoration-color: #7f7f7f\">│       </span><span style=\"color: #fc92b8; text-decoration-color: #fc92b8; background-color: #272822\">sample_size</span><span style=\"color: #fbfbf8; text-decoration-color: #fbfbf8; background-color: #272822\">: </span><span style=\"color: #7f7f7f; text-decoration-color: #7f7f7f; background-color: #272822\">2000                                                                                          </span>\n",
       "<span style=\"color: #7f7f7f; text-decoration-color: #7f7f7f\">│       </span><span style=\"color: #fc92b8; text-decoration-color: #fc92b8; background-color: #272822\">min_data_points</span><span style=\"color: #fbfbf8; text-decoration-color: #fbfbf8; background-color: #272822\">: </span><span style=\"color: #7f7f7f; text-decoration-color: #7f7f7f; background-color: #272822\">17                                                                                        </span>\n",
       "<span style=\"color: #7f7f7f; text-decoration-color: #7f7f7f\">│       </span><span style=\"color: #fc92b8; text-decoration-color: #fc92b8; background-color: #272822\">seed</span><span style=\"color: #fbfbf8; text-decoration-color: #fbfbf8; background-color: #272822\">: </span><span style=\"color: #7f7f7f; text-decoration-color: #7f7f7f; background-color: #272822\">0                                                                                                    </span>\n",
       "<span style=\"color: #7f7f7f; text-decoration-color: #7f7f7f\">│       </span><span style=\"color: #fc92b8; text-decoration-color: #fc92b8; background-color: #272822\">sequence_length</span><span style=\"color: #fbfbf8; text-decoration-color: #fbfbf8; background-color: #272822\">: </span><span style=\"color: #7f7f7f; text-decoration-color: #7f7f7f; background-color: #272822\">5                                                                                         </span>\n",
       "<span style=\"color: #7f7f7f; text-decoration-color: #7f7f7f\">│       </span><span style=\"color: #fc92b8; text-decoration-color: #fc92b8; background-color: #272822\">target_length</span><span style=\"color: #fbfbf8; text-decoration-color: #fbfbf8; background-color: #272822\">: </span><span style=\"color: #7f7f7f; text-decoration-color: #7f7f7f; background-color: #272822\">1                                                                                           </span>\n",
       "<span style=\"color: #7f7f7f; text-decoration-color: #7f7f7f\">│       </span><span style=\"color: #fc92b8; text-decoration-color: #fc92b8; background-color: #272822\">neg_samples</span><span style=\"color: #fbfbf8; text-decoration-color: #fbfbf8; background-color: #272822\">: </span><span style=\"color: #7f7f7f; text-decoration-color: #7f7f7f; background-color: #272822\">3                                                                                             </span>\n",
       "<span style=\"color: #7f7f7f; text-decoration-color: #7f7f7f\">│       </span><span style=\"color: #7f7f7f; text-decoration-color: #7f7f7f; background-color: #272822\">                                                                                                           </span>\n",
       "<span style=\"color: #7f7f7f; text-decoration-color: #7f7f7f\">├── </span><span style=\"color: #7f7f7f; text-decoration-color: #7f7f7f\">model</span>\n",
       "<span style=\"color: #7f7f7f; text-decoration-color: #7f7f7f\">│   └── </span><span style=\"color: #fc92b8; text-decoration-color: #fc92b8; background-color: #272822\">_target_</span><span style=\"color: #fbfbf8; text-decoration-color: #fbfbf8; background-color: #272822\">: </span><span style=\"color: #7f7f7f; text-decoration-color: #7f7f7f; background-color: #272822\">src.models.caser.CaserModel                                                                      </span>\n",
       "<span style=\"color: #7f7f7f; text-decoration-color: #7f7f7f\">│       </span><span style=\"color: #fc92b8; text-decoration-color: #fc92b8; background-color: #272822\">data_dir</span><span style=\"color: #fbfbf8; text-decoration-color: #fbfbf8; background-color: #272822\">: </span><span style=\"color: #7f7f7f; text-decoration-color: #7f7f7f; background-color: #272822\">C:\\Users\\Skoltech\\Desktop\\RecSystemFinal\\Caser/data/                                             </span>\n",
       "<span style=\"color: #7f7f7f; text-decoration-color: #7f7f7f\">│       </span><span style=\"color: #fc92b8; text-decoration-color: #fc92b8; background-color: #272822\">dataset_name</span><span style=\"color: #fbfbf8; text-decoration-color: #fbfbf8; background-color: #272822\">: </span><span style=\"color: #7f7f7f; text-decoration-color: #7f7f7f; background-color: #272822\">train_ver2.csv                                                                               </span>\n",
       "<span style=\"color: #7f7f7f; text-decoration-color: #7f7f7f\">│       </span><span style=\"color: #fc92b8; text-decoration-color: #fc92b8; background-color: #272822\">dataset_name_test</span><span style=\"color: #fbfbf8; text-decoration-color: #fbfbf8; background-color: #272822\">: </span><span style=\"color: #7f7f7f; text-decoration-color: #7f7f7f; background-color: #272822\">train_ver2.csv                                                                          </span>\n",
       "<span style=\"color: #7f7f7f; text-decoration-color: #7f7f7f\">│       </span><span style=\"color: #fc92b8; text-decoration-color: #fc92b8; background-color: #272822\">L</span><span style=\"color: #fbfbf8; text-decoration-color: #fbfbf8; background-color: #272822\">: </span><span style=\"color: #7f7f7f; text-decoration-color: #7f7f7f; background-color: #272822\">5                                                                                                       </span>\n",
       "<span style=\"color: #7f7f7f; text-decoration-color: #7f7f7f\">│       </span><span style=\"color: #fc92b8; text-decoration-color: #fc92b8; background-color: #272822\">d</span><span style=\"color: #fbfbf8; text-decoration-color: #fbfbf8; background-color: #272822\">: </span><span style=\"color: #7f7f7f; text-decoration-color: #7f7f7f; background-color: #272822\">50                                                                                                      </span>\n",
       "<span style=\"color: #7f7f7f; text-decoration-color: #7f7f7f\">│       </span><span style=\"color: #fc92b8; text-decoration-color: #fc92b8; background-color: #272822\">nh</span><span style=\"color: #fbfbf8; text-decoration-color: #fbfbf8; background-color: #272822\">: </span><span style=\"color: #7f7f7f; text-decoration-color: #7f7f7f; background-color: #272822\">16                                                                                                     </span>\n",
       "<span style=\"color: #7f7f7f; text-decoration-color: #7f7f7f\">│       </span><span style=\"color: #fc92b8; text-decoration-color: #fc92b8; background-color: #272822\">nv</span><span style=\"color: #fbfbf8; text-decoration-color: #fbfbf8; background-color: #272822\">: </span><span style=\"color: #7f7f7f; text-decoration-color: #7f7f7f; background-color: #272822\">4                                                                                                      </span>\n",
       "<span style=\"color: #7f7f7f; text-decoration-color: #7f7f7f\">│       </span><span style=\"color: #fc92b8; text-decoration-color: #fc92b8; background-color: #272822\">drop</span><span style=\"color: #fbfbf8; text-decoration-color: #fbfbf8; background-color: #272822\">: </span><span style=\"color: #7f7f7f; text-decoration-color: #7f7f7f; background-color: #272822\">0.5                                                                                                  </span>\n",
       "<span style=\"color: #7f7f7f; text-decoration-color: #7f7f7f\">│       </span><span style=\"color: #fc92b8; text-decoration-color: #fc92b8; background-color: #272822\">ac_conv</span><span style=\"color: #fbfbf8; text-decoration-color: #fbfbf8; background-color: #272822\">: </span><span style=\"color: #7f7f7f; text-decoration-color: #7f7f7f; background-color: #272822\">relu                                                                                              </span>\n",
       "<span style=\"color: #7f7f7f; text-decoration-color: #7f7f7f\">│       </span><span style=\"color: #fc92b8; text-decoration-color: #fc92b8; background-color: #272822\">ac_fc</span><span style=\"color: #fbfbf8; text-decoration-color: #fbfbf8; background-color: #272822\">: </span><span style=\"color: #7f7f7f; text-decoration-color: #7f7f7f; background-color: #272822\">relu                                                                                                </span>\n",
       "<span style=\"color: #7f7f7f; text-decoration-color: #7f7f7f\">│       </span><span style=\"color: #fc92b8; text-decoration-color: #fc92b8; background-color: #272822\">l2</span><span style=\"color: #fbfbf8; text-decoration-color: #fbfbf8; background-color: #272822\">: </span><span style=\"color: #7f7f7f; text-decoration-color: #7f7f7f; background-color: #272822\">1.0e-06                                                                                                </span>\n",
       "<span style=\"color: #7f7f7f; text-decoration-color: #7f7f7f\">│       </span><span style=\"color: #fc92b8; text-decoration-color: #fc92b8; background-color: #272822\">learning_rate</span><span style=\"color: #fbfbf8; text-decoration-color: #fbfbf8; background-color: #272822\">: </span><span style=\"color: #7f7f7f; text-decoration-color: #7f7f7f; background-color: #272822\">0.001                                                                                       </span>\n",
       "<span style=\"color: #7f7f7f; text-decoration-color: #7f7f7f\">│       </span><span style=\"color: #7f7f7f; text-decoration-color: #7f7f7f; background-color: #272822\">                                                                                                           </span>\n",
       "<span style=\"color: #7f7f7f; text-decoration-color: #7f7f7f\">├── </span><span style=\"color: #7f7f7f; text-decoration-color: #7f7f7f\">callbacks</span>\n",
       "<span style=\"color: #7f7f7f; text-decoration-color: #7f7f7f\">│   └── </span><span style=\"color: #fc92b8; text-decoration-color: #fc92b8; background-color: #272822\">model_checkpoint</span><span style=\"color: #fbfbf8; text-decoration-color: #fbfbf8; background-color: #272822\">:</span><span style=\"color: #7f7f7f; text-decoration-color: #7f7f7f; background-color: #272822\">                                                                                          </span>\n",
       "<span style=\"color: #7f7f7f; text-decoration-color: #7f7f7f\">│       </span><span style=\"color: #fbfbf8; text-decoration-color: #fbfbf8; background-color: #272822\">  </span><span style=\"color: #fc92b8; text-decoration-color: #fc92b8; background-color: #272822\">_target_</span><span style=\"color: #fbfbf8; text-decoration-color: #fbfbf8; background-color: #272822\">: </span><span style=\"color: #7f7f7f; text-decoration-color: #7f7f7f; background-color: #272822\">pytorch_lightning.callbacks.ModelCheckpoint                                                    </span>\n",
       "<span style=\"color: #7f7f7f; text-decoration-color: #7f7f7f\">│       </span><span style=\"color: #fbfbf8; text-decoration-color: #fbfbf8; background-color: #272822\">  </span><span style=\"color: #fc92b8; text-decoration-color: #fc92b8; background-color: #272822\">monitor</span><span style=\"color: #fbfbf8; text-decoration-color: #fbfbf8; background-color: #272822\">: </span><span style=\"color: #7f7f7f; text-decoration-color: #7f7f7f; background-color: #272822\">val/Recall@3                                                                                    </span>\n",
       "<span style=\"color: #7f7f7f; text-decoration-color: #7f7f7f\">│       </span><span style=\"color: #fbfbf8; text-decoration-color: #fbfbf8; background-color: #272822\">  </span><span style=\"color: #fc92b8; text-decoration-color: #fc92b8; background-color: #272822\">mode</span><span style=\"color: #fbfbf8; text-decoration-color: #fbfbf8; background-color: #272822\">: </span><span style=\"color: #7f7f7f; text-decoration-color: #7f7f7f; background-color: #272822\">max                                                                                                </span>\n",
       "<span style=\"color: #7f7f7f; text-decoration-color: #7f7f7f\">│       </span><span style=\"color: #fbfbf8; text-decoration-color: #fbfbf8; background-color: #272822\">  </span><span style=\"color: #fc92b8; text-decoration-color: #fc92b8; background-color: #272822\">save_top_k</span><span style=\"color: #fbfbf8; text-decoration-color: #fbfbf8; background-color: #272822\">: </span><span style=\"color: #7f7f7f; text-decoration-color: #7f7f7f; background-color: #272822\">1                                                                                            </span>\n",
       "<span style=\"color: #7f7f7f; text-decoration-color: #7f7f7f\">│       </span><span style=\"color: #fbfbf8; text-decoration-color: #fbfbf8; background-color: #272822\">  </span><span style=\"color: #fc92b8; text-decoration-color: #fc92b8; background-color: #272822\">save_last</span><span style=\"color: #fbfbf8; text-decoration-color: #fbfbf8; background-color: #272822\">: </span><span style=\"color: #7f7f7f; text-decoration-color: #7f7f7f; background-color: #272822\">true                                                                                          </span>\n",
       "<span style=\"color: #7f7f7f; text-decoration-color: #7f7f7f\">│       </span><span style=\"color: #fbfbf8; text-decoration-color: #fbfbf8; background-color: #272822\">  </span><span style=\"color: #fc92b8; text-decoration-color: #fc92b8; background-color: #272822\">verbose</span><span style=\"color: #fbfbf8; text-decoration-color: #fbfbf8; background-color: #272822\">: </span><span style=\"color: #7f7f7f; text-decoration-color: #7f7f7f; background-color: #272822\">false                                                                                           </span>\n",
       "<span style=\"color: #7f7f7f; text-decoration-color: #7f7f7f\">│       </span><span style=\"color: #fbfbf8; text-decoration-color: #fbfbf8; background-color: #272822\">  </span><span style=\"color: #fc92b8; text-decoration-color: #fc92b8; background-color: #272822\">dirpath</span><span style=\"color: #fbfbf8; text-decoration-color: #fbfbf8; background-color: #272822\">: </span><span style=\"color: #7f7f7f; text-decoration-color: #7f7f7f; background-color: #272822\">checkpoints/                                                                                    </span>\n",
       "<span style=\"color: #7f7f7f; text-decoration-color: #7f7f7f\">│       </span><span style=\"color: #fbfbf8; text-decoration-color: #fbfbf8; background-color: #272822\">  </span><span style=\"color: #fc92b8; text-decoration-color: #fc92b8; background-color: #272822\">filename</span><span style=\"color: #fbfbf8; text-decoration-color: #fbfbf8; background-color: #272822\">: </span><span style=\"color: #7f7f7f; text-decoration-color: #7f7f7f; background-color: #272822\">epoch_{epoch:03d}                                                                              </span>\n",
       "<span style=\"color: #7f7f7f; text-decoration-color: #7f7f7f\">│       </span><span style=\"color: #fbfbf8; text-decoration-color: #fbfbf8; background-color: #272822\">  </span><span style=\"color: #fc92b8; text-decoration-color: #fc92b8; background-color: #272822\">auto_insert_metric_name</span><span style=\"color: #fbfbf8; text-decoration-color: #fbfbf8; background-color: #272822\">: </span><span style=\"color: #7f7f7f; text-decoration-color: #7f7f7f; background-color: #272822\">false                                                                           </span>\n",
       "<span style=\"color: #7f7f7f; text-decoration-color: #7f7f7f\">│       </span><span style=\"color: #fc92b8; text-decoration-color: #fc92b8; background-color: #272822\">early_stopping</span><span style=\"color: #fbfbf8; text-decoration-color: #fbfbf8; background-color: #272822\">:</span><span style=\"color: #7f7f7f; text-decoration-color: #7f7f7f; background-color: #272822\">                                                                                            </span>\n",
       "<span style=\"color: #7f7f7f; text-decoration-color: #7f7f7f\">│       </span><span style=\"color: #fbfbf8; text-decoration-color: #fbfbf8; background-color: #272822\">  </span><span style=\"color: #fc92b8; text-decoration-color: #fc92b8; background-color: #272822\">_target_</span><span style=\"color: #fbfbf8; text-decoration-color: #fbfbf8; background-color: #272822\">: </span><span style=\"color: #7f7f7f; text-decoration-color: #7f7f7f; background-color: #272822\">pytorch_lightning.callbacks.EarlyStopping                                                      </span>\n",
       "<span style=\"color: #7f7f7f; text-decoration-color: #7f7f7f\">│       </span><span style=\"color: #fbfbf8; text-decoration-color: #fbfbf8; background-color: #272822\">  </span><span style=\"color: #fc92b8; text-decoration-color: #fc92b8; background-color: #272822\">monitor</span><span style=\"color: #fbfbf8; text-decoration-color: #fbfbf8; background-color: #272822\">: </span><span style=\"color: #7f7f7f; text-decoration-color: #7f7f7f; background-color: #272822\">val/Recall@3                                                                                    </span>\n",
       "<span style=\"color: #7f7f7f; text-decoration-color: #7f7f7f\">│       </span><span style=\"color: #fbfbf8; text-decoration-color: #fbfbf8; background-color: #272822\">  </span><span style=\"color: #fc92b8; text-decoration-color: #fc92b8; background-color: #272822\">mode</span><span style=\"color: #fbfbf8; text-decoration-color: #fbfbf8; background-color: #272822\">: </span><span style=\"color: #7f7f7f; text-decoration-color: #7f7f7f; background-color: #272822\">max                                                                                                </span>\n",
       "<span style=\"color: #7f7f7f; text-decoration-color: #7f7f7f\">│       </span><span style=\"color: #fbfbf8; text-decoration-color: #fbfbf8; background-color: #272822\">  </span><span style=\"color: #fc92b8; text-decoration-color: #fc92b8; background-color: #272822\">patience</span><span style=\"color: #fbfbf8; text-decoration-color: #fbfbf8; background-color: #272822\">: </span><span style=\"color: #7f7f7f; text-decoration-color: #7f7f7f; background-color: #272822\">100                                                                                            </span>\n",
       "<span style=\"color: #7f7f7f; text-decoration-color: #7f7f7f\">│       </span><span style=\"color: #fbfbf8; text-decoration-color: #fbfbf8; background-color: #272822\">  </span><span style=\"color: #fc92b8; text-decoration-color: #fc92b8; background-color: #272822\">min_delta</span><span style=\"color: #fbfbf8; text-decoration-color: #fbfbf8; background-color: #272822\">: </span><span style=\"color: #7f7f7f; text-decoration-color: #7f7f7f; background-color: #272822\">0                                                                                             </span>\n",
       "<span style=\"color: #7f7f7f; text-decoration-color: #7f7f7f\">│       </span><span style=\"color: #fc92b8; text-decoration-color: #fc92b8; background-color: #272822\">model_summary</span><span style=\"color: #fbfbf8; text-decoration-color: #fbfbf8; background-color: #272822\">:</span><span style=\"color: #7f7f7f; text-decoration-color: #7f7f7f; background-color: #272822\">                                                                                             </span>\n",
       "<span style=\"color: #7f7f7f; text-decoration-color: #7f7f7f\">│       </span><span style=\"color: #fbfbf8; text-decoration-color: #fbfbf8; background-color: #272822\">  </span><span style=\"color: #fc92b8; text-decoration-color: #fc92b8; background-color: #272822\">_target_</span><span style=\"color: #fbfbf8; text-decoration-color: #fbfbf8; background-color: #272822\">: </span><span style=\"color: #7f7f7f; text-decoration-color: #7f7f7f; background-color: #272822\">pytorch_lightning.callbacks.RichModelSummary                                                   </span>\n",
       "<span style=\"color: #7f7f7f; text-decoration-color: #7f7f7f\">│       </span><span style=\"color: #fbfbf8; text-decoration-color: #fbfbf8; background-color: #272822\">  </span><span style=\"color: #fc92b8; text-decoration-color: #fc92b8; background-color: #272822\">max_depth</span><span style=\"color: #fbfbf8; text-decoration-color: #fbfbf8; background-color: #272822\">: </span><span style=\"color: #7f7f7f; text-decoration-color: #7f7f7f; background-color: #272822\">-1                                                                                            </span>\n",
       "<span style=\"color: #7f7f7f; text-decoration-color: #7f7f7f\">│       </span><span style=\"color: #fc92b8; text-decoration-color: #fc92b8; background-color: #272822\">rich_progress_bar</span><span style=\"color: #fbfbf8; text-decoration-color: #fbfbf8; background-color: #272822\">:</span><span style=\"color: #7f7f7f; text-decoration-color: #7f7f7f; background-color: #272822\">                                                                                         </span>\n",
       "<span style=\"color: #7f7f7f; text-decoration-color: #7f7f7f\">│       </span><span style=\"color: #fbfbf8; text-decoration-color: #fbfbf8; background-color: #272822\">  </span><span style=\"color: #fc92b8; text-decoration-color: #fc92b8; background-color: #272822\">_target_</span><span style=\"color: #fbfbf8; text-decoration-color: #fbfbf8; background-color: #272822\">: </span><span style=\"color: #7f7f7f; text-decoration-color: #7f7f7f; background-color: #272822\">pytorch_lightning.callbacks.RichProgressBar                                                    </span>\n",
       "<span style=\"color: #7f7f7f; text-decoration-color: #7f7f7f\">│       </span><span style=\"color: #7f7f7f; text-decoration-color: #7f7f7f; background-color: #272822\">                                                                                                           </span>\n",
       "<span style=\"color: #7f7f7f; text-decoration-color: #7f7f7f\">├── </span><span style=\"color: #7f7f7f; text-decoration-color: #7f7f7f\">logger</span>\n",
       "<span style=\"color: #7f7f7f; text-decoration-color: #7f7f7f\">│   └── </span><span style=\"color: #fc92b8; text-decoration-color: #fc92b8; background-color: #272822\">comet</span><span style=\"color: #fbfbf8; text-decoration-color: #fbfbf8; background-color: #272822\">:</span><span style=\"color: #7f7f7f; text-decoration-color: #7f7f7f; background-color: #272822\">                                                                                                     </span>\n",
       "<span style=\"color: #7f7f7f; text-decoration-color: #7f7f7f\">│       </span><span style=\"color: #fbfbf8; text-decoration-color: #fbfbf8; background-color: #272822\">  </span><span style=\"color: #fc92b8; text-decoration-color: #fc92b8; background-color: #272822\">_target_</span><span style=\"color: #fbfbf8; text-decoration-color: #fbfbf8; background-color: #272822\">: </span><span style=\"color: #7f7f7f; text-decoration-color: #7f7f7f; background-color: #272822\">pytorch_lightning.loggers.comet.CometLogger                                                    </span>\n",
       "<span style=\"color: #7f7f7f; text-decoration-color: #7f7f7f\">│       </span><span style=\"color: #fbfbf8; text-decoration-color: #fbfbf8; background-color: #272822\">  </span><span style=\"color: #fc92b8; text-decoration-color: #fc92b8; background-color: #272822\">api_key</span><span style=\"color: #fbfbf8; text-decoration-color: #fbfbf8; background-color: #272822\">: </span><span style=\"color: #7f7f7f; text-decoration-color: #7f7f7f; background-color: #272822\">XmlVuApoep6S65VSewQg3tRDp                                                                       </span>\n",
       "<span style=\"color: #7f7f7f; text-decoration-color: #7f7f7f\">│       </span><span style=\"color: #fbfbf8; text-decoration-color: #fbfbf8; background-color: #272822\">  </span><span style=\"color: #fc92b8; text-decoration-color: #fc92b8; background-color: #272822\">project_name</span><span style=\"color: #fbfbf8; text-decoration-color: #fbfbf8; background-color: #272822\">: </span><span style=\"color: #7f7f7f; text-decoration-color: #7f7f7f; background-color: #272822\">recsys                                                                                     </span>\n",
       "<span style=\"color: #7f7f7f; text-decoration-color: #7f7f7f\">│       </span><span style=\"color: #fbfbf8; text-decoration-color: #fbfbf8; background-color: #272822\">  </span><span style=\"color: #fc92b8; text-decoration-color: #fc92b8; background-color: #272822\">workspace</span><span style=\"color: #fbfbf8; text-decoration-color: #fbfbf8; background-color: #272822\">: </span><span style=\"color: #7f7f7f; text-decoration-color: #7f7f7f; background-color: #272822\">verdangeta                                                                                    </span>\n",
       "<span style=\"color: #7f7f7f; text-decoration-color: #7f7f7f\">│       </span><span style=\"color: #fbfbf8; text-decoration-color: #fbfbf8; background-color: #272822\">  </span><span style=\"color: #fc92b8; text-decoration-color: #fc92b8; background-color: #272822\">experiment_name</span><span style=\"color: #fbfbf8; text-decoration-color: #fbfbf8; background-color: #272822\">: </span><span style=\"color: #7f7f7f; text-decoration-color: #7f7f7f; background-color: #272822\">caser_santander_64                                                                      </span>\n",
       "<span style=\"color: #7f7f7f; text-decoration-color: #7f7f7f\">│       </span><span style=\"color: #7f7f7f; text-decoration-color: #7f7f7f; background-color: #272822\">                                                                                                           </span>\n",
       "<span style=\"color: #7f7f7f; text-decoration-color: #7f7f7f\">├── </span><span style=\"color: #7f7f7f; text-decoration-color: #7f7f7f\">trainer</span>\n",
       "<span style=\"color: #7f7f7f; text-decoration-color: #7f7f7f\">│   └── </span><span style=\"color: #fc92b8; text-decoration-color: #fc92b8; background-color: #272822\">_target_</span><span style=\"color: #fbfbf8; text-decoration-color: #fbfbf8; background-color: #272822\">: </span><span style=\"color: #7f7f7f; text-decoration-color: #7f7f7f; background-color: #272822\">pytorch_lightning.Trainer                                                                        </span>\n",
       "<span style=\"color: #7f7f7f; text-decoration-color: #7f7f7f\">│       </span><span style=\"color: #fc92b8; text-decoration-color: #fc92b8; background-color: #272822\">min_epochs</span><span style=\"color: #fbfbf8; text-decoration-color: #fbfbf8; background-color: #272822\">: </span><span style=\"color: #7f7f7f; text-decoration-color: #7f7f7f; background-color: #272822\">1                                                                                              </span>\n",
       "<span style=\"color: #7f7f7f; text-decoration-color: #7f7f7f\">│       </span><span style=\"color: #fc92b8; text-decoration-color: #fc92b8; background-color: #272822\">max_epochs</span><span style=\"color: #fbfbf8; text-decoration-color: #fbfbf8; background-color: #272822\">: </span><span style=\"color: #7f7f7f; text-decoration-color: #7f7f7f; background-color: #272822\">10                                                                                             </span>\n",
       "<span style=\"color: #7f7f7f; text-decoration-color: #7f7f7f\">│       </span><span style=\"color: #fc92b8; text-decoration-color: #fc92b8; background-color: #272822\">accelerator</span><span style=\"color: #fbfbf8; text-decoration-color: #fbfbf8; background-color: #272822\">: </span><span style=\"color: #7f7f7f; text-decoration-color: #7f7f7f; background-color: #272822\">cpu                                                                                           </span>\n",
       "<span style=\"color: #7f7f7f; text-decoration-color: #7f7f7f\">│       </span><span style=\"color: #7f7f7f; text-decoration-color: #7f7f7f; background-color: #272822\">                                                                                                           </span>\n",
       "<span style=\"color: #7f7f7f; text-decoration-color: #7f7f7f\">├── </span><span style=\"color: #7f7f7f; text-decoration-color: #7f7f7f\">original_work_dir</span>\n",
       "<span style=\"color: #7f7f7f; text-decoration-color: #7f7f7f\">│   └── </span><span style=\"color: #7f7f7f; text-decoration-color: #7f7f7f; background-color: #272822\">C:\\Users\\Skoltech\\Desktop\\RecSystemFinal\\Caser                                                             </span>\n",
       "<span style=\"color: #7f7f7f; text-decoration-color: #7f7f7f\">├── </span><span style=\"color: #7f7f7f; text-decoration-color: #7f7f7f\">data_dir</span>\n",
       "<span style=\"color: #7f7f7f; text-decoration-color: #7f7f7f\">│   └── </span><span style=\"color: #7f7f7f; text-decoration-color: #7f7f7f; background-color: #272822\">C:\\Users\\Skoltech\\Desktop\\RecSystemFinal\\Caser/data/                                                       </span>\n",
       "<span style=\"color: #7f7f7f; text-decoration-color: #7f7f7f\">├── </span><span style=\"color: #7f7f7f; text-decoration-color: #7f7f7f\">dataset_name</span>\n",
       "<span style=\"color: #7f7f7f; text-decoration-color: #7f7f7f\">│   └── </span><span style=\"color: #7f7f7f; text-decoration-color: #7f7f7f; background-color: #272822\">train_ver2.csv                                                                                             </span>\n",
       "<span style=\"color: #7f7f7f; text-decoration-color: #7f7f7f\">├── </span><span style=\"color: #7f7f7f; text-decoration-color: #7f7f7f\">dataset_name_test</span>\n",
       "<span style=\"color: #7f7f7f; text-decoration-color: #7f7f7f\">│   └── </span><span style=\"color: #7f7f7f; text-decoration-color: #7f7f7f; background-color: #272822\">train_ver2.csv                                                                                             </span>\n",
       "<span style=\"color: #7f7f7f; text-decoration-color: #7f7f7f\">├── </span><span style=\"color: #7f7f7f; text-decoration-color: #7f7f7f\">batch_size</span>\n",
       "<span style=\"color: #7f7f7f; text-decoration-color: #7f7f7f\">│   └── </span><span style=\"color: #7f7f7f; text-decoration-color: #7f7f7f; background-color: #272822\">64                                                                                                         </span>\n",
       "<span style=\"color: #7f7f7f; text-decoration-color: #7f7f7f\">├── </span><span style=\"color: #7f7f7f; text-decoration-color: #7f7f7f\">num_epochs</span>\n",
       "<span style=\"color: #7f7f7f; text-decoration-color: #7f7f7f\">│   └── </span><span style=\"color: #7f7f7f; text-decoration-color: #7f7f7f; background-color: #272822\">10                                                                                                         </span>\n",
       "<span style=\"color: #7f7f7f; text-decoration-color: #7f7f7f\">├── </span><span style=\"color: #7f7f7f; text-decoration-color: #7f7f7f\">print_config</span>\n",
       "<span style=\"color: #7f7f7f; text-decoration-color: #7f7f7f\">│   └── </span><span style=\"color: #7f7f7f; text-decoration-color: #7f7f7f; background-color: #272822\">True                                                                                                       </span>\n",
       "<span style=\"color: #7f7f7f; text-decoration-color: #7f7f7f\">├── </span><span style=\"color: #7f7f7f; text-decoration-color: #7f7f7f\">ignore_warnings</span>\n",
       "<span style=\"color: #7f7f7f; text-decoration-color: #7f7f7f\">│   └── </span><span style=\"color: #7f7f7f; text-decoration-color: #7f7f7f; background-color: #272822\">True                                                                                                       </span>\n",
       "<span style=\"color: #7f7f7f; text-decoration-color: #7f7f7f\">├── </span><span style=\"color: #7f7f7f; text-decoration-color: #7f7f7f\">train</span>\n",
       "<span style=\"color: #7f7f7f; text-decoration-color: #7f7f7f\">│   └── </span><span style=\"color: #7f7f7f; text-decoration-color: #7f7f7f; background-color: #272822\">True                                                                                                       </span>\n",
       "<span style=\"color: #7f7f7f; text-decoration-color: #7f7f7f\">├── </span><span style=\"color: #7f7f7f; text-decoration-color: #7f7f7f\">test</span>\n",
       "<span style=\"color: #7f7f7f; text-decoration-color: #7f7f7f\">│   └── </span><span style=\"color: #7f7f7f; text-decoration-color: #7f7f7f; background-color: #272822\">True                                                                                                       </span>\n",
       "<span style=\"color: #7f7f7f; text-decoration-color: #7f7f7f\">├── </span><span style=\"color: #7f7f7f; text-decoration-color: #7f7f7f\">seed</span>\n",
       "<span style=\"color: #7f7f7f; text-decoration-color: #7f7f7f\">│   └── </span><span style=\"color: #7f7f7f; text-decoration-color: #7f7f7f; background-color: #272822\">25                                                                                                         </span>\n",
       "<span style=\"color: #7f7f7f; text-decoration-color: #7f7f7f\">└── </span><span style=\"color: #7f7f7f; text-decoration-color: #7f7f7f\">name</span>\n",
       "<span style=\"color: #7f7f7f; text-decoration-color: #7f7f7f\">    └── </span><span style=\"color: #7f7f7f; text-decoration-color: #7f7f7f; background-color: #272822\">caser_santander_64                                                                                         </span>\n",
       "</pre>\n"
      ],
      "text/plain": [
       "\u001b[2mCONFIG\u001b[0m\n",
       "\u001b[2m├── \u001b[0m\u001b[2mdatamodule\u001b[0m\n",
       "\u001b[2m│   \u001b[0m\u001b[2m└── \u001b[0m\u001b[2;38;2;249;38;114;48;2;39;40;34m_target_\u001b[0m\u001b[2;38;2;248;248;242;48;2;39;40;34m:\u001b[0m\u001b[2;38;2;248;248;242;48;2;39;40;34m \u001b[0m\u001b[2;48;2;39;40;34msrc.datamodules.caser_datamodule.SantanderDataModule                                             \u001b[0m\n",
       "\u001b[2m│   \u001b[0m\u001b[2m    \u001b[0m\u001b[2;38;2;249;38;114;48;2;39;40;34mdata_dir\u001b[0m\u001b[2;38;2;248;248;242;48;2;39;40;34m:\u001b[0m\u001b[2;38;2;248;248;242;48;2;39;40;34m \u001b[0m\u001b[2;48;2;39;40;34mC:\\Users\\Skoltech\\Desktop\\RecSystemFinal\\Caser/data/                                             \u001b[0m\n",
       "\u001b[2m│   \u001b[0m\u001b[2m    \u001b[0m\u001b[2;38;2;249;38;114;48;2;39;40;34mdataset_name\u001b[0m\u001b[2;38;2;248;248;242;48;2;39;40;34m:\u001b[0m\u001b[2;38;2;248;248;242;48;2;39;40;34m \u001b[0m\u001b[2;48;2;39;40;34mtrain_ver2.csv                                                                               \u001b[0m\n",
       "\u001b[2m│   \u001b[0m\u001b[2m    \u001b[0m\u001b[2;38;2;249;38;114;48;2;39;40;34mdataset_name_test\u001b[0m\u001b[2;38;2;248;248;242;48;2;39;40;34m:\u001b[0m\u001b[2;38;2;248;248;242;48;2;39;40;34m \u001b[0m\u001b[2;48;2;39;40;34mtrain_ver2.csv                                                                          \u001b[0m\n",
       "\u001b[2m│   \u001b[0m\u001b[2m    \u001b[0m\u001b[2;38;2;249;38;114;48;2;39;40;34mbatch_size\u001b[0m\u001b[2;38;2;248;248;242;48;2;39;40;34m:\u001b[0m\u001b[2;38;2;248;248;242;48;2;39;40;34m \u001b[0m\u001b[2;48;2;39;40;34m64                                                                                             \u001b[0m\n",
       "\u001b[2m│   \u001b[0m\u001b[2m    \u001b[0m\u001b[2;38;2;249;38;114;48;2;39;40;34mnum_workers\u001b[0m\u001b[2;38;2;248;248;242;48;2;39;40;34m:\u001b[0m\u001b[2;38;2;248;248;242;48;2;39;40;34m \u001b[0m\u001b[2;48;2;39;40;34m0                                                                                             \u001b[0m\n",
       "\u001b[2m│   \u001b[0m\u001b[2m    \u001b[0m\u001b[2;38;2;249;38;114;48;2;39;40;34mpin_memory\u001b[0m\u001b[2;38;2;248;248;242;48;2;39;40;34m:\u001b[0m\u001b[2;38;2;248;248;242;48;2;39;40;34m \u001b[0m\u001b[2;48;2;39;40;34mfalse                                                                                          \u001b[0m\n",
       "\u001b[2m│   \u001b[0m\u001b[2m    \u001b[0m\u001b[2;38;2;249;38;114;48;2;39;40;34msample_size\u001b[0m\u001b[2;38;2;248;248;242;48;2;39;40;34m:\u001b[0m\u001b[2;38;2;248;248;242;48;2;39;40;34m \u001b[0m\u001b[2;48;2;39;40;34m2000                                                                                          \u001b[0m\n",
       "\u001b[2m│   \u001b[0m\u001b[2m    \u001b[0m\u001b[2;38;2;249;38;114;48;2;39;40;34mmin_data_points\u001b[0m\u001b[2;38;2;248;248;242;48;2;39;40;34m:\u001b[0m\u001b[2;38;2;248;248;242;48;2;39;40;34m \u001b[0m\u001b[2;48;2;39;40;34m17                                                                                        \u001b[0m\n",
       "\u001b[2m│   \u001b[0m\u001b[2m    \u001b[0m\u001b[2;38;2;249;38;114;48;2;39;40;34mseed\u001b[0m\u001b[2;38;2;248;248;242;48;2;39;40;34m:\u001b[0m\u001b[2;38;2;248;248;242;48;2;39;40;34m \u001b[0m\u001b[2;48;2;39;40;34m0                                                                                                    \u001b[0m\n",
       "\u001b[2m│   \u001b[0m\u001b[2m    \u001b[0m\u001b[2;38;2;249;38;114;48;2;39;40;34msequence_length\u001b[0m\u001b[2;38;2;248;248;242;48;2;39;40;34m:\u001b[0m\u001b[2;38;2;248;248;242;48;2;39;40;34m \u001b[0m\u001b[2;48;2;39;40;34m5                                                                                         \u001b[0m\n",
       "\u001b[2m│   \u001b[0m\u001b[2m    \u001b[0m\u001b[2;38;2;249;38;114;48;2;39;40;34mtarget_length\u001b[0m\u001b[2;38;2;248;248;242;48;2;39;40;34m:\u001b[0m\u001b[2;38;2;248;248;242;48;2;39;40;34m \u001b[0m\u001b[2;48;2;39;40;34m1                                                                                           \u001b[0m\n",
       "\u001b[2m│   \u001b[0m\u001b[2m    \u001b[0m\u001b[2;38;2;249;38;114;48;2;39;40;34mneg_samples\u001b[0m\u001b[2;38;2;248;248;242;48;2;39;40;34m:\u001b[0m\u001b[2;38;2;248;248;242;48;2;39;40;34m \u001b[0m\u001b[2;48;2;39;40;34m3                                                                                             \u001b[0m\n",
       "\u001b[2m│   \u001b[0m\u001b[2m    \u001b[0m\u001b[2;48;2;39;40;34m                                                                                                           \u001b[0m\n",
       "\u001b[2m├── \u001b[0m\u001b[2mmodel\u001b[0m\n",
       "\u001b[2m│   \u001b[0m\u001b[2m└── \u001b[0m\u001b[2;38;2;249;38;114;48;2;39;40;34m_target_\u001b[0m\u001b[2;38;2;248;248;242;48;2;39;40;34m:\u001b[0m\u001b[2;38;2;248;248;242;48;2;39;40;34m \u001b[0m\u001b[2;48;2;39;40;34msrc.models.caser.CaserModel                                                                      \u001b[0m\n",
       "\u001b[2m│   \u001b[0m\u001b[2m    \u001b[0m\u001b[2;38;2;249;38;114;48;2;39;40;34mdata_dir\u001b[0m\u001b[2;38;2;248;248;242;48;2;39;40;34m:\u001b[0m\u001b[2;38;2;248;248;242;48;2;39;40;34m \u001b[0m\u001b[2;48;2;39;40;34mC:\\Users\\Skoltech\\Desktop\\RecSystemFinal\\Caser/data/                                             \u001b[0m\n",
       "\u001b[2m│   \u001b[0m\u001b[2m    \u001b[0m\u001b[2;38;2;249;38;114;48;2;39;40;34mdataset_name\u001b[0m\u001b[2;38;2;248;248;242;48;2;39;40;34m:\u001b[0m\u001b[2;38;2;248;248;242;48;2;39;40;34m \u001b[0m\u001b[2;48;2;39;40;34mtrain_ver2.csv                                                                               \u001b[0m\n",
       "\u001b[2m│   \u001b[0m\u001b[2m    \u001b[0m\u001b[2;38;2;249;38;114;48;2;39;40;34mdataset_name_test\u001b[0m\u001b[2;38;2;248;248;242;48;2;39;40;34m:\u001b[0m\u001b[2;38;2;248;248;242;48;2;39;40;34m \u001b[0m\u001b[2;48;2;39;40;34mtrain_ver2.csv                                                                          \u001b[0m\n",
       "\u001b[2m│   \u001b[0m\u001b[2m    \u001b[0m\u001b[2;38;2;249;38;114;48;2;39;40;34mL\u001b[0m\u001b[2;38;2;248;248;242;48;2;39;40;34m:\u001b[0m\u001b[2;38;2;248;248;242;48;2;39;40;34m \u001b[0m\u001b[2;48;2;39;40;34m5                                                                                                       \u001b[0m\n",
       "\u001b[2m│   \u001b[0m\u001b[2m    \u001b[0m\u001b[2;38;2;249;38;114;48;2;39;40;34md\u001b[0m\u001b[2;38;2;248;248;242;48;2;39;40;34m:\u001b[0m\u001b[2;38;2;248;248;242;48;2;39;40;34m \u001b[0m\u001b[2;48;2;39;40;34m50                                                                                                      \u001b[0m\n",
       "\u001b[2m│   \u001b[0m\u001b[2m    \u001b[0m\u001b[2;38;2;249;38;114;48;2;39;40;34mnh\u001b[0m\u001b[2;38;2;248;248;242;48;2;39;40;34m:\u001b[0m\u001b[2;38;2;248;248;242;48;2;39;40;34m \u001b[0m\u001b[2;48;2;39;40;34m16                                                                                                     \u001b[0m\n",
       "\u001b[2m│   \u001b[0m\u001b[2m    \u001b[0m\u001b[2;38;2;249;38;114;48;2;39;40;34mnv\u001b[0m\u001b[2;38;2;248;248;242;48;2;39;40;34m:\u001b[0m\u001b[2;38;2;248;248;242;48;2;39;40;34m \u001b[0m\u001b[2;48;2;39;40;34m4                                                                                                      \u001b[0m\n",
       "\u001b[2m│   \u001b[0m\u001b[2m    \u001b[0m\u001b[2;38;2;249;38;114;48;2;39;40;34mdrop\u001b[0m\u001b[2;38;2;248;248;242;48;2;39;40;34m:\u001b[0m\u001b[2;38;2;248;248;242;48;2;39;40;34m \u001b[0m\u001b[2;48;2;39;40;34m0.5                                                                                                  \u001b[0m\n",
       "\u001b[2m│   \u001b[0m\u001b[2m    \u001b[0m\u001b[2;38;2;249;38;114;48;2;39;40;34mac_conv\u001b[0m\u001b[2;38;2;248;248;242;48;2;39;40;34m:\u001b[0m\u001b[2;38;2;248;248;242;48;2;39;40;34m \u001b[0m\u001b[2;48;2;39;40;34mrelu                                                                                              \u001b[0m\n",
       "\u001b[2m│   \u001b[0m\u001b[2m    \u001b[0m\u001b[2;38;2;249;38;114;48;2;39;40;34mac_fc\u001b[0m\u001b[2;38;2;248;248;242;48;2;39;40;34m:\u001b[0m\u001b[2;38;2;248;248;242;48;2;39;40;34m \u001b[0m\u001b[2;48;2;39;40;34mrelu                                                                                                \u001b[0m\n",
       "\u001b[2m│   \u001b[0m\u001b[2m    \u001b[0m\u001b[2;38;2;249;38;114;48;2;39;40;34ml2\u001b[0m\u001b[2;38;2;248;248;242;48;2;39;40;34m:\u001b[0m\u001b[2;38;2;248;248;242;48;2;39;40;34m \u001b[0m\u001b[2;48;2;39;40;34m1.0e-06                                                                                                \u001b[0m\n",
       "\u001b[2m│   \u001b[0m\u001b[2m    \u001b[0m\u001b[2;38;2;249;38;114;48;2;39;40;34mlearning_rate\u001b[0m\u001b[2;38;2;248;248;242;48;2;39;40;34m:\u001b[0m\u001b[2;38;2;248;248;242;48;2;39;40;34m \u001b[0m\u001b[2;48;2;39;40;34m0.001                                                                                       \u001b[0m\n",
       "\u001b[2m│   \u001b[0m\u001b[2m    \u001b[0m\u001b[2;48;2;39;40;34m                                                                                                           \u001b[0m\n",
       "\u001b[2m├── \u001b[0m\u001b[2mcallbacks\u001b[0m\n",
       "\u001b[2m│   \u001b[0m\u001b[2m└── \u001b[0m\u001b[2;38;2;249;38;114;48;2;39;40;34mmodel_checkpoint\u001b[0m\u001b[2;38;2;248;248;242;48;2;39;40;34m:\u001b[0m\u001b[2;48;2;39;40;34m                                                                                          \u001b[0m\n",
       "\u001b[2m│   \u001b[0m\u001b[2m    \u001b[0m\u001b[2;38;2;248;248;242;48;2;39;40;34m  \u001b[0m\u001b[2;38;2;249;38;114;48;2;39;40;34m_target_\u001b[0m\u001b[2;38;2;248;248;242;48;2;39;40;34m:\u001b[0m\u001b[2;38;2;248;248;242;48;2;39;40;34m \u001b[0m\u001b[2;48;2;39;40;34mpytorch_lightning.callbacks.ModelCheckpoint                                                    \u001b[0m\n",
       "\u001b[2m│   \u001b[0m\u001b[2m    \u001b[0m\u001b[2;38;2;248;248;242;48;2;39;40;34m  \u001b[0m\u001b[2;38;2;249;38;114;48;2;39;40;34mmonitor\u001b[0m\u001b[2;38;2;248;248;242;48;2;39;40;34m:\u001b[0m\u001b[2;38;2;248;248;242;48;2;39;40;34m \u001b[0m\u001b[2;48;2;39;40;34mval/Recall@3                                                                                    \u001b[0m\n",
       "\u001b[2m│   \u001b[0m\u001b[2m    \u001b[0m\u001b[2;38;2;248;248;242;48;2;39;40;34m  \u001b[0m\u001b[2;38;2;249;38;114;48;2;39;40;34mmode\u001b[0m\u001b[2;38;2;248;248;242;48;2;39;40;34m:\u001b[0m\u001b[2;38;2;248;248;242;48;2;39;40;34m \u001b[0m\u001b[2;48;2;39;40;34mmax                                                                                                \u001b[0m\n",
       "\u001b[2m│   \u001b[0m\u001b[2m    \u001b[0m\u001b[2;38;2;248;248;242;48;2;39;40;34m  \u001b[0m\u001b[2;38;2;249;38;114;48;2;39;40;34msave_top_k\u001b[0m\u001b[2;38;2;248;248;242;48;2;39;40;34m:\u001b[0m\u001b[2;38;2;248;248;242;48;2;39;40;34m \u001b[0m\u001b[2;48;2;39;40;34m1                                                                                            \u001b[0m\n",
       "\u001b[2m│   \u001b[0m\u001b[2m    \u001b[0m\u001b[2;38;2;248;248;242;48;2;39;40;34m  \u001b[0m\u001b[2;38;2;249;38;114;48;2;39;40;34msave_last\u001b[0m\u001b[2;38;2;248;248;242;48;2;39;40;34m:\u001b[0m\u001b[2;38;2;248;248;242;48;2;39;40;34m \u001b[0m\u001b[2;48;2;39;40;34mtrue                                                                                          \u001b[0m\n",
       "\u001b[2m│   \u001b[0m\u001b[2m    \u001b[0m\u001b[2;38;2;248;248;242;48;2;39;40;34m  \u001b[0m\u001b[2;38;2;249;38;114;48;2;39;40;34mverbose\u001b[0m\u001b[2;38;2;248;248;242;48;2;39;40;34m:\u001b[0m\u001b[2;38;2;248;248;242;48;2;39;40;34m \u001b[0m\u001b[2;48;2;39;40;34mfalse                                                                                           \u001b[0m\n",
       "\u001b[2m│   \u001b[0m\u001b[2m    \u001b[0m\u001b[2;38;2;248;248;242;48;2;39;40;34m  \u001b[0m\u001b[2;38;2;249;38;114;48;2;39;40;34mdirpath\u001b[0m\u001b[2;38;2;248;248;242;48;2;39;40;34m:\u001b[0m\u001b[2;38;2;248;248;242;48;2;39;40;34m \u001b[0m\u001b[2;48;2;39;40;34mcheckpoints/                                                                                    \u001b[0m\n",
       "\u001b[2m│   \u001b[0m\u001b[2m    \u001b[0m\u001b[2;38;2;248;248;242;48;2;39;40;34m  \u001b[0m\u001b[2;38;2;249;38;114;48;2;39;40;34mfilename\u001b[0m\u001b[2;38;2;248;248;242;48;2;39;40;34m:\u001b[0m\u001b[2;38;2;248;248;242;48;2;39;40;34m \u001b[0m\u001b[2;48;2;39;40;34mepoch_{epoch:03d}                                                                              \u001b[0m\n",
       "\u001b[2m│   \u001b[0m\u001b[2m    \u001b[0m\u001b[2;38;2;248;248;242;48;2;39;40;34m  \u001b[0m\u001b[2;38;2;249;38;114;48;2;39;40;34mauto_insert_metric_name\u001b[0m\u001b[2;38;2;248;248;242;48;2;39;40;34m:\u001b[0m\u001b[2;38;2;248;248;242;48;2;39;40;34m \u001b[0m\u001b[2;48;2;39;40;34mfalse                                                                           \u001b[0m\n",
       "\u001b[2m│   \u001b[0m\u001b[2m    \u001b[0m\u001b[2;38;2;249;38;114;48;2;39;40;34mearly_stopping\u001b[0m\u001b[2;38;2;248;248;242;48;2;39;40;34m:\u001b[0m\u001b[2;48;2;39;40;34m                                                                                            \u001b[0m\n",
       "\u001b[2m│   \u001b[0m\u001b[2m    \u001b[0m\u001b[2;38;2;248;248;242;48;2;39;40;34m  \u001b[0m\u001b[2;38;2;249;38;114;48;2;39;40;34m_target_\u001b[0m\u001b[2;38;2;248;248;242;48;2;39;40;34m:\u001b[0m\u001b[2;38;2;248;248;242;48;2;39;40;34m \u001b[0m\u001b[2;48;2;39;40;34mpytorch_lightning.callbacks.EarlyStopping                                                      \u001b[0m\n",
       "\u001b[2m│   \u001b[0m\u001b[2m    \u001b[0m\u001b[2;38;2;248;248;242;48;2;39;40;34m  \u001b[0m\u001b[2;38;2;249;38;114;48;2;39;40;34mmonitor\u001b[0m\u001b[2;38;2;248;248;242;48;2;39;40;34m:\u001b[0m\u001b[2;38;2;248;248;242;48;2;39;40;34m \u001b[0m\u001b[2;48;2;39;40;34mval/Recall@3                                                                                    \u001b[0m\n",
       "\u001b[2m│   \u001b[0m\u001b[2m    \u001b[0m\u001b[2;38;2;248;248;242;48;2;39;40;34m  \u001b[0m\u001b[2;38;2;249;38;114;48;2;39;40;34mmode\u001b[0m\u001b[2;38;2;248;248;242;48;2;39;40;34m:\u001b[0m\u001b[2;38;2;248;248;242;48;2;39;40;34m \u001b[0m\u001b[2;48;2;39;40;34mmax                                                                                                \u001b[0m\n",
       "\u001b[2m│   \u001b[0m\u001b[2m    \u001b[0m\u001b[2;38;2;248;248;242;48;2;39;40;34m  \u001b[0m\u001b[2;38;2;249;38;114;48;2;39;40;34mpatience\u001b[0m\u001b[2;38;2;248;248;242;48;2;39;40;34m:\u001b[0m\u001b[2;38;2;248;248;242;48;2;39;40;34m \u001b[0m\u001b[2;48;2;39;40;34m100                                                                                            \u001b[0m\n",
       "\u001b[2m│   \u001b[0m\u001b[2m    \u001b[0m\u001b[2;38;2;248;248;242;48;2;39;40;34m  \u001b[0m\u001b[2;38;2;249;38;114;48;2;39;40;34mmin_delta\u001b[0m\u001b[2;38;2;248;248;242;48;2;39;40;34m:\u001b[0m\u001b[2;38;2;248;248;242;48;2;39;40;34m \u001b[0m\u001b[2;48;2;39;40;34m0                                                                                             \u001b[0m\n",
       "\u001b[2m│   \u001b[0m\u001b[2m    \u001b[0m\u001b[2;38;2;249;38;114;48;2;39;40;34mmodel_summary\u001b[0m\u001b[2;38;2;248;248;242;48;2;39;40;34m:\u001b[0m\u001b[2;48;2;39;40;34m                                                                                             \u001b[0m\n",
       "\u001b[2m│   \u001b[0m\u001b[2m    \u001b[0m\u001b[2;38;2;248;248;242;48;2;39;40;34m  \u001b[0m\u001b[2;38;2;249;38;114;48;2;39;40;34m_target_\u001b[0m\u001b[2;38;2;248;248;242;48;2;39;40;34m:\u001b[0m\u001b[2;38;2;248;248;242;48;2;39;40;34m \u001b[0m\u001b[2;48;2;39;40;34mpytorch_lightning.callbacks.RichModelSummary                                                   \u001b[0m\n",
       "\u001b[2m│   \u001b[0m\u001b[2m    \u001b[0m\u001b[2;38;2;248;248;242;48;2;39;40;34m  \u001b[0m\u001b[2;38;2;249;38;114;48;2;39;40;34mmax_depth\u001b[0m\u001b[2;38;2;248;248;242;48;2;39;40;34m:\u001b[0m\u001b[2;38;2;248;248;242;48;2;39;40;34m \u001b[0m\u001b[2;48;2;39;40;34m-1                                                                                            \u001b[0m\n",
       "\u001b[2m│   \u001b[0m\u001b[2m    \u001b[0m\u001b[2;38;2;249;38;114;48;2;39;40;34mrich_progress_bar\u001b[0m\u001b[2;38;2;248;248;242;48;2;39;40;34m:\u001b[0m\u001b[2;48;2;39;40;34m                                                                                         \u001b[0m\n",
       "\u001b[2m│   \u001b[0m\u001b[2m    \u001b[0m\u001b[2;38;2;248;248;242;48;2;39;40;34m  \u001b[0m\u001b[2;38;2;249;38;114;48;2;39;40;34m_target_\u001b[0m\u001b[2;38;2;248;248;242;48;2;39;40;34m:\u001b[0m\u001b[2;38;2;248;248;242;48;2;39;40;34m \u001b[0m\u001b[2;48;2;39;40;34mpytorch_lightning.callbacks.RichProgressBar                                                    \u001b[0m\n",
       "\u001b[2m│   \u001b[0m\u001b[2m    \u001b[0m\u001b[2;48;2;39;40;34m                                                                                                           \u001b[0m\n",
       "\u001b[2m├── \u001b[0m\u001b[2mlogger\u001b[0m\n",
       "\u001b[2m│   \u001b[0m\u001b[2m└── \u001b[0m\u001b[2;38;2;249;38;114;48;2;39;40;34mcomet\u001b[0m\u001b[2;38;2;248;248;242;48;2;39;40;34m:\u001b[0m\u001b[2;48;2;39;40;34m                                                                                                     \u001b[0m\n",
       "\u001b[2m│   \u001b[0m\u001b[2m    \u001b[0m\u001b[2;38;2;248;248;242;48;2;39;40;34m  \u001b[0m\u001b[2;38;2;249;38;114;48;2;39;40;34m_target_\u001b[0m\u001b[2;38;2;248;248;242;48;2;39;40;34m:\u001b[0m\u001b[2;38;2;248;248;242;48;2;39;40;34m \u001b[0m\u001b[2;48;2;39;40;34mpytorch_lightning.loggers.comet.CometLogger                                                    \u001b[0m\n",
       "\u001b[2m│   \u001b[0m\u001b[2m    \u001b[0m\u001b[2;38;2;248;248;242;48;2;39;40;34m  \u001b[0m\u001b[2;38;2;249;38;114;48;2;39;40;34mapi_key\u001b[0m\u001b[2;38;2;248;248;242;48;2;39;40;34m:\u001b[0m\u001b[2;38;2;248;248;242;48;2;39;40;34m \u001b[0m\u001b[2;48;2;39;40;34mXmlVuApoep6S65VSewQg3tRDp                                                                       \u001b[0m\n",
       "\u001b[2m│   \u001b[0m\u001b[2m    \u001b[0m\u001b[2;38;2;248;248;242;48;2;39;40;34m  \u001b[0m\u001b[2;38;2;249;38;114;48;2;39;40;34mproject_name\u001b[0m\u001b[2;38;2;248;248;242;48;2;39;40;34m:\u001b[0m\u001b[2;38;2;248;248;242;48;2;39;40;34m \u001b[0m\u001b[2;48;2;39;40;34mrecsys                                                                                     \u001b[0m\n",
       "\u001b[2m│   \u001b[0m\u001b[2m    \u001b[0m\u001b[2;38;2;248;248;242;48;2;39;40;34m  \u001b[0m\u001b[2;38;2;249;38;114;48;2;39;40;34mworkspace\u001b[0m\u001b[2;38;2;248;248;242;48;2;39;40;34m:\u001b[0m\u001b[2;38;2;248;248;242;48;2;39;40;34m \u001b[0m\u001b[2;48;2;39;40;34mverdangeta                                                                                    \u001b[0m\n",
       "\u001b[2m│   \u001b[0m\u001b[2m    \u001b[0m\u001b[2;38;2;248;248;242;48;2;39;40;34m  \u001b[0m\u001b[2;38;2;249;38;114;48;2;39;40;34mexperiment_name\u001b[0m\u001b[2;38;2;248;248;242;48;2;39;40;34m:\u001b[0m\u001b[2;38;2;248;248;242;48;2;39;40;34m \u001b[0m\u001b[2;48;2;39;40;34mcaser_santander_64                                                                      \u001b[0m\n",
       "\u001b[2m│   \u001b[0m\u001b[2m    \u001b[0m\u001b[2;48;2;39;40;34m                                                                                                           \u001b[0m\n",
       "\u001b[2m├── \u001b[0m\u001b[2mtrainer\u001b[0m\n",
       "\u001b[2m│   \u001b[0m\u001b[2m└── \u001b[0m\u001b[2;38;2;249;38;114;48;2;39;40;34m_target_\u001b[0m\u001b[2;38;2;248;248;242;48;2;39;40;34m:\u001b[0m\u001b[2;38;2;248;248;242;48;2;39;40;34m \u001b[0m\u001b[2;48;2;39;40;34mpytorch_lightning.Trainer                                                                        \u001b[0m\n",
       "\u001b[2m│   \u001b[0m\u001b[2m    \u001b[0m\u001b[2;38;2;249;38;114;48;2;39;40;34mmin_epochs\u001b[0m\u001b[2;38;2;248;248;242;48;2;39;40;34m:\u001b[0m\u001b[2;38;2;248;248;242;48;2;39;40;34m \u001b[0m\u001b[2;48;2;39;40;34m1                                                                                              \u001b[0m\n",
       "\u001b[2m│   \u001b[0m\u001b[2m    \u001b[0m\u001b[2;38;2;249;38;114;48;2;39;40;34mmax_epochs\u001b[0m\u001b[2;38;2;248;248;242;48;2;39;40;34m:\u001b[0m\u001b[2;38;2;248;248;242;48;2;39;40;34m \u001b[0m\u001b[2;48;2;39;40;34m10                                                                                             \u001b[0m\n",
       "\u001b[2m│   \u001b[0m\u001b[2m    \u001b[0m\u001b[2;38;2;249;38;114;48;2;39;40;34maccelerator\u001b[0m\u001b[2;38;2;248;248;242;48;2;39;40;34m:\u001b[0m\u001b[2;38;2;248;248;242;48;2;39;40;34m \u001b[0m\u001b[2;48;2;39;40;34mcpu                                                                                           \u001b[0m\n",
       "\u001b[2m│   \u001b[0m\u001b[2m    \u001b[0m\u001b[2;48;2;39;40;34m                                                                                                           \u001b[0m\n",
       "\u001b[2m├── \u001b[0m\u001b[2moriginal_work_dir\u001b[0m\n",
       "\u001b[2m│   \u001b[0m\u001b[2m└── \u001b[0m\u001b[2;48;2;39;40;34mC:\\Users\\Skoltech\\Desktop\\RecSystemFinal\\Caser                                                             \u001b[0m\n",
       "\u001b[2m├── \u001b[0m\u001b[2mdata_dir\u001b[0m\n",
       "\u001b[2m│   \u001b[0m\u001b[2m└── \u001b[0m\u001b[2;48;2;39;40;34mC:\\Users\\Skoltech\\Desktop\\RecSystemFinal\\Caser/data/                                                       \u001b[0m\n",
       "\u001b[2m├── \u001b[0m\u001b[2mdataset_name\u001b[0m\n",
       "\u001b[2m│   \u001b[0m\u001b[2m└── \u001b[0m\u001b[2;48;2;39;40;34mtrain_ver2.csv                                                                                             \u001b[0m\n",
       "\u001b[2m├── \u001b[0m\u001b[2mdataset_name_test\u001b[0m\n",
       "\u001b[2m│   \u001b[0m\u001b[2m└── \u001b[0m\u001b[2;48;2;39;40;34mtrain_ver2.csv                                                                                             \u001b[0m\n",
       "\u001b[2m├── \u001b[0m\u001b[2mbatch_size\u001b[0m\n",
       "\u001b[2m│   \u001b[0m\u001b[2m└── \u001b[0m\u001b[2;48;2;39;40;34m64                                                                                                         \u001b[0m\n",
       "\u001b[2m├── \u001b[0m\u001b[2mnum_epochs\u001b[0m\n",
       "\u001b[2m│   \u001b[0m\u001b[2m└── \u001b[0m\u001b[2;48;2;39;40;34m10                                                                                                         \u001b[0m\n",
       "\u001b[2m├── \u001b[0m\u001b[2mprint_config\u001b[0m\n",
       "\u001b[2m│   \u001b[0m\u001b[2m└── \u001b[0m\u001b[2;48;2;39;40;34mTrue                                                                                                       \u001b[0m\n",
       "\u001b[2m├── \u001b[0m\u001b[2mignore_warnings\u001b[0m\n",
       "\u001b[2m│   \u001b[0m\u001b[2m└── \u001b[0m\u001b[2;48;2;39;40;34mTrue                                                                                                       \u001b[0m\n",
       "\u001b[2m├── \u001b[0m\u001b[2mtrain\u001b[0m\n",
       "\u001b[2m│   \u001b[0m\u001b[2m└── \u001b[0m\u001b[2;48;2;39;40;34mTrue                                                                                                       \u001b[0m\n",
       "\u001b[2m├── \u001b[0m\u001b[2mtest\u001b[0m\n",
       "\u001b[2m│   \u001b[0m\u001b[2m└── \u001b[0m\u001b[2;48;2;39;40;34mTrue                                                                                                       \u001b[0m\n",
       "\u001b[2m├── \u001b[0m\u001b[2mseed\u001b[0m\n",
       "\u001b[2m│   \u001b[0m\u001b[2m└── \u001b[0m\u001b[2;48;2;39;40;34m25                                                                                                         \u001b[0m\n",
       "\u001b[2m└── \u001b[0m\u001b[2mname\u001b[0m\n",
       "\u001b[2m    \u001b[0m\u001b[2m└── \u001b[0m\u001b[2;48;2;39;40;34mcaser_santander_64                                                                                         \u001b[0m\n"
      ]
     },
     "metadata": {},
     "output_type": "display_data"
    },
    {
     "data": {
      "text/html": [
       "<pre style=\"white-space:pre;overflow-x:auto;line-height:normal;font-family:Menlo,'DejaVu Sans Mono',consolas,'Courier New',monospace\"><span style=\"color: #7f7f7f; text-decoration-color: #7f7f7f\">CONFIG</span>\n",
       "<span style=\"color: #7f7f7f; text-decoration-color: #7f7f7f\">+-- </span><span style=\"color: #7f7f7f; text-decoration-color: #7f7f7f\">datamodule</span>\n",
       "<span style=\"color: #7f7f7f; text-decoration-color: #7f7f7f\">|   `-- </span><span style=\"color: #fc92b8; text-decoration-color: #fc92b8; background-color: #272822\">_target_</span><span style=\"color: #fbfbf8; text-decoration-color: #fbfbf8; background-color: #272822\">: </span><span style=\"color: #7f7f7f; text-decoration-color: #7f7f7f; background-color: #272822\">src.datamodules.caser_datamodule.SantanderDataModule                                             </span>\n",
       "<span style=\"color: #7f7f7f; text-decoration-color: #7f7f7f\">|       </span><span style=\"color: #fc92b8; text-decoration-color: #fc92b8; background-color: #272822\">data_dir</span><span style=\"color: #fbfbf8; text-decoration-color: #fbfbf8; background-color: #272822\">: </span><span style=\"color: #7f7f7f; text-decoration-color: #7f7f7f; background-color: #272822\">C:\\Users\\Skoltech\\Desktop\\RecSystemFinal\\Caser/data/                                             </span>\n",
       "<span style=\"color: #7f7f7f; text-decoration-color: #7f7f7f\">|       </span><span style=\"color: #fc92b8; text-decoration-color: #fc92b8; background-color: #272822\">dataset_name</span><span style=\"color: #fbfbf8; text-decoration-color: #fbfbf8; background-color: #272822\">: </span><span style=\"color: #7f7f7f; text-decoration-color: #7f7f7f; background-color: #272822\">train_ver2.csv                                                                               </span>\n",
       "<span style=\"color: #7f7f7f; text-decoration-color: #7f7f7f\">|       </span><span style=\"color: #fc92b8; text-decoration-color: #fc92b8; background-color: #272822\">dataset_name_test</span><span style=\"color: #fbfbf8; text-decoration-color: #fbfbf8; background-color: #272822\">: </span><span style=\"color: #7f7f7f; text-decoration-color: #7f7f7f; background-color: #272822\">train_ver2.csv                                                                          </span>\n",
       "<span style=\"color: #7f7f7f; text-decoration-color: #7f7f7f\">|       </span><span style=\"color: #fc92b8; text-decoration-color: #fc92b8; background-color: #272822\">batch_size</span><span style=\"color: #fbfbf8; text-decoration-color: #fbfbf8; background-color: #272822\">: </span><span style=\"color: #7f7f7f; text-decoration-color: #7f7f7f; background-color: #272822\">64                                                                                             </span>\n",
       "<span style=\"color: #7f7f7f; text-decoration-color: #7f7f7f\">|       </span><span style=\"color: #fc92b8; text-decoration-color: #fc92b8; background-color: #272822\">num_workers</span><span style=\"color: #fbfbf8; text-decoration-color: #fbfbf8; background-color: #272822\">: </span><span style=\"color: #7f7f7f; text-decoration-color: #7f7f7f; background-color: #272822\">0                                                                                             </span>\n",
       "<span style=\"color: #7f7f7f; text-decoration-color: #7f7f7f\">|       </span><span style=\"color: #fc92b8; text-decoration-color: #fc92b8; background-color: #272822\">pin_memory</span><span style=\"color: #fbfbf8; text-decoration-color: #fbfbf8; background-color: #272822\">: </span><span style=\"color: #7f7f7f; text-decoration-color: #7f7f7f; background-color: #272822\">false                                                                                          </span>\n",
       "<span style=\"color: #7f7f7f; text-decoration-color: #7f7f7f\">|       </span><span style=\"color: #fc92b8; text-decoration-color: #fc92b8; background-color: #272822\">sample_size</span><span style=\"color: #fbfbf8; text-decoration-color: #fbfbf8; background-color: #272822\">: </span><span style=\"color: #7f7f7f; text-decoration-color: #7f7f7f; background-color: #272822\">2000                                                                                          </span>\n",
       "<span style=\"color: #7f7f7f; text-decoration-color: #7f7f7f\">|       </span><span style=\"color: #fc92b8; text-decoration-color: #fc92b8; background-color: #272822\">min_data_points</span><span style=\"color: #fbfbf8; text-decoration-color: #fbfbf8; background-color: #272822\">: </span><span style=\"color: #7f7f7f; text-decoration-color: #7f7f7f; background-color: #272822\">17                                                                                        </span>\n",
       "<span style=\"color: #7f7f7f; text-decoration-color: #7f7f7f\">|       </span><span style=\"color: #fc92b8; text-decoration-color: #fc92b8; background-color: #272822\">seed</span><span style=\"color: #fbfbf8; text-decoration-color: #fbfbf8; background-color: #272822\">: </span><span style=\"color: #7f7f7f; text-decoration-color: #7f7f7f; background-color: #272822\">0                                                                                                    </span>\n",
       "<span style=\"color: #7f7f7f; text-decoration-color: #7f7f7f\">|       </span><span style=\"color: #fc92b8; text-decoration-color: #fc92b8; background-color: #272822\">sequence_length</span><span style=\"color: #fbfbf8; text-decoration-color: #fbfbf8; background-color: #272822\">: </span><span style=\"color: #7f7f7f; text-decoration-color: #7f7f7f; background-color: #272822\">5                                                                                         </span>\n",
       "<span style=\"color: #7f7f7f; text-decoration-color: #7f7f7f\">|       </span><span style=\"color: #fc92b8; text-decoration-color: #fc92b8; background-color: #272822\">target_length</span><span style=\"color: #fbfbf8; text-decoration-color: #fbfbf8; background-color: #272822\">: </span><span style=\"color: #7f7f7f; text-decoration-color: #7f7f7f; background-color: #272822\">1                                                                                           </span>\n",
       "<span style=\"color: #7f7f7f; text-decoration-color: #7f7f7f\">|       </span><span style=\"color: #fc92b8; text-decoration-color: #fc92b8; background-color: #272822\">neg_samples</span><span style=\"color: #fbfbf8; text-decoration-color: #fbfbf8; background-color: #272822\">: </span><span style=\"color: #7f7f7f; text-decoration-color: #7f7f7f; background-color: #272822\">3                                                                                             </span>\n",
       "<span style=\"color: #7f7f7f; text-decoration-color: #7f7f7f\">|       </span><span style=\"color: #7f7f7f; text-decoration-color: #7f7f7f; background-color: #272822\">                                                                                                           </span>\n",
       "<span style=\"color: #7f7f7f; text-decoration-color: #7f7f7f\">+-- </span><span style=\"color: #7f7f7f; text-decoration-color: #7f7f7f\">model</span>\n",
       "<span style=\"color: #7f7f7f; text-decoration-color: #7f7f7f\">|   `-- </span><span style=\"color: #fc92b8; text-decoration-color: #fc92b8; background-color: #272822\">_target_</span><span style=\"color: #fbfbf8; text-decoration-color: #fbfbf8; background-color: #272822\">: </span><span style=\"color: #7f7f7f; text-decoration-color: #7f7f7f; background-color: #272822\">src.models.caser.CaserModel                                                                      </span>\n",
       "<span style=\"color: #7f7f7f; text-decoration-color: #7f7f7f\">|       </span><span style=\"color: #fc92b8; text-decoration-color: #fc92b8; background-color: #272822\">data_dir</span><span style=\"color: #fbfbf8; text-decoration-color: #fbfbf8; background-color: #272822\">: </span><span style=\"color: #7f7f7f; text-decoration-color: #7f7f7f; background-color: #272822\">C:\\Users\\Skoltech\\Desktop\\RecSystemFinal\\Caser/data/                                             </span>\n",
       "<span style=\"color: #7f7f7f; text-decoration-color: #7f7f7f\">|       </span><span style=\"color: #fc92b8; text-decoration-color: #fc92b8; background-color: #272822\">dataset_name</span><span style=\"color: #fbfbf8; text-decoration-color: #fbfbf8; background-color: #272822\">: </span><span style=\"color: #7f7f7f; text-decoration-color: #7f7f7f; background-color: #272822\">train_ver2.csv                                                                               </span>\n",
       "<span style=\"color: #7f7f7f; text-decoration-color: #7f7f7f\">|       </span><span style=\"color: #fc92b8; text-decoration-color: #fc92b8; background-color: #272822\">dataset_name_test</span><span style=\"color: #fbfbf8; text-decoration-color: #fbfbf8; background-color: #272822\">: </span><span style=\"color: #7f7f7f; text-decoration-color: #7f7f7f; background-color: #272822\">train_ver2.csv                                                                          </span>\n",
       "<span style=\"color: #7f7f7f; text-decoration-color: #7f7f7f\">|       </span><span style=\"color: #fc92b8; text-decoration-color: #fc92b8; background-color: #272822\">L</span><span style=\"color: #fbfbf8; text-decoration-color: #fbfbf8; background-color: #272822\">: </span><span style=\"color: #7f7f7f; text-decoration-color: #7f7f7f; background-color: #272822\">5                                                                                                       </span>\n",
       "<span style=\"color: #7f7f7f; text-decoration-color: #7f7f7f\">|       </span><span style=\"color: #fc92b8; text-decoration-color: #fc92b8; background-color: #272822\">d</span><span style=\"color: #fbfbf8; text-decoration-color: #fbfbf8; background-color: #272822\">: </span><span style=\"color: #7f7f7f; text-decoration-color: #7f7f7f; background-color: #272822\">50                                                                                                      </span>\n",
       "<span style=\"color: #7f7f7f; text-decoration-color: #7f7f7f\">|       </span><span style=\"color: #fc92b8; text-decoration-color: #fc92b8; background-color: #272822\">nh</span><span style=\"color: #fbfbf8; text-decoration-color: #fbfbf8; background-color: #272822\">: </span><span style=\"color: #7f7f7f; text-decoration-color: #7f7f7f; background-color: #272822\">16                                                                                                     </span>\n",
       "<span style=\"color: #7f7f7f; text-decoration-color: #7f7f7f\">|       </span><span style=\"color: #fc92b8; text-decoration-color: #fc92b8; background-color: #272822\">nv</span><span style=\"color: #fbfbf8; text-decoration-color: #fbfbf8; background-color: #272822\">: </span><span style=\"color: #7f7f7f; text-decoration-color: #7f7f7f; background-color: #272822\">4                                                                                                      </span>\n",
       "<span style=\"color: #7f7f7f; text-decoration-color: #7f7f7f\">|       </span><span style=\"color: #fc92b8; text-decoration-color: #fc92b8; background-color: #272822\">drop</span><span style=\"color: #fbfbf8; text-decoration-color: #fbfbf8; background-color: #272822\">: </span><span style=\"color: #7f7f7f; text-decoration-color: #7f7f7f; background-color: #272822\">0.5                                                                                                  </span>\n",
       "<span style=\"color: #7f7f7f; text-decoration-color: #7f7f7f\">|       </span><span style=\"color: #fc92b8; text-decoration-color: #fc92b8; background-color: #272822\">ac_conv</span><span style=\"color: #fbfbf8; text-decoration-color: #fbfbf8; background-color: #272822\">: </span><span style=\"color: #7f7f7f; text-decoration-color: #7f7f7f; background-color: #272822\">relu                                                                                              </span>\n",
       "<span style=\"color: #7f7f7f; text-decoration-color: #7f7f7f\">|       </span><span style=\"color: #fc92b8; text-decoration-color: #fc92b8; background-color: #272822\">ac_fc</span><span style=\"color: #fbfbf8; text-decoration-color: #fbfbf8; background-color: #272822\">: </span><span style=\"color: #7f7f7f; text-decoration-color: #7f7f7f; background-color: #272822\">relu                                                                                                </span>\n",
       "<span style=\"color: #7f7f7f; text-decoration-color: #7f7f7f\">|       </span><span style=\"color: #fc92b8; text-decoration-color: #fc92b8; background-color: #272822\">l2</span><span style=\"color: #fbfbf8; text-decoration-color: #fbfbf8; background-color: #272822\">: </span><span style=\"color: #7f7f7f; text-decoration-color: #7f7f7f; background-color: #272822\">1.0e-06                                                                                                </span>\n",
       "<span style=\"color: #7f7f7f; text-decoration-color: #7f7f7f\">|       </span><span style=\"color: #fc92b8; text-decoration-color: #fc92b8; background-color: #272822\">learning_rate</span><span style=\"color: #fbfbf8; text-decoration-color: #fbfbf8; background-color: #272822\">: </span><span style=\"color: #7f7f7f; text-decoration-color: #7f7f7f; background-color: #272822\">0.001                                                                                       </span>\n",
       "<span style=\"color: #7f7f7f; text-decoration-color: #7f7f7f\">|       </span><span style=\"color: #7f7f7f; text-decoration-color: #7f7f7f; background-color: #272822\">                                                                                                           </span>\n",
       "<span style=\"color: #7f7f7f; text-decoration-color: #7f7f7f\">+-- </span><span style=\"color: #7f7f7f; text-decoration-color: #7f7f7f\">callbacks</span>\n",
       "<span style=\"color: #7f7f7f; text-decoration-color: #7f7f7f\">|   `-- </span><span style=\"color: #fc92b8; text-decoration-color: #fc92b8; background-color: #272822\">model_checkpoint</span><span style=\"color: #fbfbf8; text-decoration-color: #fbfbf8; background-color: #272822\">:</span><span style=\"color: #7f7f7f; text-decoration-color: #7f7f7f; background-color: #272822\">                                                                                          </span>\n",
       "<span style=\"color: #7f7f7f; text-decoration-color: #7f7f7f\">|       </span><span style=\"color: #fbfbf8; text-decoration-color: #fbfbf8; background-color: #272822\">  </span><span style=\"color: #fc92b8; text-decoration-color: #fc92b8; background-color: #272822\">_target_</span><span style=\"color: #fbfbf8; text-decoration-color: #fbfbf8; background-color: #272822\">: </span><span style=\"color: #7f7f7f; text-decoration-color: #7f7f7f; background-color: #272822\">pytorch_lightning.callbacks.ModelCheckpoint                                                    </span>\n",
       "<span style=\"color: #7f7f7f; text-decoration-color: #7f7f7f\">|       </span><span style=\"color: #fbfbf8; text-decoration-color: #fbfbf8; background-color: #272822\">  </span><span style=\"color: #fc92b8; text-decoration-color: #fc92b8; background-color: #272822\">monitor</span><span style=\"color: #fbfbf8; text-decoration-color: #fbfbf8; background-color: #272822\">: </span><span style=\"color: #7f7f7f; text-decoration-color: #7f7f7f; background-color: #272822\">val/Recall@3                                                                                    </span>\n",
       "<span style=\"color: #7f7f7f; text-decoration-color: #7f7f7f\">|       </span><span style=\"color: #fbfbf8; text-decoration-color: #fbfbf8; background-color: #272822\">  </span><span style=\"color: #fc92b8; text-decoration-color: #fc92b8; background-color: #272822\">mode</span><span style=\"color: #fbfbf8; text-decoration-color: #fbfbf8; background-color: #272822\">: </span><span style=\"color: #7f7f7f; text-decoration-color: #7f7f7f; background-color: #272822\">max                                                                                                </span>\n",
       "<span style=\"color: #7f7f7f; text-decoration-color: #7f7f7f\">|       </span><span style=\"color: #fbfbf8; text-decoration-color: #fbfbf8; background-color: #272822\">  </span><span style=\"color: #fc92b8; text-decoration-color: #fc92b8; background-color: #272822\">save_top_k</span><span style=\"color: #fbfbf8; text-decoration-color: #fbfbf8; background-color: #272822\">: </span><span style=\"color: #7f7f7f; text-decoration-color: #7f7f7f; background-color: #272822\">1                                                                                            </span>\n",
       "<span style=\"color: #7f7f7f; text-decoration-color: #7f7f7f\">|       </span><span style=\"color: #fbfbf8; text-decoration-color: #fbfbf8; background-color: #272822\">  </span><span style=\"color: #fc92b8; text-decoration-color: #fc92b8; background-color: #272822\">save_last</span><span style=\"color: #fbfbf8; text-decoration-color: #fbfbf8; background-color: #272822\">: </span><span style=\"color: #7f7f7f; text-decoration-color: #7f7f7f; background-color: #272822\">true                                                                                          </span>\n",
       "<span style=\"color: #7f7f7f; text-decoration-color: #7f7f7f\">|       </span><span style=\"color: #fbfbf8; text-decoration-color: #fbfbf8; background-color: #272822\">  </span><span style=\"color: #fc92b8; text-decoration-color: #fc92b8; background-color: #272822\">verbose</span><span style=\"color: #fbfbf8; text-decoration-color: #fbfbf8; background-color: #272822\">: </span><span style=\"color: #7f7f7f; text-decoration-color: #7f7f7f; background-color: #272822\">false                                                                                           </span>\n",
       "<span style=\"color: #7f7f7f; text-decoration-color: #7f7f7f\">|       </span><span style=\"color: #fbfbf8; text-decoration-color: #fbfbf8; background-color: #272822\">  </span><span style=\"color: #fc92b8; text-decoration-color: #fc92b8; background-color: #272822\">dirpath</span><span style=\"color: #fbfbf8; text-decoration-color: #fbfbf8; background-color: #272822\">: </span><span style=\"color: #7f7f7f; text-decoration-color: #7f7f7f; background-color: #272822\">checkpoints/                                                                                    </span>\n",
       "<span style=\"color: #7f7f7f; text-decoration-color: #7f7f7f\">|       </span><span style=\"color: #fbfbf8; text-decoration-color: #fbfbf8; background-color: #272822\">  </span><span style=\"color: #fc92b8; text-decoration-color: #fc92b8; background-color: #272822\">filename</span><span style=\"color: #fbfbf8; text-decoration-color: #fbfbf8; background-color: #272822\">: </span><span style=\"color: #7f7f7f; text-decoration-color: #7f7f7f; background-color: #272822\">epoch_{epoch:03d}                                                                              </span>\n",
       "<span style=\"color: #7f7f7f; text-decoration-color: #7f7f7f\">|       </span><span style=\"color: #fbfbf8; text-decoration-color: #fbfbf8; background-color: #272822\">  </span><span style=\"color: #fc92b8; text-decoration-color: #fc92b8; background-color: #272822\">auto_insert_metric_name</span><span style=\"color: #fbfbf8; text-decoration-color: #fbfbf8; background-color: #272822\">: </span><span style=\"color: #7f7f7f; text-decoration-color: #7f7f7f; background-color: #272822\">false                                                                           </span>\n",
       "<span style=\"color: #7f7f7f; text-decoration-color: #7f7f7f\">|       </span><span style=\"color: #fc92b8; text-decoration-color: #fc92b8; background-color: #272822\">early_stopping</span><span style=\"color: #fbfbf8; text-decoration-color: #fbfbf8; background-color: #272822\">:</span><span style=\"color: #7f7f7f; text-decoration-color: #7f7f7f; background-color: #272822\">                                                                                            </span>\n",
       "<span style=\"color: #7f7f7f; text-decoration-color: #7f7f7f\">|       </span><span style=\"color: #fbfbf8; text-decoration-color: #fbfbf8; background-color: #272822\">  </span><span style=\"color: #fc92b8; text-decoration-color: #fc92b8; background-color: #272822\">_target_</span><span style=\"color: #fbfbf8; text-decoration-color: #fbfbf8; background-color: #272822\">: </span><span style=\"color: #7f7f7f; text-decoration-color: #7f7f7f; background-color: #272822\">pytorch_lightning.callbacks.EarlyStopping                                                      </span>\n",
       "<span style=\"color: #7f7f7f; text-decoration-color: #7f7f7f\">|       </span><span style=\"color: #fbfbf8; text-decoration-color: #fbfbf8; background-color: #272822\">  </span><span style=\"color: #fc92b8; text-decoration-color: #fc92b8; background-color: #272822\">monitor</span><span style=\"color: #fbfbf8; text-decoration-color: #fbfbf8; background-color: #272822\">: </span><span style=\"color: #7f7f7f; text-decoration-color: #7f7f7f; background-color: #272822\">val/Recall@3                                                                                    </span>\n",
       "<span style=\"color: #7f7f7f; text-decoration-color: #7f7f7f\">|       </span><span style=\"color: #fbfbf8; text-decoration-color: #fbfbf8; background-color: #272822\">  </span><span style=\"color: #fc92b8; text-decoration-color: #fc92b8; background-color: #272822\">mode</span><span style=\"color: #fbfbf8; text-decoration-color: #fbfbf8; background-color: #272822\">: </span><span style=\"color: #7f7f7f; text-decoration-color: #7f7f7f; background-color: #272822\">max                                                                                                </span>\n",
       "<span style=\"color: #7f7f7f; text-decoration-color: #7f7f7f\">|       </span><span style=\"color: #fbfbf8; text-decoration-color: #fbfbf8; background-color: #272822\">  </span><span style=\"color: #fc92b8; text-decoration-color: #fc92b8; background-color: #272822\">patience</span><span style=\"color: #fbfbf8; text-decoration-color: #fbfbf8; background-color: #272822\">: </span><span style=\"color: #7f7f7f; text-decoration-color: #7f7f7f; background-color: #272822\">100                                                                                            </span>\n",
       "<span style=\"color: #7f7f7f; text-decoration-color: #7f7f7f\">|       </span><span style=\"color: #fbfbf8; text-decoration-color: #fbfbf8; background-color: #272822\">  </span><span style=\"color: #fc92b8; text-decoration-color: #fc92b8; background-color: #272822\">min_delta</span><span style=\"color: #fbfbf8; text-decoration-color: #fbfbf8; background-color: #272822\">: </span><span style=\"color: #7f7f7f; text-decoration-color: #7f7f7f; background-color: #272822\">0                                                                                             </span>\n",
       "<span style=\"color: #7f7f7f; text-decoration-color: #7f7f7f\">|       </span><span style=\"color: #fc92b8; text-decoration-color: #fc92b8; background-color: #272822\">model_summary</span><span style=\"color: #fbfbf8; text-decoration-color: #fbfbf8; background-color: #272822\">:</span><span style=\"color: #7f7f7f; text-decoration-color: #7f7f7f; background-color: #272822\">                                                                                             </span>\n",
       "<span style=\"color: #7f7f7f; text-decoration-color: #7f7f7f\">|       </span><span style=\"color: #fbfbf8; text-decoration-color: #fbfbf8; background-color: #272822\">  </span><span style=\"color: #fc92b8; text-decoration-color: #fc92b8; background-color: #272822\">_target_</span><span style=\"color: #fbfbf8; text-decoration-color: #fbfbf8; background-color: #272822\">: </span><span style=\"color: #7f7f7f; text-decoration-color: #7f7f7f; background-color: #272822\">pytorch_lightning.callbacks.RichModelSummary                                                   </span>\n",
       "<span style=\"color: #7f7f7f; text-decoration-color: #7f7f7f\">|       </span><span style=\"color: #fbfbf8; text-decoration-color: #fbfbf8; background-color: #272822\">  </span><span style=\"color: #fc92b8; text-decoration-color: #fc92b8; background-color: #272822\">max_depth</span><span style=\"color: #fbfbf8; text-decoration-color: #fbfbf8; background-color: #272822\">: </span><span style=\"color: #7f7f7f; text-decoration-color: #7f7f7f; background-color: #272822\">-1                                                                                            </span>\n",
       "<span style=\"color: #7f7f7f; text-decoration-color: #7f7f7f\">|       </span><span style=\"color: #fc92b8; text-decoration-color: #fc92b8; background-color: #272822\">rich_progress_bar</span><span style=\"color: #fbfbf8; text-decoration-color: #fbfbf8; background-color: #272822\">:</span><span style=\"color: #7f7f7f; text-decoration-color: #7f7f7f; background-color: #272822\">                                                                                         </span>\n",
       "<span style=\"color: #7f7f7f; text-decoration-color: #7f7f7f\">|       </span><span style=\"color: #fbfbf8; text-decoration-color: #fbfbf8; background-color: #272822\">  </span><span style=\"color: #fc92b8; text-decoration-color: #fc92b8; background-color: #272822\">_target_</span><span style=\"color: #fbfbf8; text-decoration-color: #fbfbf8; background-color: #272822\">: </span><span style=\"color: #7f7f7f; text-decoration-color: #7f7f7f; background-color: #272822\">pytorch_lightning.callbacks.RichProgressBar                                                    </span>\n",
       "<span style=\"color: #7f7f7f; text-decoration-color: #7f7f7f\">|       </span><span style=\"color: #7f7f7f; text-decoration-color: #7f7f7f; background-color: #272822\">                                                                                                           </span>\n",
       "<span style=\"color: #7f7f7f; text-decoration-color: #7f7f7f\">+-- </span><span style=\"color: #7f7f7f; text-decoration-color: #7f7f7f\">logger</span>\n",
       "<span style=\"color: #7f7f7f; text-decoration-color: #7f7f7f\">|   `-- </span><span style=\"color: #fc92b8; text-decoration-color: #fc92b8; background-color: #272822\">comet</span><span style=\"color: #fbfbf8; text-decoration-color: #fbfbf8; background-color: #272822\">:</span><span style=\"color: #7f7f7f; text-decoration-color: #7f7f7f; background-color: #272822\">                                                                                                     </span>\n",
       "<span style=\"color: #7f7f7f; text-decoration-color: #7f7f7f\">|       </span><span style=\"color: #fbfbf8; text-decoration-color: #fbfbf8; background-color: #272822\">  </span><span style=\"color: #fc92b8; text-decoration-color: #fc92b8; background-color: #272822\">_target_</span><span style=\"color: #fbfbf8; text-decoration-color: #fbfbf8; background-color: #272822\">: </span><span style=\"color: #7f7f7f; text-decoration-color: #7f7f7f; background-color: #272822\">pytorch_lightning.loggers.comet.CometLogger                                                    </span>\n",
       "<span style=\"color: #7f7f7f; text-decoration-color: #7f7f7f\">|       </span><span style=\"color: #fbfbf8; text-decoration-color: #fbfbf8; background-color: #272822\">  </span><span style=\"color: #fc92b8; text-decoration-color: #fc92b8; background-color: #272822\">api_key</span><span style=\"color: #fbfbf8; text-decoration-color: #fbfbf8; background-color: #272822\">: </span><span style=\"color: #7f7f7f; text-decoration-color: #7f7f7f; background-color: #272822\">XmlVuApoep6S65VSewQg3tRDp                                                                       </span>\n",
       "<span style=\"color: #7f7f7f; text-decoration-color: #7f7f7f\">|       </span><span style=\"color: #fbfbf8; text-decoration-color: #fbfbf8; background-color: #272822\">  </span><span style=\"color: #fc92b8; text-decoration-color: #fc92b8; background-color: #272822\">project_name</span><span style=\"color: #fbfbf8; text-decoration-color: #fbfbf8; background-color: #272822\">: </span><span style=\"color: #7f7f7f; text-decoration-color: #7f7f7f; background-color: #272822\">recsys                                                                                     </span>\n",
       "<span style=\"color: #7f7f7f; text-decoration-color: #7f7f7f\">|       </span><span style=\"color: #fbfbf8; text-decoration-color: #fbfbf8; background-color: #272822\">  </span><span style=\"color: #fc92b8; text-decoration-color: #fc92b8; background-color: #272822\">workspace</span><span style=\"color: #fbfbf8; text-decoration-color: #fbfbf8; background-color: #272822\">: </span><span style=\"color: #7f7f7f; text-decoration-color: #7f7f7f; background-color: #272822\">verdangeta                                                                                    </span>\n",
       "<span style=\"color: #7f7f7f; text-decoration-color: #7f7f7f\">|       </span><span style=\"color: #fbfbf8; text-decoration-color: #fbfbf8; background-color: #272822\">  </span><span style=\"color: #fc92b8; text-decoration-color: #fc92b8; background-color: #272822\">experiment_name</span><span style=\"color: #fbfbf8; text-decoration-color: #fbfbf8; background-color: #272822\">: </span><span style=\"color: #7f7f7f; text-decoration-color: #7f7f7f; background-color: #272822\">caser_santander_64                                                                      </span>\n",
       "<span style=\"color: #7f7f7f; text-decoration-color: #7f7f7f\">|       </span><span style=\"color: #7f7f7f; text-decoration-color: #7f7f7f; background-color: #272822\">                                                                                                           </span>\n",
       "<span style=\"color: #7f7f7f; text-decoration-color: #7f7f7f\">+-- </span><span style=\"color: #7f7f7f; text-decoration-color: #7f7f7f\">trainer</span>\n",
       "<span style=\"color: #7f7f7f; text-decoration-color: #7f7f7f\">|   `-- </span><span style=\"color: #fc92b8; text-decoration-color: #fc92b8; background-color: #272822\">_target_</span><span style=\"color: #fbfbf8; text-decoration-color: #fbfbf8; background-color: #272822\">: </span><span style=\"color: #7f7f7f; text-decoration-color: #7f7f7f; background-color: #272822\">pytorch_lightning.Trainer                                                                        </span>\n",
       "<span style=\"color: #7f7f7f; text-decoration-color: #7f7f7f\">|       </span><span style=\"color: #fc92b8; text-decoration-color: #fc92b8; background-color: #272822\">min_epochs</span><span style=\"color: #fbfbf8; text-decoration-color: #fbfbf8; background-color: #272822\">: </span><span style=\"color: #7f7f7f; text-decoration-color: #7f7f7f; background-color: #272822\">1                                                                                              </span>\n",
       "<span style=\"color: #7f7f7f; text-decoration-color: #7f7f7f\">|       </span><span style=\"color: #fc92b8; text-decoration-color: #fc92b8; background-color: #272822\">max_epochs</span><span style=\"color: #fbfbf8; text-decoration-color: #fbfbf8; background-color: #272822\">: </span><span style=\"color: #7f7f7f; text-decoration-color: #7f7f7f; background-color: #272822\">10                                                                                             </span>\n",
       "<span style=\"color: #7f7f7f; text-decoration-color: #7f7f7f\">|       </span><span style=\"color: #fc92b8; text-decoration-color: #fc92b8; background-color: #272822\">accelerator</span><span style=\"color: #fbfbf8; text-decoration-color: #fbfbf8; background-color: #272822\">: </span><span style=\"color: #7f7f7f; text-decoration-color: #7f7f7f; background-color: #272822\">cpu                                                                                           </span>\n",
       "<span style=\"color: #7f7f7f; text-decoration-color: #7f7f7f\">|       </span><span style=\"color: #7f7f7f; text-decoration-color: #7f7f7f; background-color: #272822\">                                                                                                           </span>\n",
       "<span style=\"color: #7f7f7f; text-decoration-color: #7f7f7f\">+-- </span><span style=\"color: #7f7f7f; text-decoration-color: #7f7f7f\">original_work_dir</span>\n",
       "<span style=\"color: #7f7f7f; text-decoration-color: #7f7f7f\">|   `-- </span><span style=\"color: #7f7f7f; text-decoration-color: #7f7f7f; background-color: #272822\">C:\\Users\\Skoltech\\Desktop\\RecSystemFinal\\Caser                                                             </span>\n",
       "<span style=\"color: #7f7f7f; text-decoration-color: #7f7f7f\">+-- </span><span style=\"color: #7f7f7f; text-decoration-color: #7f7f7f\">data_dir</span>\n",
       "<span style=\"color: #7f7f7f; text-decoration-color: #7f7f7f\">|   `-- </span><span style=\"color: #7f7f7f; text-decoration-color: #7f7f7f; background-color: #272822\">C:\\Users\\Skoltech\\Desktop\\RecSystemFinal\\Caser/data/                                                       </span>\n",
       "<span style=\"color: #7f7f7f; text-decoration-color: #7f7f7f\">+-- </span><span style=\"color: #7f7f7f; text-decoration-color: #7f7f7f\">dataset_name</span>\n",
       "<span style=\"color: #7f7f7f; text-decoration-color: #7f7f7f\">|   `-- </span><span style=\"color: #7f7f7f; text-decoration-color: #7f7f7f; background-color: #272822\">train_ver2.csv                                                                                             </span>\n",
       "<span style=\"color: #7f7f7f; text-decoration-color: #7f7f7f\">+-- </span><span style=\"color: #7f7f7f; text-decoration-color: #7f7f7f\">dataset_name_test</span>\n",
       "<span style=\"color: #7f7f7f; text-decoration-color: #7f7f7f\">|   `-- </span><span style=\"color: #7f7f7f; text-decoration-color: #7f7f7f; background-color: #272822\">train_ver2.csv                                                                                             </span>\n",
       "<span style=\"color: #7f7f7f; text-decoration-color: #7f7f7f\">+-- </span><span style=\"color: #7f7f7f; text-decoration-color: #7f7f7f\">batch_size</span>\n",
       "<span style=\"color: #7f7f7f; text-decoration-color: #7f7f7f\">|   `-- </span><span style=\"color: #7f7f7f; text-decoration-color: #7f7f7f; background-color: #272822\">64                                                                                                         </span>\n",
       "<span style=\"color: #7f7f7f; text-decoration-color: #7f7f7f\">+-- </span><span style=\"color: #7f7f7f; text-decoration-color: #7f7f7f\">num_epochs</span>\n",
       "<span style=\"color: #7f7f7f; text-decoration-color: #7f7f7f\">|   `-- </span><span style=\"color: #7f7f7f; text-decoration-color: #7f7f7f; background-color: #272822\">10                                                                                                         </span>\n",
       "<span style=\"color: #7f7f7f; text-decoration-color: #7f7f7f\">+-- </span><span style=\"color: #7f7f7f; text-decoration-color: #7f7f7f\">print_config</span>\n",
       "<span style=\"color: #7f7f7f; text-decoration-color: #7f7f7f\">|   `-- </span><span style=\"color: #7f7f7f; text-decoration-color: #7f7f7f; background-color: #272822\">True                                                                                                       </span>\n",
       "<span style=\"color: #7f7f7f; text-decoration-color: #7f7f7f\">+-- </span><span style=\"color: #7f7f7f; text-decoration-color: #7f7f7f\">ignore_warnings</span>\n",
       "<span style=\"color: #7f7f7f; text-decoration-color: #7f7f7f\">|   `-- </span><span style=\"color: #7f7f7f; text-decoration-color: #7f7f7f; background-color: #272822\">True                                                                                                       </span>\n",
       "<span style=\"color: #7f7f7f; text-decoration-color: #7f7f7f\">+-- </span><span style=\"color: #7f7f7f; text-decoration-color: #7f7f7f\">train</span>\n",
       "<span style=\"color: #7f7f7f; text-decoration-color: #7f7f7f\">|   `-- </span><span style=\"color: #7f7f7f; text-decoration-color: #7f7f7f; background-color: #272822\">True                                                                                                       </span>\n",
       "<span style=\"color: #7f7f7f; text-decoration-color: #7f7f7f\">+-- </span><span style=\"color: #7f7f7f; text-decoration-color: #7f7f7f\">test</span>\n",
       "<span style=\"color: #7f7f7f; text-decoration-color: #7f7f7f\">|   `-- </span><span style=\"color: #7f7f7f; text-decoration-color: #7f7f7f; background-color: #272822\">True                                                                                                       </span>\n",
       "<span style=\"color: #7f7f7f; text-decoration-color: #7f7f7f\">+-- </span><span style=\"color: #7f7f7f; text-decoration-color: #7f7f7f\">seed</span>\n",
       "<span style=\"color: #7f7f7f; text-decoration-color: #7f7f7f\">|   `-- </span><span style=\"color: #7f7f7f; text-decoration-color: #7f7f7f; background-color: #272822\">25                                                                                                         </span>\n",
       "<span style=\"color: #7f7f7f; text-decoration-color: #7f7f7f\">`-- </span><span style=\"color: #7f7f7f; text-decoration-color: #7f7f7f\">name</span>\n",
       "<span style=\"color: #7f7f7f; text-decoration-color: #7f7f7f\">    `-- </span><span style=\"color: #7f7f7f; text-decoration-color: #7f7f7f; background-color: #272822\">caser_santander_64                                                                                         </span>\n",
       "</pre>\n"
      ],
      "text/plain": [
       "\u001b[2mCONFIG\u001b[0m\n",
       "\u001b[2m+-- \u001b[0m\u001b[2mdatamodule\u001b[0m\n",
       "\u001b[2m|   \u001b[0m\u001b[2m`-- \u001b[0m\u001b[2;38;2;249;38;114;48;2;39;40;34m_target_\u001b[0m\u001b[2;38;2;248;248;242;48;2;39;40;34m:\u001b[0m\u001b[2;38;2;248;248;242;48;2;39;40;34m \u001b[0m\u001b[2;48;2;39;40;34msrc.datamodules.caser_datamodule.SantanderDataModule                                             \u001b[0m\n",
       "\u001b[2m|   \u001b[0m\u001b[2m    \u001b[0m\u001b[2;38;2;249;38;114;48;2;39;40;34mdata_dir\u001b[0m\u001b[2;38;2;248;248;242;48;2;39;40;34m:\u001b[0m\u001b[2;38;2;248;248;242;48;2;39;40;34m \u001b[0m\u001b[2;48;2;39;40;34mC:\\Users\\Skoltech\\Desktop\\RecSystemFinal\\Caser/data/                                             \u001b[0m\n",
       "\u001b[2m|   \u001b[0m\u001b[2m    \u001b[0m\u001b[2;38;2;249;38;114;48;2;39;40;34mdataset_name\u001b[0m\u001b[2;38;2;248;248;242;48;2;39;40;34m:\u001b[0m\u001b[2;38;2;248;248;242;48;2;39;40;34m \u001b[0m\u001b[2;48;2;39;40;34mtrain_ver2.csv                                                                               \u001b[0m\n",
       "\u001b[2m|   \u001b[0m\u001b[2m    \u001b[0m\u001b[2;38;2;249;38;114;48;2;39;40;34mdataset_name_test\u001b[0m\u001b[2;38;2;248;248;242;48;2;39;40;34m:\u001b[0m\u001b[2;38;2;248;248;242;48;2;39;40;34m \u001b[0m\u001b[2;48;2;39;40;34mtrain_ver2.csv                                                                          \u001b[0m\n",
       "\u001b[2m|   \u001b[0m\u001b[2m    \u001b[0m\u001b[2;38;2;249;38;114;48;2;39;40;34mbatch_size\u001b[0m\u001b[2;38;2;248;248;242;48;2;39;40;34m:\u001b[0m\u001b[2;38;2;248;248;242;48;2;39;40;34m \u001b[0m\u001b[2;48;2;39;40;34m64                                                                                             \u001b[0m\n",
       "\u001b[2m|   \u001b[0m\u001b[2m    \u001b[0m\u001b[2;38;2;249;38;114;48;2;39;40;34mnum_workers\u001b[0m\u001b[2;38;2;248;248;242;48;2;39;40;34m:\u001b[0m\u001b[2;38;2;248;248;242;48;2;39;40;34m \u001b[0m\u001b[2;48;2;39;40;34m0                                                                                             \u001b[0m\n",
       "\u001b[2m|   \u001b[0m\u001b[2m    \u001b[0m\u001b[2;38;2;249;38;114;48;2;39;40;34mpin_memory\u001b[0m\u001b[2;38;2;248;248;242;48;2;39;40;34m:\u001b[0m\u001b[2;38;2;248;248;242;48;2;39;40;34m \u001b[0m\u001b[2;48;2;39;40;34mfalse                                                                                          \u001b[0m\n",
       "\u001b[2m|   \u001b[0m\u001b[2m    \u001b[0m\u001b[2;38;2;249;38;114;48;2;39;40;34msample_size\u001b[0m\u001b[2;38;2;248;248;242;48;2;39;40;34m:\u001b[0m\u001b[2;38;2;248;248;242;48;2;39;40;34m \u001b[0m\u001b[2;48;2;39;40;34m2000                                                                                          \u001b[0m\n",
       "\u001b[2m|   \u001b[0m\u001b[2m    \u001b[0m\u001b[2;38;2;249;38;114;48;2;39;40;34mmin_data_points\u001b[0m\u001b[2;38;2;248;248;242;48;2;39;40;34m:\u001b[0m\u001b[2;38;2;248;248;242;48;2;39;40;34m \u001b[0m\u001b[2;48;2;39;40;34m17                                                                                        \u001b[0m\n",
       "\u001b[2m|   \u001b[0m\u001b[2m    \u001b[0m\u001b[2;38;2;249;38;114;48;2;39;40;34mseed\u001b[0m\u001b[2;38;2;248;248;242;48;2;39;40;34m:\u001b[0m\u001b[2;38;2;248;248;242;48;2;39;40;34m \u001b[0m\u001b[2;48;2;39;40;34m0                                                                                                    \u001b[0m\n",
       "\u001b[2m|   \u001b[0m\u001b[2m    \u001b[0m\u001b[2;38;2;249;38;114;48;2;39;40;34msequence_length\u001b[0m\u001b[2;38;2;248;248;242;48;2;39;40;34m:\u001b[0m\u001b[2;38;2;248;248;242;48;2;39;40;34m \u001b[0m\u001b[2;48;2;39;40;34m5                                                                                         \u001b[0m\n",
       "\u001b[2m|   \u001b[0m\u001b[2m    \u001b[0m\u001b[2;38;2;249;38;114;48;2;39;40;34mtarget_length\u001b[0m\u001b[2;38;2;248;248;242;48;2;39;40;34m:\u001b[0m\u001b[2;38;2;248;248;242;48;2;39;40;34m \u001b[0m\u001b[2;48;2;39;40;34m1                                                                                           \u001b[0m\n",
       "\u001b[2m|   \u001b[0m\u001b[2m    \u001b[0m\u001b[2;38;2;249;38;114;48;2;39;40;34mneg_samples\u001b[0m\u001b[2;38;2;248;248;242;48;2;39;40;34m:\u001b[0m\u001b[2;38;2;248;248;242;48;2;39;40;34m \u001b[0m\u001b[2;48;2;39;40;34m3                                                                                             \u001b[0m\n",
       "\u001b[2m|   \u001b[0m\u001b[2m    \u001b[0m\u001b[2;48;2;39;40;34m                                                                                                           \u001b[0m\n",
       "\u001b[2m+-- \u001b[0m\u001b[2mmodel\u001b[0m\n",
       "\u001b[2m|   \u001b[0m\u001b[2m`-- \u001b[0m\u001b[2;38;2;249;38;114;48;2;39;40;34m_target_\u001b[0m\u001b[2;38;2;248;248;242;48;2;39;40;34m:\u001b[0m\u001b[2;38;2;248;248;242;48;2;39;40;34m \u001b[0m\u001b[2;48;2;39;40;34msrc.models.caser.CaserModel                                                                      \u001b[0m\n",
       "\u001b[2m|   \u001b[0m\u001b[2m    \u001b[0m\u001b[2;38;2;249;38;114;48;2;39;40;34mdata_dir\u001b[0m\u001b[2;38;2;248;248;242;48;2;39;40;34m:\u001b[0m\u001b[2;38;2;248;248;242;48;2;39;40;34m \u001b[0m\u001b[2;48;2;39;40;34mC:\\Users\\Skoltech\\Desktop\\RecSystemFinal\\Caser/data/                                             \u001b[0m\n",
       "\u001b[2m|   \u001b[0m\u001b[2m    \u001b[0m\u001b[2;38;2;249;38;114;48;2;39;40;34mdataset_name\u001b[0m\u001b[2;38;2;248;248;242;48;2;39;40;34m:\u001b[0m\u001b[2;38;2;248;248;242;48;2;39;40;34m \u001b[0m\u001b[2;48;2;39;40;34mtrain_ver2.csv                                                                               \u001b[0m\n",
       "\u001b[2m|   \u001b[0m\u001b[2m    \u001b[0m\u001b[2;38;2;249;38;114;48;2;39;40;34mdataset_name_test\u001b[0m\u001b[2;38;2;248;248;242;48;2;39;40;34m:\u001b[0m\u001b[2;38;2;248;248;242;48;2;39;40;34m \u001b[0m\u001b[2;48;2;39;40;34mtrain_ver2.csv                                                                          \u001b[0m\n",
       "\u001b[2m|   \u001b[0m\u001b[2m    \u001b[0m\u001b[2;38;2;249;38;114;48;2;39;40;34mL\u001b[0m\u001b[2;38;2;248;248;242;48;2;39;40;34m:\u001b[0m\u001b[2;38;2;248;248;242;48;2;39;40;34m \u001b[0m\u001b[2;48;2;39;40;34m5                                                                                                       \u001b[0m\n",
       "\u001b[2m|   \u001b[0m\u001b[2m    \u001b[0m\u001b[2;38;2;249;38;114;48;2;39;40;34md\u001b[0m\u001b[2;38;2;248;248;242;48;2;39;40;34m:\u001b[0m\u001b[2;38;2;248;248;242;48;2;39;40;34m \u001b[0m\u001b[2;48;2;39;40;34m50                                                                                                      \u001b[0m\n",
       "\u001b[2m|   \u001b[0m\u001b[2m    \u001b[0m\u001b[2;38;2;249;38;114;48;2;39;40;34mnh\u001b[0m\u001b[2;38;2;248;248;242;48;2;39;40;34m:\u001b[0m\u001b[2;38;2;248;248;242;48;2;39;40;34m \u001b[0m\u001b[2;48;2;39;40;34m16                                                                                                     \u001b[0m\n",
       "\u001b[2m|   \u001b[0m\u001b[2m    \u001b[0m\u001b[2;38;2;249;38;114;48;2;39;40;34mnv\u001b[0m\u001b[2;38;2;248;248;242;48;2;39;40;34m:\u001b[0m\u001b[2;38;2;248;248;242;48;2;39;40;34m \u001b[0m\u001b[2;48;2;39;40;34m4                                                                                                      \u001b[0m\n",
       "\u001b[2m|   \u001b[0m\u001b[2m    \u001b[0m\u001b[2;38;2;249;38;114;48;2;39;40;34mdrop\u001b[0m\u001b[2;38;2;248;248;242;48;2;39;40;34m:\u001b[0m\u001b[2;38;2;248;248;242;48;2;39;40;34m \u001b[0m\u001b[2;48;2;39;40;34m0.5                                                                                                  \u001b[0m\n",
       "\u001b[2m|   \u001b[0m\u001b[2m    \u001b[0m\u001b[2;38;2;249;38;114;48;2;39;40;34mac_conv\u001b[0m\u001b[2;38;2;248;248;242;48;2;39;40;34m:\u001b[0m\u001b[2;38;2;248;248;242;48;2;39;40;34m \u001b[0m\u001b[2;48;2;39;40;34mrelu                                                                                              \u001b[0m\n",
       "\u001b[2m|   \u001b[0m\u001b[2m    \u001b[0m\u001b[2;38;2;249;38;114;48;2;39;40;34mac_fc\u001b[0m\u001b[2;38;2;248;248;242;48;2;39;40;34m:\u001b[0m\u001b[2;38;2;248;248;242;48;2;39;40;34m \u001b[0m\u001b[2;48;2;39;40;34mrelu                                                                                                \u001b[0m\n",
       "\u001b[2m|   \u001b[0m\u001b[2m    \u001b[0m\u001b[2;38;2;249;38;114;48;2;39;40;34ml2\u001b[0m\u001b[2;38;2;248;248;242;48;2;39;40;34m:\u001b[0m\u001b[2;38;2;248;248;242;48;2;39;40;34m \u001b[0m\u001b[2;48;2;39;40;34m1.0e-06                                                                                                \u001b[0m\n",
       "\u001b[2m|   \u001b[0m\u001b[2m    \u001b[0m\u001b[2;38;2;249;38;114;48;2;39;40;34mlearning_rate\u001b[0m\u001b[2;38;2;248;248;242;48;2;39;40;34m:\u001b[0m\u001b[2;38;2;248;248;242;48;2;39;40;34m \u001b[0m\u001b[2;48;2;39;40;34m0.001                                                                                       \u001b[0m\n",
       "\u001b[2m|   \u001b[0m\u001b[2m    \u001b[0m\u001b[2;48;2;39;40;34m                                                                                                           \u001b[0m\n",
       "\u001b[2m+-- \u001b[0m\u001b[2mcallbacks\u001b[0m\n",
       "\u001b[2m|   \u001b[0m\u001b[2m`-- \u001b[0m\u001b[2;38;2;249;38;114;48;2;39;40;34mmodel_checkpoint\u001b[0m\u001b[2;38;2;248;248;242;48;2;39;40;34m:\u001b[0m\u001b[2;48;2;39;40;34m                                                                                          \u001b[0m\n",
       "\u001b[2m|   \u001b[0m\u001b[2m    \u001b[0m\u001b[2;38;2;248;248;242;48;2;39;40;34m  \u001b[0m\u001b[2;38;2;249;38;114;48;2;39;40;34m_target_\u001b[0m\u001b[2;38;2;248;248;242;48;2;39;40;34m:\u001b[0m\u001b[2;38;2;248;248;242;48;2;39;40;34m \u001b[0m\u001b[2;48;2;39;40;34mpytorch_lightning.callbacks.ModelCheckpoint                                                    \u001b[0m\n",
       "\u001b[2m|   \u001b[0m\u001b[2m    \u001b[0m\u001b[2;38;2;248;248;242;48;2;39;40;34m  \u001b[0m\u001b[2;38;2;249;38;114;48;2;39;40;34mmonitor\u001b[0m\u001b[2;38;2;248;248;242;48;2;39;40;34m:\u001b[0m\u001b[2;38;2;248;248;242;48;2;39;40;34m \u001b[0m\u001b[2;48;2;39;40;34mval/Recall@3                                                                                    \u001b[0m\n",
       "\u001b[2m|   \u001b[0m\u001b[2m    \u001b[0m\u001b[2;38;2;248;248;242;48;2;39;40;34m  \u001b[0m\u001b[2;38;2;249;38;114;48;2;39;40;34mmode\u001b[0m\u001b[2;38;2;248;248;242;48;2;39;40;34m:\u001b[0m\u001b[2;38;2;248;248;242;48;2;39;40;34m \u001b[0m\u001b[2;48;2;39;40;34mmax                                                                                                \u001b[0m\n",
       "\u001b[2m|   \u001b[0m\u001b[2m    \u001b[0m\u001b[2;38;2;248;248;242;48;2;39;40;34m  \u001b[0m\u001b[2;38;2;249;38;114;48;2;39;40;34msave_top_k\u001b[0m\u001b[2;38;2;248;248;242;48;2;39;40;34m:\u001b[0m\u001b[2;38;2;248;248;242;48;2;39;40;34m \u001b[0m\u001b[2;48;2;39;40;34m1                                                                                            \u001b[0m\n",
       "\u001b[2m|   \u001b[0m\u001b[2m    \u001b[0m\u001b[2;38;2;248;248;242;48;2;39;40;34m  \u001b[0m\u001b[2;38;2;249;38;114;48;2;39;40;34msave_last\u001b[0m\u001b[2;38;2;248;248;242;48;2;39;40;34m:\u001b[0m\u001b[2;38;2;248;248;242;48;2;39;40;34m \u001b[0m\u001b[2;48;2;39;40;34mtrue                                                                                          \u001b[0m\n",
       "\u001b[2m|   \u001b[0m\u001b[2m    \u001b[0m\u001b[2;38;2;248;248;242;48;2;39;40;34m  \u001b[0m\u001b[2;38;2;249;38;114;48;2;39;40;34mverbose\u001b[0m\u001b[2;38;2;248;248;242;48;2;39;40;34m:\u001b[0m\u001b[2;38;2;248;248;242;48;2;39;40;34m \u001b[0m\u001b[2;48;2;39;40;34mfalse                                                                                           \u001b[0m\n",
       "\u001b[2m|   \u001b[0m\u001b[2m    \u001b[0m\u001b[2;38;2;248;248;242;48;2;39;40;34m  \u001b[0m\u001b[2;38;2;249;38;114;48;2;39;40;34mdirpath\u001b[0m\u001b[2;38;2;248;248;242;48;2;39;40;34m:\u001b[0m\u001b[2;38;2;248;248;242;48;2;39;40;34m \u001b[0m\u001b[2;48;2;39;40;34mcheckpoints/                                                                                    \u001b[0m\n",
       "\u001b[2m|   \u001b[0m\u001b[2m    \u001b[0m\u001b[2;38;2;248;248;242;48;2;39;40;34m  \u001b[0m\u001b[2;38;2;249;38;114;48;2;39;40;34mfilename\u001b[0m\u001b[2;38;2;248;248;242;48;2;39;40;34m:\u001b[0m\u001b[2;38;2;248;248;242;48;2;39;40;34m \u001b[0m\u001b[2;48;2;39;40;34mepoch_{epoch:03d}                                                                              \u001b[0m\n",
       "\u001b[2m|   \u001b[0m\u001b[2m    \u001b[0m\u001b[2;38;2;248;248;242;48;2;39;40;34m  \u001b[0m\u001b[2;38;2;249;38;114;48;2;39;40;34mauto_insert_metric_name\u001b[0m\u001b[2;38;2;248;248;242;48;2;39;40;34m:\u001b[0m\u001b[2;38;2;248;248;242;48;2;39;40;34m \u001b[0m\u001b[2;48;2;39;40;34mfalse                                                                           \u001b[0m\n",
       "\u001b[2m|   \u001b[0m\u001b[2m    \u001b[0m\u001b[2;38;2;249;38;114;48;2;39;40;34mearly_stopping\u001b[0m\u001b[2;38;2;248;248;242;48;2;39;40;34m:\u001b[0m\u001b[2;48;2;39;40;34m                                                                                            \u001b[0m\n",
       "\u001b[2m|   \u001b[0m\u001b[2m    \u001b[0m\u001b[2;38;2;248;248;242;48;2;39;40;34m  \u001b[0m\u001b[2;38;2;249;38;114;48;2;39;40;34m_target_\u001b[0m\u001b[2;38;2;248;248;242;48;2;39;40;34m:\u001b[0m\u001b[2;38;2;248;248;242;48;2;39;40;34m \u001b[0m\u001b[2;48;2;39;40;34mpytorch_lightning.callbacks.EarlyStopping                                                      \u001b[0m\n",
       "\u001b[2m|   \u001b[0m\u001b[2m    \u001b[0m\u001b[2;38;2;248;248;242;48;2;39;40;34m  \u001b[0m\u001b[2;38;2;249;38;114;48;2;39;40;34mmonitor\u001b[0m\u001b[2;38;2;248;248;242;48;2;39;40;34m:\u001b[0m\u001b[2;38;2;248;248;242;48;2;39;40;34m \u001b[0m\u001b[2;48;2;39;40;34mval/Recall@3                                                                                    \u001b[0m\n",
       "\u001b[2m|   \u001b[0m\u001b[2m    \u001b[0m\u001b[2;38;2;248;248;242;48;2;39;40;34m  \u001b[0m\u001b[2;38;2;249;38;114;48;2;39;40;34mmode\u001b[0m\u001b[2;38;2;248;248;242;48;2;39;40;34m:\u001b[0m\u001b[2;38;2;248;248;242;48;2;39;40;34m \u001b[0m\u001b[2;48;2;39;40;34mmax                                                                                                \u001b[0m\n",
       "\u001b[2m|   \u001b[0m\u001b[2m    \u001b[0m\u001b[2;38;2;248;248;242;48;2;39;40;34m  \u001b[0m\u001b[2;38;2;249;38;114;48;2;39;40;34mpatience\u001b[0m\u001b[2;38;2;248;248;242;48;2;39;40;34m:\u001b[0m\u001b[2;38;2;248;248;242;48;2;39;40;34m \u001b[0m\u001b[2;48;2;39;40;34m100                                                                                            \u001b[0m\n",
       "\u001b[2m|   \u001b[0m\u001b[2m    \u001b[0m\u001b[2;38;2;248;248;242;48;2;39;40;34m  \u001b[0m\u001b[2;38;2;249;38;114;48;2;39;40;34mmin_delta\u001b[0m\u001b[2;38;2;248;248;242;48;2;39;40;34m:\u001b[0m\u001b[2;38;2;248;248;242;48;2;39;40;34m \u001b[0m\u001b[2;48;2;39;40;34m0                                                                                             \u001b[0m\n",
       "\u001b[2m|   \u001b[0m\u001b[2m    \u001b[0m\u001b[2;38;2;249;38;114;48;2;39;40;34mmodel_summary\u001b[0m\u001b[2;38;2;248;248;242;48;2;39;40;34m:\u001b[0m\u001b[2;48;2;39;40;34m                                                                                             \u001b[0m\n",
       "\u001b[2m|   \u001b[0m\u001b[2m    \u001b[0m\u001b[2;38;2;248;248;242;48;2;39;40;34m  \u001b[0m\u001b[2;38;2;249;38;114;48;2;39;40;34m_target_\u001b[0m\u001b[2;38;2;248;248;242;48;2;39;40;34m:\u001b[0m\u001b[2;38;2;248;248;242;48;2;39;40;34m \u001b[0m\u001b[2;48;2;39;40;34mpytorch_lightning.callbacks.RichModelSummary                                                   \u001b[0m\n",
       "\u001b[2m|   \u001b[0m\u001b[2m    \u001b[0m\u001b[2;38;2;248;248;242;48;2;39;40;34m  \u001b[0m\u001b[2;38;2;249;38;114;48;2;39;40;34mmax_depth\u001b[0m\u001b[2;38;2;248;248;242;48;2;39;40;34m:\u001b[0m\u001b[2;38;2;248;248;242;48;2;39;40;34m \u001b[0m\u001b[2;48;2;39;40;34m-1                                                                                            \u001b[0m\n",
       "\u001b[2m|   \u001b[0m\u001b[2m    \u001b[0m\u001b[2;38;2;249;38;114;48;2;39;40;34mrich_progress_bar\u001b[0m\u001b[2;38;2;248;248;242;48;2;39;40;34m:\u001b[0m\u001b[2;48;2;39;40;34m                                                                                         \u001b[0m\n",
       "\u001b[2m|   \u001b[0m\u001b[2m    \u001b[0m\u001b[2;38;2;248;248;242;48;2;39;40;34m  \u001b[0m\u001b[2;38;2;249;38;114;48;2;39;40;34m_target_\u001b[0m\u001b[2;38;2;248;248;242;48;2;39;40;34m:\u001b[0m\u001b[2;38;2;248;248;242;48;2;39;40;34m \u001b[0m\u001b[2;48;2;39;40;34mpytorch_lightning.callbacks.RichProgressBar                                                    \u001b[0m\n",
       "\u001b[2m|   \u001b[0m\u001b[2m    \u001b[0m\u001b[2;48;2;39;40;34m                                                                                                           \u001b[0m\n",
       "\u001b[2m+-- \u001b[0m\u001b[2mlogger\u001b[0m\n",
       "\u001b[2m|   \u001b[0m\u001b[2m`-- \u001b[0m\u001b[2;38;2;249;38;114;48;2;39;40;34mcomet\u001b[0m\u001b[2;38;2;248;248;242;48;2;39;40;34m:\u001b[0m\u001b[2;48;2;39;40;34m                                                                                                     \u001b[0m\n",
       "\u001b[2m|   \u001b[0m\u001b[2m    \u001b[0m\u001b[2;38;2;248;248;242;48;2;39;40;34m  \u001b[0m\u001b[2;38;2;249;38;114;48;2;39;40;34m_target_\u001b[0m\u001b[2;38;2;248;248;242;48;2;39;40;34m:\u001b[0m\u001b[2;38;2;248;248;242;48;2;39;40;34m \u001b[0m\u001b[2;48;2;39;40;34mpytorch_lightning.loggers.comet.CometLogger                                                    \u001b[0m\n",
       "\u001b[2m|   \u001b[0m\u001b[2m    \u001b[0m\u001b[2;38;2;248;248;242;48;2;39;40;34m  \u001b[0m\u001b[2;38;2;249;38;114;48;2;39;40;34mapi_key\u001b[0m\u001b[2;38;2;248;248;242;48;2;39;40;34m:\u001b[0m\u001b[2;38;2;248;248;242;48;2;39;40;34m \u001b[0m\u001b[2;48;2;39;40;34mXmlVuApoep6S65VSewQg3tRDp                                                                       \u001b[0m\n",
       "\u001b[2m|   \u001b[0m\u001b[2m    \u001b[0m\u001b[2;38;2;248;248;242;48;2;39;40;34m  \u001b[0m\u001b[2;38;2;249;38;114;48;2;39;40;34mproject_name\u001b[0m\u001b[2;38;2;248;248;242;48;2;39;40;34m:\u001b[0m\u001b[2;38;2;248;248;242;48;2;39;40;34m \u001b[0m\u001b[2;48;2;39;40;34mrecsys                                                                                     \u001b[0m\n",
       "\u001b[2m|   \u001b[0m\u001b[2m    \u001b[0m\u001b[2;38;2;248;248;242;48;2;39;40;34m  \u001b[0m\u001b[2;38;2;249;38;114;48;2;39;40;34mworkspace\u001b[0m\u001b[2;38;2;248;248;242;48;2;39;40;34m:\u001b[0m\u001b[2;38;2;248;248;242;48;2;39;40;34m \u001b[0m\u001b[2;48;2;39;40;34mverdangeta                                                                                    \u001b[0m\n",
       "\u001b[2m|   \u001b[0m\u001b[2m    \u001b[0m\u001b[2;38;2;248;248;242;48;2;39;40;34m  \u001b[0m\u001b[2;38;2;249;38;114;48;2;39;40;34mexperiment_name\u001b[0m\u001b[2;38;2;248;248;242;48;2;39;40;34m:\u001b[0m\u001b[2;38;2;248;248;242;48;2;39;40;34m \u001b[0m\u001b[2;48;2;39;40;34mcaser_santander_64                                                                      \u001b[0m\n",
       "\u001b[2m|   \u001b[0m\u001b[2m    \u001b[0m\u001b[2;48;2;39;40;34m                                                                                                           \u001b[0m\n",
       "\u001b[2m+-- \u001b[0m\u001b[2mtrainer\u001b[0m\n",
       "\u001b[2m|   \u001b[0m\u001b[2m`-- \u001b[0m\u001b[2;38;2;249;38;114;48;2;39;40;34m_target_\u001b[0m\u001b[2;38;2;248;248;242;48;2;39;40;34m:\u001b[0m\u001b[2;38;2;248;248;242;48;2;39;40;34m \u001b[0m\u001b[2;48;2;39;40;34mpytorch_lightning.Trainer                                                                        \u001b[0m\n",
       "\u001b[2m|   \u001b[0m\u001b[2m    \u001b[0m\u001b[2;38;2;249;38;114;48;2;39;40;34mmin_epochs\u001b[0m\u001b[2;38;2;248;248;242;48;2;39;40;34m:\u001b[0m\u001b[2;38;2;248;248;242;48;2;39;40;34m \u001b[0m\u001b[2;48;2;39;40;34m1                                                                                              \u001b[0m\n",
       "\u001b[2m|   \u001b[0m\u001b[2m    \u001b[0m\u001b[2;38;2;249;38;114;48;2;39;40;34mmax_epochs\u001b[0m\u001b[2;38;2;248;248;242;48;2;39;40;34m:\u001b[0m\u001b[2;38;2;248;248;242;48;2;39;40;34m \u001b[0m\u001b[2;48;2;39;40;34m10                                                                                             \u001b[0m\n",
       "\u001b[2m|   \u001b[0m\u001b[2m    \u001b[0m\u001b[2;38;2;249;38;114;48;2;39;40;34maccelerator\u001b[0m\u001b[2;38;2;248;248;242;48;2;39;40;34m:\u001b[0m\u001b[2;38;2;248;248;242;48;2;39;40;34m \u001b[0m\u001b[2;48;2;39;40;34mcpu                                                                                           \u001b[0m\n",
       "\u001b[2m|   \u001b[0m\u001b[2m    \u001b[0m\u001b[2;48;2;39;40;34m                                                                                                           \u001b[0m\n",
       "\u001b[2m+-- \u001b[0m\u001b[2moriginal_work_dir\u001b[0m\n",
       "\u001b[2m|   \u001b[0m\u001b[2m`-- \u001b[0m\u001b[2;48;2;39;40;34mC:\\Users\\Skoltech\\Desktop\\RecSystemFinal\\Caser                                                             \u001b[0m\n",
       "\u001b[2m+-- \u001b[0m\u001b[2mdata_dir\u001b[0m\n",
       "\u001b[2m|   \u001b[0m\u001b[2m`-- \u001b[0m\u001b[2;48;2;39;40;34mC:\\Users\\Skoltech\\Desktop\\RecSystemFinal\\Caser/data/                                                       \u001b[0m\n",
       "\u001b[2m+-- \u001b[0m\u001b[2mdataset_name\u001b[0m\n",
       "\u001b[2m|   \u001b[0m\u001b[2m`-- \u001b[0m\u001b[2;48;2;39;40;34mtrain_ver2.csv                                                                                             \u001b[0m\n",
       "\u001b[2m+-- \u001b[0m\u001b[2mdataset_name_test\u001b[0m\n",
       "\u001b[2m|   \u001b[0m\u001b[2m`-- \u001b[0m\u001b[2;48;2;39;40;34mtrain_ver2.csv                                                                                             \u001b[0m\n",
       "\u001b[2m+-- \u001b[0m\u001b[2mbatch_size\u001b[0m\n",
       "\u001b[2m|   \u001b[0m\u001b[2m`-- \u001b[0m\u001b[2;48;2;39;40;34m64                                                                                                         \u001b[0m\n",
       "\u001b[2m+-- \u001b[0m\u001b[2mnum_epochs\u001b[0m\n",
       "\u001b[2m|   \u001b[0m\u001b[2m`-- \u001b[0m\u001b[2;48;2;39;40;34m10                                                                                                         \u001b[0m\n",
       "\u001b[2m+-- \u001b[0m\u001b[2mprint_config\u001b[0m\n",
       "\u001b[2m|   \u001b[0m\u001b[2m`-- \u001b[0m\u001b[2;48;2;39;40;34mTrue                                                                                                       \u001b[0m\n",
       "\u001b[2m+-- \u001b[0m\u001b[2mignore_warnings\u001b[0m\n",
       "\u001b[2m|   \u001b[0m\u001b[2m`-- \u001b[0m\u001b[2;48;2;39;40;34mTrue                                                                                                       \u001b[0m\n",
       "\u001b[2m+-- \u001b[0m\u001b[2mtrain\u001b[0m\n",
       "\u001b[2m|   \u001b[0m\u001b[2m`-- \u001b[0m\u001b[2;48;2;39;40;34mTrue                                                                                                       \u001b[0m\n",
       "\u001b[2m+-- \u001b[0m\u001b[2mtest\u001b[0m\n",
       "\u001b[2m|   \u001b[0m\u001b[2m`-- \u001b[0m\u001b[2;48;2;39;40;34mTrue                                                                                                       \u001b[0m\n",
       "\u001b[2m+-- \u001b[0m\u001b[2mseed\u001b[0m\n",
       "\u001b[2m|   \u001b[0m\u001b[2m`-- \u001b[0m\u001b[2;48;2;39;40;34m25                                                                                                         \u001b[0m\n",
       "\u001b[2m`-- \u001b[0m\u001b[2mname\u001b[0m\n",
       "\u001b[2m    \u001b[0m\u001b[2m`-- \u001b[0m\u001b[2;48;2;39;40;34mcaser_santander_64                                                                                         \u001b[0m\n"
      ]
     },
     "metadata": {},
     "output_type": "display_data"
    },
    {
     "name": "stderr",
     "output_type": "stream",
     "text": [
      "Global seed set to 25\n"
     ]
    },
    {
     "name": "stdout",
     "output_type": "stream",
     "text": [
      "[\u001b[36m2023-11-14 15:17:34,569\u001b[0m][\u001b[34msrc.training_pipeline\u001b[0m][\u001b[32mINFO\u001b[0m] - Instantiating datamodule <src.datamodules.caser_datamodule.SantanderDataModule>\u001b[0m\n",
      "[\u001b[36m2023-11-14 15:17:34,573\u001b[0m][\u001b[34msrc.training_pipeline\u001b[0m][\u001b[32mINFO\u001b[0m] - Instantiating model <src.models.caser.CaserModel>\u001b[0m\n",
      "[\u001b[36m2023-11-14 15:17:34,658\u001b[0m][\u001b[34msrc.training_pipeline\u001b[0m][\u001b[32mINFO\u001b[0m] - Instantiating callback <pytorch_lightning.callbacks.ModelCheckpoint>\u001b[0m\n",
      "[\u001b[36m2023-11-14 15:17:34,666\u001b[0m][\u001b[34msrc.training_pipeline\u001b[0m][\u001b[32mINFO\u001b[0m] - Instantiating callback <pytorch_lightning.callbacks.EarlyStopping>\u001b[0m\n",
      "[\u001b[36m2023-11-14 15:17:34,667\u001b[0m][\u001b[34msrc.training_pipeline\u001b[0m][\u001b[32mINFO\u001b[0m] - Instantiating callback <pytorch_lightning.callbacks.RichModelSummary>\u001b[0m\n",
      "[\u001b[36m2023-11-14 15:17:34,669\u001b[0m][\u001b[34msrc.training_pipeline\u001b[0m][\u001b[32mINFO\u001b[0m] - Instantiating callback <pytorch_lightning.callbacks.RichProgressBar>\u001b[0m\n",
      "[\u001b[36m2023-11-14 15:17:34,671\u001b[0m][\u001b[34msrc.training_pipeline\u001b[0m][\u001b[32mINFO\u001b[0m] - Instantiating logger <pytorch_lightning.loggers.comet.CometLogger>\u001b[0m\n"
     ]
    },
    {
     "name": "stderr",
     "output_type": "stream",
     "text": [
      "CometLogger will be initialized in online mode\n"
     ]
    },
    {
     "name": "stdout",
     "output_type": "stream",
     "text": [
      "[\u001b[36m2023-11-14 15:17:34,674\u001b[0m][\u001b[34msrc.training_pipeline\u001b[0m][\u001b[32mINFO\u001b[0m] - Instantiating trainer <pytorch_lightning.Trainer>\u001b[0m\n"
     ]
    },
    {
     "name": "stderr",
     "output_type": "stream",
     "text": [
      "Trainer already configured with model summary callbacks: [<class 'pytorch_lightning.callbacks.rich_model_summary.RichModelSummary'>]. Skipping setting a default `ModelSummary` callback.\n",
      "GPU available: True (cuda), used: False\n",
      "TPU available: False, using: 0 TPU cores\n",
      "IPU available: False, using: 0 IPUs\n",
      "HPU available: False, using: 0 HPUs\n"
     ]
    },
    {
     "name": "stdout",
     "output_type": "stream",
     "text": [
      "[\u001b[36m2023-11-14 15:17:36,281\u001b[0m][\u001b[34msrc.training_pipeline\u001b[0m][\u001b[32mINFO\u001b[0m] - Logging hyperparameters!\u001b[0m\n"
     ]
    },
    {
     "name": "stderr",
     "output_type": "stream",
     "text": [
      "\u001b[1;38;5;214mCOMET WARNING:\u001b[0m To get all data logged automatically, import comet_ml before the following modules: torch.\n",
      "\u001b[1;38;5;214mCOMET WARNING:\u001b[0m As you are running in a Jupyter environment, you will need to call `experiment.end()` when finished to ensure all metrics and code are logged before exiting.\n",
      "\u001b[1;38;5;39mCOMET INFO:\u001b[0m Experiment is live on comet.com https://www.comet.com/verdangeta/recsys/c55547cb2eb144dc85d36a85391df76b\n",
      "\n"
     ]
    },
    {
     "name": "stdout",
     "output_type": "stream",
     "text": [
      "[\u001b[36m2023-11-14 15:17:43,474\u001b[0m][\u001b[34msrc.training_pipeline\u001b[0m][\u001b[32mINFO\u001b[0m] - Starting training!\u001b[0m\n",
      "preparing data has already done!\n",
      "Train, validation and test datasets are ready for use!\n"
     ]
    },
    {
     "data": {
      "text/html": [
       "<pre style=\"white-space:pre;overflow-x:auto;line-height:normal;font-family:Menlo,'DejaVu Sans Mono',consolas,'Courier New',monospace\">┏━━━━┳━━━━━━━━━━━━━━━━━━━━━━━┳━━━━━━━━━━━━┳━━━━━━━━┓\n",
       "┃<span style=\"color: #800080; text-decoration-color: #800080; font-weight: bold\">    </span>┃<span style=\"color: #800080; text-decoration-color: #800080; font-weight: bold\"> Name                  </span>┃<span style=\"color: #800080; text-decoration-color: #800080; font-weight: bold\"> Type       </span>┃<span style=\"color: #800080; text-decoration-color: #800080; font-weight: bold\"> Params </span>┃\n",
       "┡━━━━╇━━━━━━━━━━━━━━━━━━━━━━━╇━━━━━━━━━━━━╇━━━━━━━━┩\n",
       "│<span style=\"color: #7f7f7f; text-decoration-color: #7f7f7f\"> 0  </span>│ caser                 │ Caser      │  127 K │\n",
       "│<span style=\"color: #7f7f7f; text-decoration-color: #7f7f7f\"> 1  </span>│ caser.user_embeddings │ Embedding  │ 97.8 K │\n",
       "│<span style=\"color: #7f7f7f; text-decoration-color: #7f7f7f\"> 2  </span>│ caser.item_embeddings │ Embedding  │  1.2 K │\n",
       "│<span style=\"color: #7f7f7f; text-decoration-color: #7f7f7f\"> 3  </span>│ caser.conv_v          │ Conv2d     │     24 │\n",
       "│<span style=\"color: #7f7f7f; text-decoration-color: #7f7f7f\"> 4  </span>│ caser.conv_h          │ ModuleList │ 12.1 K │\n",
       "│<span style=\"color: #7f7f7f; text-decoration-color: #7f7f7f\"> 5  </span>│ caser.conv_h.0        │ Conv2d     │    816 │\n",
       "│<span style=\"color: #7f7f7f; text-decoration-color: #7f7f7f\"> 6  </span>│ caser.conv_h.1        │ Conv2d     │  1.6 K │\n",
       "│<span style=\"color: #7f7f7f; text-decoration-color: #7f7f7f\"> 7  </span>│ caser.conv_h.2        │ Conv2d     │  2.4 K │\n",
       "│<span style=\"color: #7f7f7f; text-decoration-color: #7f7f7f\"> 8  </span>│ caser.conv_h.3        │ Conv2d     │  3.2 K │\n",
       "│<span style=\"color: #7f7f7f; text-decoration-color: #7f7f7f\"> 9  </span>│ caser.conv_h.4        │ Conv2d     │  4.0 K │\n",
       "│<span style=\"color: #7f7f7f; text-decoration-color: #7f7f7f\"> 10 </span>│ caser.fc1             │ Linear     │ 14.1 K │\n",
       "│<span style=\"color: #7f7f7f; text-decoration-color: #7f7f7f\"> 11 </span>│ caser.W2              │ Embedding  │  2.4 K │\n",
       "│<span style=\"color: #7f7f7f; text-decoration-color: #7f7f7f\"> 12 </span>│ caser.b2              │ Embedding  │     24 │\n",
       "│<span style=\"color: #7f7f7f; text-decoration-color: #7f7f7f\"> 13 </span>│ caser.dropout         │ Dropout    │      0 │\n",
       "└────┴───────────────────────┴────────────┴────────┘\n",
       "</pre>\n"
      ],
      "text/plain": [
       "┏━━━━┳━━━━━━━━━━━━━━━━━━━━━━━┳━━━━━━━━━━━━┳━━━━━━━━┓\n",
       "┃\u001b[1;35m \u001b[0m\u001b[1;35m  \u001b[0m\u001b[1;35m \u001b[0m┃\u001b[1;35m \u001b[0m\u001b[1;35mName                 \u001b[0m\u001b[1;35m \u001b[0m┃\u001b[1;35m \u001b[0m\u001b[1;35mType      \u001b[0m\u001b[1;35m \u001b[0m┃\u001b[1;35m \u001b[0m\u001b[1;35mParams\u001b[0m\u001b[1;35m \u001b[0m┃\n",
       "┡━━━━╇━━━━━━━━━━━━━━━━━━━━━━━╇━━━━━━━━━━━━╇━━━━━━━━┩\n",
       "│\u001b[2m \u001b[0m\u001b[2m0 \u001b[0m\u001b[2m \u001b[0m│ caser                 │ Caser      │  127 K │\n",
       "│\u001b[2m \u001b[0m\u001b[2m1 \u001b[0m\u001b[2m \u001b[0m│ caser.user_embeddings │ Embedding  │ 97.8 K │\n",
       "│\u001b[2m \u001b[0m\u001b[2m2 \u001b[0m\u001b[2m \u001b[0m│ caser.item_embeddings │ Embedding  │  1.2 K │\n",
       "│\u001b[2m \u001b[0m\u001b[2m3 \u001b[0m\u001b[2m \u001b[0m│ caser.conv_v          │ Conv2d     │     24 │\n",
       "│\u001b[2m \u001b[0m\u001b[2m4 \u001b[0m\u001b[2m \u001b[0m│ caser.conv_h          │ ModuleList │ 12.1 K │\n",
       "│\u001b[2m \u001b[0m\u001b[2m5 \u001b[0m\u001b[2m \u001b[0m│ caser.conv_h.0        │ Conv2d     │    816 │\n",
       "│\u001b[2m \u001b[0m\u001b[2m6 \u001b[0m\u001b[2m \u001b[0m│ caser.conv_h.1        │ Conv2d     │  1.6 K │\n",
       "│\u001b[2m \u001b[0m\u001b[2m7 \u001b[0m\u001b[2m \u001b[0m│ caser.conv_h.2        │ Conv2d     │  2.4 K │\n",
       "│\u001b[2m \u001b[0m\u001b[2m8 \u001b[0m\u001b[2m \u001b[0m│ caser.conv_h.3        │ Conv2d     │  3.2 K │\n",
       "│\u001b[2m \u001b[0m\u001b[2m9 \u001b[0m\u001b[2m \u001b[0m│ caser.conv_h.4        │ Conv2d     │  4.0 K │\n",
       "│\u001b[2m \u001b[0m\u001b[2m10\u001b[0m\u001b[2m \u001b[0m│ caser.fc1             │ Linear     │ 14.1 K │\n",
       "│\u001b[2m \u001b[0m\u001b[2m11\u001b[0m\u001b[2m \u001b[0m│ caser.W2              │ Embedding  │  2.4 K │\n",
       "│\u001b[2m \u001b[0m\u001b[2m12\u001b[0m\u001b[2m \u001b[0m│ caser.b2              │ Embedding  │     24 │\n",
       "│\u001b[2m \u001b[0m\u001b[2m13\u001b[0m\u001b[2m \u001b[0m│ caser.dropout         │ Dropout    │      0 │\n",
       "└────┴───────────────────────┴────────────┴────────┘\n"
      ]
     },
     "metadata": {},
     "output_type": "display_data"
    },
    {
     "data": {
      "text/html": [
       "<pre style=\"white-space:pre;overflow-x:auto;line-height:normal;font-family:Menlo,'DejaVu Sans Mono',consolas,'Courier New',monospace\"><span style=\"font-weight: bold\">Trainable params</span>: 127 K                                                                                            \n",
       "<span style=\"font-weight: bold\">Non-trainable params</span>: 0                                                                                            \n",
       "<span style=\"font-weight: bold\">Total params</span>: 127 K                                                                                                \n",
       "<span style=\"font-weight: bold\">Total estimated model params size (MB)</span>: 0                                                                          \n",
       "</pre>\n"
      ],
      "text/plain": [
       "\u001b[1mTrainable params\u001b[0m: 127 K                                                                                            \n",
       "\u001b[1mNon-trainable params\u001b[0m: 0                                                                                            \n",
       "\u001b[1mTotal params\u001b[0m: 127 K                                                                                                \n",
       "\u001b[1mTotal estimated model params size (MB)\u001b[0m: 0                                                                          \n"
      ]
     },
     "metadata": {},
     "output_type": "display_data"
    },
    {
     "data": {
      "application/vnd.jupyter.widget-view+json": {
       "model_id": "766dfc4889034c509d2c60b89dcdcd43",
       "version_major": 2,
       "version_minor": 0
      },
      "text/plain": [
       "Output()"
      ]
     },
     "metadata": {},
     "output_type": "display_data"
    },
    {
     "name": "stderr",
     "output_type": "stream",
     "text": [
      "\u001b[1;38;5;214mCOMET WARNING:\u001b[0m Unknown error exporting current conda environment\n",
      "\u001b[1;38;5;214mCOMET WARNING:\u001b[0m Unknown error retrieving Conda package as an explicit file\n",
      "\u001b[1;38;5;214mCOMET WARNING:\u001b[0m Unknown error retrieving Conda information\n",
      "`Trainer.fit` stopped: `max_epochs=10` reached.\n"
     ]
    },
    {
     "data": {
      "text/html": [
       "<pre style=\"white-space:pre;overflow-x:auto;line-height:normal;font-family:Menlo,'DejaVu Sans Mono',consolas,'Courier New',monospace\"></pre>\n"
      ],
      "text/plain": []
     },
     "metadata": {},
     "output_type": "display_data"
    },
    {
     "data": {
      "text/html": [
       "<pre style=\"white-space:pre;overflow-x:auto;line-height:normal;font-family:Menlo,'DejaVu Sans Mono',consolas,'Courier New',monospace\">\n",
       "</pre>\n"
      ],
      "text/plain": [
       "\n"
      ]
     },
     "metadata": {},
     "output_type": "display_data"
    },
    {
     "name": "stderr",
     "output_type": "stream",
     "text": [
      "\u001b[1;38;5;39mCOMET INFO:\u001b[0m ---------------------------------------------------------------------------------------\n",
      "\u001b[1;38;5;39mCOMET INFO:\u001b[0m Comet.ml Experiment Summary\n",
      "\u001b[1;38;5;39mCOMET INFO:\u001b[0m ---------------------------------------------------------------------------------------\n",
      "\u001b[1;38;5;39mCOMET INFO:\u001b[0m   Data:\n",
      "\u001b[1;38;5;39mCOMET INFO:\u001b[0m     display_summary_level : 1\n",
      "\u001b[1;38;5;39mCOMET INFO:\u001b[0m     url                   : https://www.comet.com/verdangeta/recsys/c55547cb2eb144dc85d36a85391df76b\n",
      "\u001b[1;38;5;39mCOMET INFO:\u001b[0m   Metrics [count] (min, max):\n",
      "\u001b[1;38;5;39mCOMET INFO:\u001b[0m     train/loss [10]   : (0.0032484401017427444, 0.5466639399528503)\n",
      "\u001b[1;38;5;39mCOMET INFO:\u001b[0m     val/MRR@1 [10]    : (0.8504864311315924, 0.9057859703020993)\n",
      "\u001b[1;38;5;39mCOMET INFO:\u001b[0m     val/MRR@2 [10]    : (0.8507424475166411, 0.8841525857654889)\n",
      "\u001b[1;38;5;39mCOMET INFO:\u001b[0m     val/MRR@3 [10]    : (0.8458781362007171, 0.875405359276327)\n",
      "\u001b[1;38;5;39mCOMET INFO:\u001b[0m     val/NDCG@1 [10]   : (0.8504864573478699, 0.9057859778404236)\n",
      "\u001b[1;38;5;39mCOMET INFO:\u001b[0m     val/NDCG@2 [10]   : (0.817588210105896, 0.8627787232398987)\n",
      "\u001b[1;38;5;39mCOMET INFO:\u001b[0m     val/NDCG@3 [10]   : (0.8164201378822327, 0.8523037433624268)\n",
      "\u001b[1;38;5;39mCOMET INFO:\u001b[0m     val/Recall@1 [10] : (0.8504864573478699, 0.9057859778404236)\n",
      "\u001b[1;38;5;39mCOMET INFO:\u001b[0m     val/Recall@2 [10] : (0.8125960230827332, 0.8522785305976868)\n",
      "\u001b[1;38;5;39mCOMET INFO:\u001b[0m     val/Recall@3 [10] : (0.8167775273323059, 0.8422084450721741)\n",
      "\u001b[1;38;5;39mCOMET INFO:\u001b[0m   Others:\n",
      "\u001b[1;38;5;39mCOMET INFO:\u001b[0m     Created from : pytorch-lightning\n",
      "\u001b[1;38;5;39mCOMET INFO:\u001b[0m     Name         : caser_santander_64\n",
      "\u001b[1;38;5;39mCOMET INFO:\u001b[0m   Parameters:\n",
      "\u001b[1;38;5;39mCOMET INFO:\u001b[0m     callbacks/early_stopping/_target_                  : pytorch_lightning.callbacks.EarlyStopping\n",
      "\u001b[1;38;5;39mCOMET INFO:\u001b[0m     callbacks/early_stopping/min_delta                 : 0\n",
      "\u001b[1;38;5;39mCOMET INFO:\u001b[0m     callbacks/early_stopping/mode                      : max\n",
      "\u001b[1;38;5;39mCOMET INFO:\u001b[0m     callbacks/early_stopping/monitor                   : val/Recall@3\n",
      "\u001b[1;38;5;39mCOMET INFO:\u001b[0m     callbacks/early_stopping/patience                  : 100\n",
      "\u001b[1;38;5;39mCOMET INFO:\u001b[0m     callbacks/model_checkpoint/_target_                : pytorch_lightning.callbacks.ModelCheckpoint\n",
      "\u001b[1;38;5;39mCOMET INFO:\u001b[0m     callbacks/model_checkpoint/auto_insert_metric_name : False\n",
      "\u001b[1;38;5;39mCOMET INFO:\u001b[0m     callbacks/model_checkpoint/dirpath                 : checkpoints/\n",
      "\u001b[1;38;5;39mCOMET INFO:\u001b[0m     callbacks/model_checkpoint/filename                : epoch_{epoch:03d}\n",
      "\u001b[1;38;5;39mCOMET INFO:\u001b[0m     callbacks/model_checkpoint/mode                    : max\n",
      "\u001b[1;38;5;39mCOMET INFO:\u001b[0m     callbacks/model_checkpoint/monitor                 : val/Recall@3\n",
      "\u001b[1;38;5;39mCOMET INFO:\u001b[0m     callbacks/model_checkpoint/save_last               : True\n",
      "\u001b[1;38;5;39mCOMET INFO:\u001b[0m     callbacks/model_checkpoint/save_top_k              : 1\n",
      "\u001b[1;38;5;39mCOMET INFO:\u001b[0m     callbacks/model_checkpoint/verbose                 : False\n",
      "\u001b[1;38;5;39mCOMET INFO:\u001b[0m     callbacks/model_summary/_target_                   : pytorch_lightning.callbacks.RichModelSummary\n",
      "\u001b[1;38;5;39mCOMET INFO:\u001b[0m     callbacks/model_summary/max_depth                  : -1\n",
      "\u001b[1;38;5;39mCOMET INFO:\u001b[0m     callbacks/rich_progress_bar/_target_               : pytorch_lightning.callbacks.RichProgressBar\n",
      "\u001b[1;38;5;39mCOMET INFO:\u001b[0m     datamodule/_target_                                : src.datamodules.caser_datamodule.SantanderDataModule\n",
      "\u001b[1;38;5;39mCOMET INFO:\u001b[0m     datamodule/batch_size                              : 64\n",
      "\u001b[1;38;5;39mCOMET INFO:\u001b[0m     datamodule/data_dir                                : C:\\Users\\Skoltech\\Desktop\\RecSystemFinal\\Caser/data/\n",
      "\u001b[1;38;5;39mCOMET INFO:\u001b[0m     datamodule/dataset_name                            : train_ver2.csv\n",
      "\u001b[1;38;5;39mCOMET INFO:\u001b[0m     datamodule/dataset_name_test                       : train_ver2.csv\n",
      "\u001b[1;38;5;39mCOMET INFO:\u001b[0m     datamodule/min_data_points                         : 17\n",
      "\u001b[1;38;5;39mCOMET INFO:\u001b[0m     datamodule/neg_samples                             : 3\n",
      "\u001b[1;38;5;39mCOMET INFO:\u001b[0m     datamodule/num_workers                             : 0\n",
      "\u001b[1;38;5;39mCOMET INFO:\u001b[0m     datamodule/pin_memory                              : False\n",
      "\u001b[1;38;5;39mCOMET INFO:\u001b[0m     datamodule/sample_size                             : 2000\n",
      "\u001b[1;38;5;39mCOMET INFO:\u001b[0m     datamodule/seed                                    : 0\n",
      "\u001b[1;38;5;39mCOMET INFO:\u001b[0m     datamodule/sequence_length                         : 5\n",
      "\u001b[1;38;5;39mCOMET INFO:\u001b[0m     datamodule/target_length                           : 1\n",
      "\u001b[1;38;5;39mCOMET INFO:\u001b[0m     model/L                                            : 5\n",
      "\u001b[1;38;5;39mCOMET INFO:\u001b[0m     model/_target_                                     : src.models.caser.CaserModel\n",
      "\u001b[1;38;5;39mCOMET INFO:\u001b[0m     model/ac_conv                                      : relu\n",
      "\u001b[1;38;5;39mCOMET INFO:\u001b[0m     model/ac_fc                                        : relu\n",
      "\u001b[1;38;5;39mCOMET INFO:\u001b[0m     model/d                                            : 50\n",
      "\u001b[1;38;5;39mCOMET INFO:\u001b[0m     model/data_dir                                     : C:\\Users\\Skoltech\\Desktop\\RecSystemFinal\\Caser/data/\n",
      "\u001b[1;38;5;39mCOMET INFO:\u001b[0m     model/dataset_name                                 : train_ver2.csv\n",
      "\u001b[1;38;5;39mCOMET INFO:\u001b[0m     model/dataset_name_test                            : train_ver2.csv\n",
      "\u001b[1;38;5;39mCOMET INFO:\u001b[0m     model/drop                                         : 0.5\n",
      "\u001b[1;38;5;39mCOMET INFO:\u001b[0m     model/l2                                           : 1e-06\n",
      "\u001b[1;38;5;39mCOMET INFO:\u001b[0m     model/learning_rate                                : 0.001\n",
      "\u001b[1;38;5;39mCOMET INFO:\u001b[0m     model/nh                                           : 16\n",
      "\u001b[1;38;5;39mCOMET INFO:\u001b[0m     model/nv                                           : 4\n",
      "\u001b[1;38;5;39mCOMET INFO:\u001b[0m     model/params/non_trainable                         : 0\n",
      "\u001b[1;38;5;39mCOMET INFO:\u001b[0m     model/params/total                                 : 127578\n",
      "\u001b[1;38;5;39mCOMET INFO:\u001b[0m     model/params/trainable                             : 127578\n",
      "\u001b[1;38;5;39mCOMET INFO:\u001b[0m     seed                                               : 25\n",
      "\u001b[1;38;5;39mCOMET INFO:\u001b[0m     trainer/_target_                                   : pytorch_lightning.Trainer\n",
      "\u001b[1;38;5;39mCOMET INFO:\u001b[0m     trainer/accelerator                                : cpu\n",
      "\u001b[1;38;5;39mCOMET INFO:\u001b[0m     trainer/max_epochs                                 : 10\n",
      "\u001b[1;38;5;39mCOMET INFO:\u001b[0m     trainer/min_epochs                                 : 1\n",
      "\u001b[1;38;5;39mCOMET INFO:\u001b[0m   Uploads:\n",
      "\u001b[1;38;5;39mCOMET INFO:\u001b[0m     environment details      : 1\n",
      "\u001b[1;38;5;39mCOMET INFO:\u001b[0m     filename                 : 1\n",
      "\u001b[1;38;5;39mCOMET INFO:\u001b[0m     git metadata             : 1\n",
      "\u001b[1;38;5;39mCOMET INFO:\u001b[0m     git-patch (uncompressed) : 1 (1.43 MB)\n",
      "\u001b[1;38;5;39mCOMET INFO:\u001b[0m     installed packages       : 1\n",
      "\u001b[1;38;5;39mCOMET INFO:\u001b[0m     model graph              : 1\n",
      "\u001b[1;38;5;39mCOMET INFO:\u001b[0m     notebook                 : 1\n",
      "\u001b[1;38;5;39mCOMET INFO:\u001b[0m     source_code              : 1\n",
      "\u001b[1;38;5;39mCOMET INFO:\u001b[0m \n",
      "\u001b[1;38;5;214mCOMET WARNING:\u001b[0m To get all data logged automatically, import comet_ml before the following modules: torch.\n",
      "\u001b[1;38;5;39mCOMET INFO:\u001b[0m Please wait for metadata to finish uploading (timeout is 3600 seconds)\n"
     ]
    },
    {
     "name": "stdout",
     "output_type": "stream",
     "text": [
      "[\u001b[36m2023-11-14 15:20:37,745\u001b[0m][\u001b[34msrc.training_pipeline\u001b[0m][\u001b[32mINFO\u001b[0m] - Starting testing!\u001b[0m\n"
     ]
    },
    {
     "name": "stderr",
     "output_type": "stream",
     "text": [
      "Restoring states from the checkpoint path at C:\\Users\\Skoltech\\Desktop\\RecSystemFinal\\Caser\\logs\\experiments\\runs\\caser_santander_64\\2023-11-14_15-17-34\\checkpoints\\epoch_001.ckpt\n",
      "Loaded model weights from the checkpoint at C:\\Users\\Skoltech\\Desktop\\RecSystemFinal\\Caser\\logs\\experiments\\runs\\caser_santander_64\\2023-11-14_15-17-34\\checkpoints\\epoch_001.ckpt\n"
     ]
    },
    {
     "data": {
      "application/vnd.jupyter.widget-view+json": {
       "model_id": "a2abf2d7e2ff4655b9e28c5e0a20faa7",
       "version_major": 2,
       "version_minor": 0
      },
      "text/plain": [
       "Output()"
      ]
     },
     "metadata": {},
     "output_type": "display_data"
    },
    {
     "name": "stdout",
     "output_type": "stream",
     "text": [
      "preparing data has already done!\n"
     ]
    },
    {
     "name": "stderr",
     "output_type": "stream",
     "text": [
      "\u001b[1;38;5;214mCOMET WARNING:\u001b[0m To get all data logged automatically, import comet_ml before the following modules: torch.\n",
      "\u001b[1;38;5;214mCOMET WARNING:\u001b[0m As you are running in a Jupyter environment, you will need to call `experiment.end()` when finished to ensure all metrics and code are logged before exiting.\n",
      "\u001b[1;38;5;39mCOMET INFO:\u001b[0m Experiment is live on comet.com https://www.comet.com/verdangeta/recsys/c55547cb2eb144dc85d36a85391df76b\n",
      "\n"
     ]
    },
    {
     "data": {
      "text/html": [
       "<pre style=\"white-space:pre;overflow-x:auto;line-height:normal;font-family:Menlo,'DejaVu Sans Mono',consolas,'Courier New',monospace\">┏━━━━━━━━━━━━━━━━━━━━━━━━━━━┳━━━━━━━━━━━━━━━━━━━━━━━━━━━┓\n",
       "┃<span style=\"font-weight: bold\">        Test metric        </span>┃<span style=\"font-weight: bold\">       DataLoader 0        </span>┃\n",
       "┡━━━━━━━━━━━━━━━━━━━━━━━━━━━╇━━━━━━━━━━━━━━━━━━━━━━━━━━━┩\n",
       "│<span style=\"color: #008080; text-decoration-color: #008080\">        test/MRR@1         </span>│<span style=\"color: #800080; text-decoration-color: #800080\">    0.8453661034306196     </span>│\n",
       "│<span style=\"color: #008080; text-decoration-color: #008080\">        test/MRR@2         </span>│<span style=\"color: #800080; text-decoration-color: #800080\">    0.8428059395801332     </span>│\n",
       "│<span style=\"color: #008080; text-decoration-color: #008080\">        test/MRR@3         </span>│<span style=\"color: #800080; text-decoration-color: #800080\">    0.8419667747624736     </span>│\n",
       "│<span style=\"color: #008080; text-decoration-color: #008080\">        test/NDCG@1        </span>│<span style=\"color: #800080; text-decoration-color: #800080\">    0.8453661203384399     </span>│\n",
       "│<span style=\"color: #008080; text-decoration-color: #008080\">        test/NDCG@2        </span>│<span style=\"color: #800080; text-decoration-color: #800080\">     0.82179194688797      </span>│\n",
       "│<span style=\"color: #008080; text-decoration-color: #008080\">        test/NDCG@3        </span>│<span style=\"color: #800080; text-decoration-color: #800080\">    0.8243833184242249     </span>│\n",
       "│<span style=\"color: #008080; text-decoration-color: #008080\">       test/Recall@1       </span>│<span style=\"color: #800080; text-decoration-color: #800080\">    0.8453661203384399     </span>│\n",
       "│<span style=\"color: #008080; text-decoration-color: #008080\">       test/Recall@2       </span>│<span style=\"color: #800080; text-decoration-color: #800080\">    0.8166922926902771     </span>│\n",
       "│<span style=\"color: #008080; text-decoration-color: #008080\">       test/Recall@3       </span>│<span style=\"color: #800080; text-decoration-color: #800080\">    0.8235193490982056     </span>│\n",
       "└───────────────────────────┴───────────────────────────┘\n",
       "</pre>\n"
      ],
      "text/plain": [
       "┏━━━━━━━━━━━━━━━━━━━━━━━━━━━┳━━━━━━━━━━━━━━━━━━━━━━━━━━━┓\n",
       "┃\u001b[1m \u001b[0m\u001b[1m       Test metric       \u001b[0m\u001b[1m \u001b[0m┃\u001b[1m \u001b[0m\u001b[1m      DataLoader 0       \u001b[0m\u001b[1m \u001b[0m┃\n",
       "┡━━━━━━━━━━━━━━━━━━━━━━━━━━━╇━━━━━━━━━━━━━━━━━━━━━━━━━━━┩\n",
       "│\u001b[36m \u001b[0m\u001b[36m       test/MRR@1        \u001b[0m\u001b[36m \u001b[0m│\u001b[35m \u001b[0m\u001b[35m   0.8453661034306196    \u001b[0m\u001b[35m \u001b[0m│\n",
       "│\u001b[36m \u001b[0m\u001b[36m       test/MRR@2        \u001b[0m\u001b[36m \u001b[0m│\u001b[35m \u001b[0m\u001b[35m   0.8428059395801332    \u001b[0m\u001b[35m \u001b[0m│\n",
       "│\u001b[36m \u001b[0m\u001b[36m       test/MRR@3        \u001b[0m\u001b[36m \u001b[0m│\u001b[35m \u001b[0m\u001b[35m   0.8419667747624736    \u001b[0m\u001b[35m \u001b[0m│\n",
       "│\u001b[36m \u001b[0m\u001b[36m       test/NDCG@1       \u001b[0m\u001b[36m \u001b[0m│\u001b[35m \u001b[0m\u001b[35m   0.8453661203384399    \u001b[0m\u001b[35m \u001b[0m│\n",
       "│\u001b[36m \u001b[0m\u001b[36m       test/NDCG@2       \u001b[0m\u001b[36m \u001b[0m│\u001b[35m \u001b[0m\u001b[35m    0.82179194688797     \u001b[0m\u001b[35m \u001b[0m│\n",
       "│\u001b[36m \u001b[0m\u001b[36m       test/NDCG@3       \u001b[0m\u001b[36m \u001b[0m│\u001b[35m \u001b[0m\u001b[35m   0.8243833184242249    \u001b[0m\u001b[35m \u001b[0m│\n",
       "│\u001b[36m \u001b[0m\u001b[36m      test/Recall@1      \u001b[0m\u001b[36m \u001b[0m│\u001b[35m \u001b[0m\u001b[35m   0.8453661203384399    \u001b[0m\u001b[35m \u001b[0m│\n",
       "│\u001b[36m \u001b[0m\u001b[36m      test/Recall@2      \u001b[0m\u001b[36m \u001b[0m│\u001b[35m \u001b[0m\u001b[35m   0.8166922926902771    \u001b[0m\u001b[35m \u001b[0m│\n",
       "│\u001b[36m \u001b[0m\u001b[36m      test/Recall@3      \u001b[0m\u001b[36m \u001b[0m│\u001b[35m \u001b[0m\u001b[35m   0.8235193490982056    \u001b[0m\u001b[35m \u001b[0m│\n",
       "└───────────────────────────┴───────────────────────────┘\n"
      ]
     },
     "metadata": {},
     "output_type": "display_data"
    },
    {
     "data": {
      "text/html": [
       "<pre style=\"white-space:pre;overflow-x:auto;line-height:normal;font-family:Menlo,'DejaVu Sans Mono',consolas,'Courier New',monospace\"></pre>\n"
      ],
      "text/plain": []
     },
     "metadata": {},
     "output_type": "display_data"
    },
    {
     "data": {
      "text/html": [
       "<pre style=\"white-space:pre;overflow-x:auto;line-height:normal;font-family:Menlo,'DejaVu Sans Mono',consolas,'Courier New',monospace\">\n",
       "</pre>\n"
      ],
      "text/plain": [
       "\n"
      ]
     },
     "metadata": {},
     "output_type": "display_data"
    },
    {
     "name": "stderr",
     "output_type": "stream",
     "text": [
      "\u001b[1;38;5;39mCOMET INFO:\u001b[0m ---------------------------------------------------------------------------------------\n",
      "\u001b[1;38;5;39mCOMET INFO:\u001b[0m Comet.ml ExistingExperiment Summary\n",
      "\u001b[1;38;5;39mCOMET INFO:\u001b[0m ---------------------------------------------------------------------------------------\n",
      "\u001b[1;38;5;39mCOMET INFO:\u001b[0m   Data:\n",
      "\u001b[1;38;5;39mCOMET INFO:\u001b[0m     display_summary_level : 1\n",
      "\u001b[1;38;5;39mCOMET INFO:\u001b[0m     url                   : https://www.comet.com/verdangeta/recsys/c55547cb2eb144dc85d36a85391df76b\n",
      "\u001b[1;38;5;39mCOMET INFO:\u001b[0m   Metrics:\n",
      "\u001b[1;38;5;39mCOMET INFO:\u001b[0m     test/MRR@1    : 0.8453661034306196\n",
      "\u001b[1;38;5;39mCOMET INFO:\u001b[0m     test/MRR@2    : 0.8428059395801332\n",
      "\u001b[1;38;5;39mCOMET INFO:\u001b[0m     test/MRR@3    : 0.8419667747624736\n",
      "\u001b[1;38;5;39mCOMET INFO:\u001b[0m     test/NDCG@1   : 0.8453661203384399\n",
      "\u001b[1;38;5;39mCOMET INFO:\u001b[0m     test/NDCG@2   : 0.82179194688797\n",
      "\u001b[1;38;5;39mCOMET INFO:\u001b[0m     test/NDCG@3   : 0.8243833184242249\n",
      "\u001b[1;38;5;39mCOMET INFO:\u001b[0m     test/Recall@1 : 0.8453661203384399\n",
      "\u001b[1;38;5;39mCOMET INFO:\u001b[0m     test/Recall@2 : 0.8166922926902771\n",
      "\u001b[1;38;5;39mCOMET INFO:\u001b[0m     test/Recall@3 : 0.8235193490982056\n",
      "\u001b[1;38;5;39mCOMET INFO:\u001b[0m   Others:\n",
      "\u001b[1;38;5;39mCOMET INFO:\u001b[0m     Created from : pytorch-lightning\n",
      "\u001b[1;38;5;39mCOMET INFO:\u001b[0m     Name         : caser_santander_64\n",
      "\u001b[1;38;5;39mCOMET INFO:\u001b[0m \n",
      "\u001b[1;38;5;214mCOMET WARNING:\u001b[0m To get all data logged automatically, import comet_ml before the following modules: torch.\n",
      "\u001b[1;38;5;39mCOMET INFO:\u001b[0m Uploading 1 metrics, params and output messages\n"
     ]
    },
    {
     "name": "stdout",
     "output_type": "stream",
     "text": [
      "[\u001b[36m2023-11-14 15:20:43,584\u001b[0m][\u001b[34msrc.training_pipeline\u001b[0m][\u001b[32mINFO\u001b[0m] - Finalizing!\u001b[0m\n",
      "[\u001b[36m2023-11-14 15:20:43,585\u001b[0m][\u001b[34msrc.training_pipeline\u001b[0m][\u001b[32mINFO\u001b[0m] - Best model ckpt at C:\\Users\\Skoltech\\Desktop\\RecSystemFinal\\Caser\\logs\\experiments\\runs\\caser_santander_64\\2023-11-14_15-17-34\\checkpoints\\epoch_001.ckpt\u001b[0m\n"
     ]
    }
   ],
   "source": [
    "%run -i train.py +seed=25"
   ]
  },
  {
   "cell_type": "markdown",
   "id": "4df4bd62",
   "metadata": {},
   "source": [
    "## Testing Caser"
   ]
  },
  {
   "cell_type": "code",
   "execution_count": 14,
   "id": "1b7e8404",
   "metadata": {
    "ExecuteTime": {
     "end_time": "2023-11-14T12:26:20.795412Z",
     "start_time": "2023-11-14T12:26:08.520561Z"
    },
    "scrolled": true
   },
   "outputs": [
    {
     "data": {
      "text/html": [
       "<pre style=\"white-space:pre;overflow-x:auto;line-height:normal;font-family:Menlo,'DejaVu Sans Mono',consolas,'Courier New',monospace\">[<span style=\"color: #008080; text-decoration-color: #008080\">2023-11-14 15:26:09,011</span>][<span style=\"color: #000080; text-decoration-color: #000080\">src.utils</span>][<span style=\"color: #008000; text-decoration-color: #008000\">INFO</span>] - Disabling python warnings! &lt;config.ignore_warnings=True&gt;\n",
       "</pre>\n"
      ],
      "text/plain": [
       "[\u001b[36m2023-11-14 15:26:09,011\u001b[0m][\u001b[34msrc.utils\u001b[0m][\u001b[32mINFO\u001b[0m] - Disabling python warnings! <config.ignore_warnings=True>\n"
      ]
     },
     "metadata": {},
     "output_type": "display_data"
    },
    {
     "data": {
      "text/html": [
       "<pre style=\"white-space:pre;overflow-x:auto;line-height:normal;font-family:Menlo,'DejaVu Sans Mono',consolas,'Courier New',monospace\">[<span style=\"color: #008080; text-decoration-color: #008080\">2023-11-14 15:26:09,012</span>][<span style=\"color: #000080; text-decoration-color: #000080\">src.utils</span>][<span style=\"color: #008000; text-decoration-color: #008000\">INFO</span>] - Printing config tree with Rich! &lt;config.print_config=True&gt;\n",
       "</pre>\n"
      ],
      "text/plain": [
       "[\u001b[36m2023-11-14 15:26:09,012\u001b[0m][\u001b[34msrc.utils\u001b[0m][\u001b[32mINFO\u001b[0m] - Printing config tree with Rich! <config.print_config=True>\n"
      ]
     },
     "metadata": {},
     "output_type": "display_data"
    },
    {
     "data": {
      "text/html": [
       "<pre style=\"white-space:pre;overflow-x:auto;line-height:normal;font-family:Menlo,'DejaVu Sans Mono',consolas,'Courier New',monospace\"><span style=\"color: #7f7f7f; text-decoration-color: #7f7f7f\">CONFIG</span>\n",
       "<span style=\"color: #7f7f7f; text-decoration-color: #7f7f7f\">├── </span><span style=\"color: #7f7f7f; text-decoration-color: #7f7f7f\">datamodule</span>\n",
       "<span style=\"color: #7f7f7f; text-decoration-color: #7f7f7f\">│   └── </span><span style=\"color: #fc92b8; text-decoration-color: #fc92b8; background-color: #272822\">_target_</span><span style=\"color: #fbfbf8; text-decoration-color: #fbfbf8; background-color: #272822\">: </span><span style=\"color: #7f7f7f; text-decoration-color: #7f7f7f; background-color: #272822\">src.datamodules.caser_datamodule.SantanderDataModule                                             </span>\n",
       "<span style=\"color: #7f7f7f; text-decoration-color: #7f7f7f\">│       </span><span style=\"color: #fc92b8; text-decoration-color: #fc92b8; background-color: #272822\">data_dir</span><span style=\"color: #fbfbf8; text-decoration-color: #fbfbf8; background-color: #272822\">: </span><span style=\"color: #7f7f7f; text-decoration-color: #7f7f7f; background-color: #272822\">C:\\Users\\Skoltech\\Desktop\\RecSystemFinal\\Caser/data/                                             </span>\n",
       "<span style=\"color: #7f7f7f; text-decoration-color: #7f7f7f\">│       </span><span style=\"color: #fc92b8; text-decoration-color: #fc92b8; background-color: #272822\">dataset_name</span><span style=\"color: #fbfbf8; text-decoration-color: #fbfbf8; background-color: #272822\">: </span><span style=\"color: #7f7f7f; text-decoration-color: #7f7f7f; background-color: #272822\">train_ver2.csv                                                                               </span>\n",
       "<span style=\"color: #7f7f7f; text-decoration-color: #7f7f7f\">│       </span><span style=\"color: #fc92b8; text-decoration-color: #fc92b8; background-color: #272822\">dataset_name_test</span><span style=\"color: #fbfbf8; text-decoration-color: #fbfbf8; background-color: #272822\">: </span><span style=\"color: #7f7f7f; text-decoration-color: #7f7f7f; background-color: #272822\">train_ver2.csv                                                                          </span>\n",
       "<span style=\"color: #7f7f7f; text-decoration-color: #7f7f7f\">│       </span><span style=\"color: #fc92b8; text-decoration-color: #fc92b8; background-color: #272822\">batch_size</span><span style=\"color: #fbfbf8; text-decoration-color: #fbfbf8; background-color: #272822\">: </span><span style=\"color: #7f7f7f; text-decoration-color: #7f7f7f; background-color: #272822\">64                                                                                             </span>\n",
       "<span style=\"color: #7f7f7f; text-decoration-color: #7f7f7f\">│       </span><span style=\"color: #fc92b8; text-decoration-color: #fc92b8; background-color: #272822\">num_workers</span><span style=\"color: #fbfbf8; text-decoration-color: #fbfbf8; background-color: #272822\">: </span><span style=\"color: #7f7f7f; text-decoration-color: #7f7f7f; background-color: #272822\">0                                                                                             </span>\n",
       "<span style=\"color: #7f7f7f; text-decoration-color: #7f7f7f\">│       </span><span style=\"color: #fc92b8; text-decoration-color: #fc92b8; background-color: #272822\">pin_memory</span><span style=\"color: #fbfbf8; text-decoration-color: #fbfbf8; background-color: #272822\">: </span><span style=\"color: #7f7f7f; text-decoration-color: #7f7f7f; background-color: #272822\">false                                                                                          </span>\n",
       "<span style=\"color: #7f7f7f; text-decoration-color: #7f7f7f\">│       </span><span style=\"color: #fc92b8; text-decoration-color: #fc92b8; background-color: #272822\">sample_size</span><span style=\"color: #fbfbf8; text-decoration-color: #fbfbf8; background-color: #272822\">: </span><span style=\"color: #7f7f7f; text-decoration-color: #7f7f7f; background-color: #272822\">2000                                                                                          </span>\n",
       "<span style=\"color: #7f7f7f; text-decoration-color: #7f7f7f\">│       </span><span style=\"color: #fc92b8; text-decoration-color: #fc92b8; background-color: #272822\">min_data_points</span><span style=\"color: #fbfbf8; text-decoration-color: #fbfbf8; background-color: #272822\">: </span><span style=\"color: #7f7f7f; text-decoration-color: #7f7f7f; background-color: #272822\">17                                                                                        </span>\n",
       "<span style=\"color: #7f7f7f; text-decoration-color: #7f7f7f\">│       </span><span style=\"color: #fc92b8; text-decoration-color: #fc92b8; background-color: #272822\">seed</span><span style=\"color: #fbfbf8; text-decoration-color: #fbfbf8; background-color: #272822\">: </span><span style=\"color: #7f7f7f; text-decoration-color: #7f7f7f; background-color: #272822\">0                                                                                                    </span>\n",
       "<span style=\"color: #7f7f7f; text-decoration-color: #7f7f7f\">│       </span><span style=\"color: #fc92b8; text-decoration-color: #fc92b8; background-color: #272822\">sequence_length</span><span style=\"color: #fbfbf8; text-decoration-color: #fbfbf8; background-color: #272822\">: </span><span style=\"color: #7f7f7f; text-decoration-color: #7f7f7f; background-color: #272822\">5                                                                                         </span>\n",
       "<span style=\"color: #7f7f7f; text-decoration-color: #7f7f7f\">│       </span><span style=\"color: #fc92b8; text-decoration-color: #fc92b8; background-color: #272822\">target_length</span><span style=\"color: #fbfbf8; text-decoration-color: #fbfbf8; background-color: #272822\">: </span><span style=\"color: #7f7f7f; text-decoration-color: #7f7f7f; background-color: #272822\">1                                                                                           </span>\n",
       "<span style=\"color: #7f7f7f; text-decoration-color: #7f7f7f\">│       </span><span style=\"color: #fc92b8; text-decoration-color: #fc92b8; background-color: #272822\">neg_samples</span><span style=\"color: #fbfbf8; text-decoration-color: #fbfbf8; background-color: #272822\">: </span><span style=\"color: #7f7f7f; text-decoration-color: #7f7f7f; background-color: #272822\">3                                                                                             </span>\n",
       "<span style=\"color: #7f7f7f; text-decoration-color: #7f7f7f\">│       </span><span style=\"color: #7f7f7f; text-decoration-color: #7f7f7f; background-color: #272822\">                                                                                                           </span>\n",
       "<span style=\"color: #7f7f7f; text-decoration-color: #7f7f7f\">├── </span><span style=\"color: #7f7f7f; text-decoration-color: #7f7f7f\">model</span>\n",
       "<span style=\"color: #7f7f7f; text-decoration-color: #7f7f7f\">│   └── </span><span style=\"color: #fc92b8; text-decoration-color: #fc92b8; background-color: #272822\">_target_</span><span style=\"color: #fbfbf8; text-decoration-color: #fbfbf8; background-color: #272822\">: </span><span style=\"color: #7f7f7f; text-decoration-color: #7f7f7f; background-color: #272822\">src.models.caser.CaserModel                                                                      </span>\n",
       "<span style=\"color: #7f7f7f; text-decoration-color: #7f7f7f\">│       </span><span style=\"color: #fc92b8; text-decoration-color: #fc92b8; background-color: #272822\">data_dir</span><span style=\"color: #fbfbf8; text-decoration-color: #fbfbf8; background-color: #272822\">: </span><span style=\"color: #7f7f7f; text-decoration-color: #7f7f7f; background-color: #272822\">C:\\Users\\Skoltech\\Desktop\\RecSystemFinal\\Caser/data/                                             </span>\n",
       "<span style=\"color: #7f7f7f; text-decoration-color: #7f7f7f\">│       </span><span style=\"color: #fc92b8; text-decoration-color: #fc92b8; background-color: #272822\">dataset_name</span><span style=\"color: #fbfbf8; text-decoration-color: #fbfbf8; background-color: #272822\">: </span><span style=\"color: #7f7f7f; text-decoration-color: #7f7f7f; background-color: #272822\">train_ver2.csv                                                                               </span>\n",
       "<span style=\"color: #7f7f7f; text-decoration-color: #7f7f7f\">│       </span><span style=\"color: #fc92b8; text-decoration-color: #fc92b8; background-color: #272822\">dataset_name_test</span><span style=\"color: #fbfbf8; text-decoration-color: #fbfbf8; background-color: #272822\">: </span><span style=\"color: #7f7f7f; text-decoration-color: #7f7f7f; background-color: #272822\">train_ver2.csv                                                                          </span>\n",
       "<span style=\"color: #7f7f7f; text-decoration-color: #7f7f7f\">│       </span><span style=\"color: #fc92b8; text-decoration-color: #fc92b8; background-color: #272822\">L</span><span style=\"color: #fbfbf8; text-decoration-color: #fbfbf8; background-color: #272822\">: </span><span style=\"color: #7f7f7f; text-decoration-color: #7f7f7f; background-color: #272822\">5                                                                                                       </span>\n",
       "<span style=\"color: #7f7f7f; text-decoration-color: #7f7f7f\">│       </span><span style=\"color: #fc92b8; text-decoration-color: #fc92b8; background-color: #272822\">d</span><span style=\"color: #fbfbf8; text-decoration-color: #fbfbf8; background-color: #272822\">: </span><span style=\"color: #7f7f7f; text-decoration-color: #7f7f7f; background-color: #272822\">50                                                                                                      </span>\n",
       "<span style=\"color: #7f7f7f; text-decoration-color: #7f7f7f\">│       </span><span style=\"color: #fc92b8; text-decoration-color: #fc92b8; background-color: #272822\">nh</span><span style=\"color: #fbfbf8; text-decoration-color: #fbfbf8; background-color: #272822\">: </span><span style=\"color: #7f7f7f; text-decoration-color: #7f7f7f; background-color: #272822\">16                                                                                                     </span>\n",
       "<span style=\"color: #7f7f7f; text-decoration-color: #7f7f7f\">│       </span><span style=\"color: #fc92b8; text-decoration-color: #fc92b8; background-color: #272822\">nv</span><span style=\"color: #fbfbf8; text-decoration-color: #fbfbf8; background-color: #272822\">: </span><span style=\"color: #7f7f7f; text-decoration-color: #7f7f7f; background-color: #272822\">4                                                                                                      </span>\n",
       "<span style=\"color: #7f7f7f; text-decoration-color: #7f7f7f\">│       </span><span style=\"color: #fc92b8; text-decoration-color: #fc92b8; background-color: #272822\">drop</span><span style=\"color: #fbfbf8; text-decoration-color: #fbfbf8; background-color: #272822\">: </span><span style=\"color: #7f7f7f; text-decoration-color: #7f7f7f; background-color: #272822\">0.5                                                                                                  </span>\n",
       "<span style=\"color: #7f7f7f; text-decoration-color: #7f7f7f\">│       </span><span style=\"color: #fc92b8; text-decoration-color: #fc92b8; background-color: #272822\">ac_conv</span><span style=\"color: #fbfbf8; text-decoration-color: #fbfbf8; background-color: #272822\">: </span><span style=\"color: #7f7f7f; text-decoration-color: #7f7f7f; background-color: #272822\">relu                                                                                              </span>\n",
       "<span style=\"color: #7f7f7f; text-decoration-color: #7f7f7f\">│       </span><span style=\"color: #fc92b8; text-decoration-color: #fc92b8; background-color: #272822\">ac_fc</span><span style=\"color: #fbfbf8; text-decoration-color: #fbfbf8; background-color: #272822\">: </span><span style=\"color: #7f7f7f; text-decoration-color: #7f7f7f; background-color: #272822\">relu                                                                                                </span>\n",
       "<span style=\"color: #7f7f7f; text-decoration-color: #7f7f7f\">│       </span><span style=\"color: #fc92b8; text-decoration-color: #fc92b8; background-color: #272822\">l2</span><span style=\"color: #fbfbf8; text-decoration-color: #fbfbf8; background-color: #272822\">: </span><span style=\"color: #7f7f7f; text-decoration-color: #7f7f7f; background-color: #272822\">1.0e-06                                                                                                </span>\n",
       "<span style=\"color: #7f7f7f; text-decoration-color: #7f7f7f\">│       </span><span style=\"color: #fc92b8; text-decoration-color: #fc92b8; background-color: #272822\">learning_rate</span><span style=\"color: #fbfbf8; text-decoration-color: #fbfbf8; background-color: #272822\">: </span><span style=\"color: #7f7f7f; text-decoration-color: #7f7f7f; background-color: #272822\">0.001                                                                                       </span>\n",
       "<span style=\"color: #7f7f7f; text-decoration-color: #7f7f7f\">│       </span><span style=\"color: #7f7f7f; text-decoration-color: #7f7f7f; background-color: #272822\">                                                                                                           </span>\n",
       "<span style=\"color: #7f7f7f; text-decoration-color: #7f7f7f\">├── </span><span style=\"color: #7f7f7f; text-decoration-color: #7f7f7f\">callbacks</span>\n",
       "<span style=\"color: #7f7f7f; text-decoration-color: #7f7f7f\">│   └── </span><span style=\"color: #fc92b8; text-decoration-color: #fc92b8; background-color: #272822\">model_checkpoint</span><span style=\"color: #fbfbf8; text-decoration-color: #fbfbf8; background-color: #272822\">:</span><span style=\"color: #7f7f7f; text-decoration-color: #7f7f7f; background-color: #272822\">                                                                                          </span>\n",
       "<span style=\"color: #7f7f7f; text-decoration-color: #7f7f7f\">│       </span><span style=\"color: #fbfbf8; text-decoration-color: #fbfbf8; background-color: #272822\">  </span><span style=\"color: #fc92b8; text-decoration-color: #fc92b8; background-color: #272822\">_target_</span><span style=\"color: #fbfbf8; text-decoration-color: #fbfbf8; background-color: #272822\">: </span><span style=\"color: #7f7f7f; text-decoration-color: #7f7f7f; background-color: #272822\">pytorch_lightning.callbacks.ModelCheckpoint                                                    </span>\n",
       "<span style=\"color: #7f7f7f; text-decoration-color: #7f7f7f\">│       </span><span style=\"color: #fbfbf8; text-decoration-color: #fbfbf8; background-color: #272822\">  </span><span style=\"color: #fc92b8; text-decoration-color: #fc92b8; background-color: #272822\">monitor</span><span style=\"color: #fbfbf8; text-decoration-color: #fbfbf8; background-color: #272822\">: </span><span style=\"color: #7f7f7f; text-decoration-color: #7f7f7f; background-color: #272822\">val/Recall@3                                                                                    </span>\n",
       "<span style=\"color: #7f7f7f; text-decoration-color: #7f7f7f\">│       </span><span style=\"color: #fbfbf8; text-decoration-color: #fbfbf8; background-color: #272822\">  </span><span style=\"color: #fc92b8; text-decoration-color: #fc92b8; background-color: #272822\">mode</span><span style=\"color: #fbfbf8; text-decoration-color: #fbfbf8; background-color: #272822\">: </span><span style=\"color: #7f7f7f; text-decoration-color: #7f7f7f; background-color: #272822\">max                                                                                                </span>\n",
       "<span style=\"color: #7f7f7f; text-decoration-color: #7f7f7f\">│       </span><span style=\"color: #fbfbf8; text-decoration-color: #fbfbf8; background-color: #272822\">  </span><span style=\"color: #fc92b8; text-decoration-color: #fc92b8; background-color: #272822\">save_top_k</span><span style=\"color: #fbfbf8; text-decoration-color: #fbfbf8; background-color: #272822\">: </span><span style=\"color: #7f7f7f; text-decoration-color: #7f7f7f; background-color: #272822\">1                                                                                            </span>\n",
       "<span style=\"color: #7f7f7f; text-decoration-color: #7f7f7f\">│       </span><span style=\"color: #fbfbf8; text-decoration-color: #fbfbf8; background-color: #272822\">  </span><span style=\"color: #fc92b8; text-decoration-color: #fc92b8; background-color: #272822\">save_last</span><span style=\"color: #fbfbf8; text-decoration-color: #fbfbf8; background-color: #272822\">: </span><span style=\"color: #7f7f7f; text-decoration-color: #7f7f7f; background-color: #272822\">true                                                                                          </span>\n",
       "<span style=\"color: #7f7f7f; text-decoration-color: #7f7f7f\">│       </span><span style=\"color: #fbfbf8; text-decoration-color: #fbfbf8; background-color: #272822\">  </span><span style=\"color: #fc92b8; text-decoration-color: #fc92b8; background-color: #272822\">verbose</span><span style=\"color: #fbfbf8; text-decoration-color: #fbfbf8; background-color: #272822\">: </span><span style=\"color: #7f7f7f; text-decoration-color: #7f7f7f; background-color: #272822\">false                                                                                           </span>\n",
       "<span style=\"color: #7f7f7f; text-decoration-color: #7f7f7f\">│       </span><span style=\"color: #fbfbf8; text-decoration-color: #fbfbf8; background-color: #272822\">  </span><span style=\"color: #fc92b8; text-decoration-color: #fc92b8; background-color: #272822\">dirpath</span><span style=\"color: #fbfbf8; text-decoration-color: #fbfbf8; background-color: #272822\">: </span><span style=\"color: #7f7f7f; text-decoration-color: #7f7f7f; background-color: #272822\">checkpoints/                                                                                    </span>\n",
       "<span style=\"color: #7f7f7f; text-decoration-color: #7f7f7f\">│       </span><span style=\"color: #fbfbf8; text-decoration-color: #fbfbf8; background-color: #272822\">  </span><span style=\"color: #fc92b8; text-decoration-color: #fc92b8; background-color: #272822\">filename</span><span style=\"color: #fbfbf8; text-decoration-color: #fbfbf8; background-color: #272822\">: </span><span style=\"color: #7f7f7f; text-decoration-color: #7f7f7f; background-color: #272822\">epoch_{epoch:03d}                                                                              </span>\n",
       "<span style=\"color: #7f7f7f; text-decoration-color: #7f7f7f\">│       </span><span style=\"color: #fbfbf8; text-decoration-color: #fbfbf8; background-color: #272822\">  </span><span style=\"color: #fc92b8; text-decoration-color: #fc92b8; background-color: #272822\">auto_insert_metric_name</span><span style=\"color: #fbfbf8; text-decoration-color: #fbfbf8; background-color: #272822\">: </span><span style=\"color: #7f7f7f; text-decoration-color: #7f7f7f; background-color: #272822\">false                                                                           </span>\n",
       "<span style=\"color: #7f7f7f; text-decoration-color: #7f7f7f\">│       </span><span style=\"color: #fc92b8; text-decoration-color: #fc92b8; background-color: #272822\">early_stopping</span><span style=\"color: #fbfbf8; text-decoration-color: #fbfbf8; background-color: #272822\">:</span><span style=\"color: #7f7f7f; text-decoration-color: #7f7f7f; background-color: #272822\">                                                                                            </span>\n",
       "<span style=\"color: #7f7f7f; text-decoration-color: #7f7f7f\">│       </span><span style=\"color: #fbfbf8; text-decoration-color: #fbfbf8; background-color: #272822\">  </span><span style=\"color: #fc92b8; text-decoration-color: #fc92b8; background-color: #272822\">_target_</span><span style=\"color: #fbfbf8; text-decoration-color: #fbfbf8; background-color: #272822\">: </span><span style=\"color: #7f7f7f; text-decoration-color: #7f7f7f; background-color: #272822\">pytorch_lightning.callbacks.EarlyStopping                                                      </span>\n",
       "<span style=\"color: #7f7f7f; text-decoration-color: #7f7f7f\">│       </span><span style=\"color: #fbfbf8; text-decoration-color: #fbfbf8; background-color: #272822\">  </span><span style=\"color: #fc92b8; text-decoration-color: #fc92b8; background-color: #272822\">monitor</span><span style=\"color: #fbfbf8; text-decoration-color: #fbfbf8; background-color: #272822\">: </span><span style=\"color: #7f7f7f; text-decoration-color: #7f7f7f; background-color: #272822\">val/Recall@3                                                                                    </span>\n",
       "<span style=\"color: #7f7f7f; text-decoration-color: #7f7f7f\">│       </span><span style=\"color: #fbfbf8; text-decoration-color: #fbfbf8; background-color: #272822\">  </span><span style=\"color: #fc92b8; text-decoration-color: #fc92b8; background-color: #272822\">mode</span><span style=\"color: #fbfbf8; text-decoration-color: #fbfbf8; background-color: #272822\">: </span><span style=\"color: #7f7f7f; text-decoration-color: #7f7f7f; background-color: #272822\">max                                                                                                </span>\n",
       "<span style=\"color: #7f7f7f; text-decoration-color: #7f7f7f\">│       </span><span style=\"color: #fbfbf8; text-decoration-color: #fbfbf8; background-color: #272822\">  </span><span style=\"color: #fc92b8; text-decoration-color: #fc92b8; background-color: #272822\">patience</span><span style=\"color: #fbfbf8; text-decoration-color: #fbfbf8; background-color: #272822\">: </span><span style=\"color: #7f7f7f; text-decoration-color: #7f7f7f; background-color: #272822\">100                                                                                            </span>\n",
       "<span style=\"color: #7f7f7f; text-decoration-color: #7f7f7f\">│       </span><span style=\"color: #fbfbf8; text-decoration-color: #fbfbf8; background-color: #272822\">  </span><span style=\"color: #fc92b8; text-decoration-color: #fc92b8; background-color: #272822\">min_delta</span><span style=\"color: #fbfbf8; text-decoration-color: #fbfbf8; background-color: #272822\">: </span><span style=\"color: #7f7f7f; text-decoration-color: #7f7f7f; background-color: #272822\">0                                                                                             </span>\n",
       "<span style=\"color: #7f7f7f; text-decoration-color: #7f7f7f\">│       </span><span style=\"color: #fc92b8; text-decoration-color: #fc92b8; background-color: #272822\">model_summary</span><span style=\"color: #fbfbf8; text-decoration-color: #fbfbf8; background-color: #272822\">:</span><span style=\"color: #7f7f7f; text-decoration-color: #7f7f7f; background-color: #272822\">                                                                                             </span>\n",
       "<span style=\"color: #7f7f7f; text-decoration-color: #7f7f7f\">│       </span><span style=\"color: #fbfbf8; text-decoration-color: #fbfbf8; background-color: #272822\">  </span><span style=\"color: #fc92b8; text-decoration-color: #fc92b8; background-color: #272822\">_target_</span><span style=\"color: #fbfbf8; text-decoration-color: #fbfbf8; background-color: #272822\">: </span><span style=\"color: #7f7f7f; text-decoration-color: #7f7f7f; background-color: #272822\">pytorch_lightning.callbacks.RichModelSummary                                                   </span>\n",
       "<span style=\"color: #7f7f7f; text-decoration-color: #7f7f7f\">│       </span><span style=\"color: #fbfbf8; text-decoration-color: #fbfbf8; background-color: #272822\">  </span><span style=\"color: #fc92b8; text-decoration-color: #fc92b8; background-color: #272822\">max_depth</span><span style=\"color: #fbfbf8; text-decoration-color: #fbfbf8; background-color: #272822\">: </span><span style=\"color: #7f7f7f; text-decoration-color: #7f7f7f; background-color: #272822\">-1                                                                                            </span>\n",
       "<span style=\"color: #7f7f7f; text-decoration-color: #7f7f7f\">│       </span><span style=\"color: #fc92b8; text-decoration-color: #fc92b8; background-color: #272822\">rich_progress_bar</span><span style=\"color: #fbfbf8; text-decoration-color: #fbfbf8; background-color: #272822\">:</span><span style=\"color: #7f7f7f; text-decoration-color: #7f7f7f; background-color: #272822\">                                                                                         </span>\n",
       "<span style=\"color: #7f7f7f; text-decoration-color: #7f7f7f\">│       </span><span style=\"color: #fbfbf8; text-decoration-color: #fbfbf8; background-color: #272822\">  </span><span style=\"color: #fc92b8; text-decoration-color: #fc92b8; background-color: #272822\">_target_</span><span style=\"color: #fbfbf8; text-decoration-color: #fbfbf8; background-color: #272822\">: </span><span style=\"color: #7f7f7f; text-decoration-color: #7f7f7f; background-color: #272822\">pytorch_lightning.callbacks.RichProgressBar                                                    </span>\n",
       "<span style=\"color: #7f7f7f; text-decoration-color: #7f7f7f\">│       </span><span style=\"color: #7f7f7f; text-decoration-color: #7f7f7f; background-color: #272822\">                                                                                                           </span>\n",
       "<span style=\"color: #7f7f7f; text-decoration-color: #7f7f7f\">├── </span><span style=\"color: #7f7f7f; text-decoration-color: #7f7f7f\">logger</span>\n",
       "<span style=\"color: #7f7f7f; text-decoration-color: #7f7f7f\">│   └── </span><span style=\"color: #fc92b8; text-decoration-color: #fc92b8; background-color: #272822\">comet</span><span style=\"color: #fbfbf8; text-decoration-color: #fbfbf8; background-color: #272822\">:</span><span style=\"color: #7f7f7f; text-decoration-color: #7f7f7f; background-color: #272822\">                                                                                                     </span>\n",
       "<span style=\"color: #7f7f7f; text-decoration-color: #7f7f7f\">│       </span><span style=\"color: #fbfbf8; text-decoration-color: #fbfbf8; background-color: #272822\">  </span><span style=\"color: #fc92b8; text-decoration-color: #fc92b8; background-color: #272822\">_target_</span><span style=\"color: #fbfbf8; text-decoration-color: #fbfbf8; background-color: #272822\">: </span><span style=\"color: #7f7f7f; text-decoration-color: #7f7f7f; background-color: #272822\">pytorch_lightning.loggers.comet.CometLogger                                                    </span>\n",
       "<span style=\"color: #7f7f7f; text-decoration-color: #7f7f7f\">│       </span><span style=\"color: #fbfbf8; text-decoration-color: #fbfbf8; background-color: #272822\">  </span><span style=\"color: #fc92b8; text-decoration-color: #fc92b8; background-color: #272822\">api_key</span><span style=\"color: #fbfbf8; text-decoration-color: #fbfbf8; background-color: #272822\">: </span><span style=\"color: #7f7f7f; text-decoration-color: #7f7f7f; background-color: #272822\">XmlVuApoep6S65VSewQg3tRDp                                                                       </span>\n",
       "<span style=\"color: #7f7f7f; text-decoration-color: #7f7f7f\">│       </span><span style=\"color: #fbfbf8; text-decoration-color: #fbfbf8; background-color: #272822\">  </span><span style=\"color: #fc92b8; text-decoration-color: #fc92b8; background-color: #272822\">project_name</span><span style=\"color: #fbfbf8; text-decoration-color: #fbfbf8; background-color: #272822\">: </span><span style=\"color: #7f7f7f; text-decoration-color: #7f7f7f; background-color: #272822\">recsys                                                                                     </span>\n",
       "<span style=\"color: #7f7f7f; text-decoration-color: #7f7f7f\">│       </span><span style=\"color: #fbfbf8; text-decoration-color: #fbfbf8; background-color: #272822\">  </span><span style=\"color: #fc92b8; text-decoration-color: #fc92b8; background-color: #272822\">workspace</span><span style=\"color: #fbfbf8; text-decoration-color: #fbfbf8; background-color: #272822\">: </span><span style=\"color: #7f7f7f; text-decoration-color: #7f7f7f; background-color: #272822\">verdangeta                                                                                    </span>\n",
       "<span style=\"color: #7f7f7f; text-decoration-color: #7f7f7f\">│       </span><span style=\"color: #fbfbf8; text-decoration-color: #fbfbf8; background-color: #272822\">  </span><span style=\"color: #fc92b8; text-decoration-color: #fc92b8; background-color: #272822\">experiment_name</span><span style=\"color: #fbfbf8; text-decoration-color: #fbfbf8; background-color: #272822\">: </span><span style=\"color: #7f7f7f; text-decoration-color: #7f7f7f; background-color: #272822\">default                                                                                 </span>\n",
       "<span style=\"color: #7f7f7f; text-decoration-color: #7f7f7f\">│       </span><span style=\"color: #7f7f7f; text-decoration-color: #7f7f7f; background-color: #272822\">                                                                                                           </span>\n",
       "<span style=\"color: #7f7f7f; text-decoration-color: #7f7f7f\">├── </span><span style=\"color: #7f7f7f; text-decoration-color: #7f7f7f\">trainer</span>\n",
       "<span style=\"color: #7f7f7f; text-decoration-color: #7f7f7f\">│   └── </span><span style=\"color: #fc92b8; text-decoration-color: #fc92b8; background-color: #272822\">_target_</span><span style=\"color: #fbfbf8; text-decoration-color: #fbfbf8; background-color: #272822\">: </span><span style=\"color: #7f7f7f; text-decoration-color: #7f7f7f; background-color: #272822\">pytorch_lightning.Trainer                                                                        </span>\n",
       "<span style=\"color: #7f7f7f; text-decoration-color: #7f7f7f\">│       </span><span style=\"color: #fc92b8; text-decoration-color: #fc92b8; background-color: #272822\">min_epochs</span><span style=\"color: #fbfbf8; text-decoration-color: #fbfbf8; background-color: #272822\">: </span><span style=\"color: #7f7f7f; text-decoration-color: #7f7f7f; background-color: #272822\">1                                                                                              </span>\n",
       "<span style=\"color: #7f7f7f; text-decoration-color: #7f7f7f\">│       </span><span style=\"color: #fc92b8; text-decoration-color: #fc92b8; background-color: #272822\">max_epochs</span><span style=\"color: #fbfbf8; text-decoration-color: #fbfbf8; background-color: #272822\">: </span><span style=\"color: #7f7f7f; text-decoration-color: #7f7f7f; background-color: #272822\">10                                                                                             </span>\n",
       "<span style=\"color: #7f7f7f; text-decoration-color: #7f7f7f\">│       </span><span style=\"color: #fc92b8; text-decoration-color: #fc92b8; background-color: #272822\">accelerator</span><span style=\"color: #fbfbf8; text-decoration-color: #fbfbf8; background-color: #272822\">: </span><span style=\"color: #7f7f7f; text-decoration-color: #7f7f7f; background-color: #272822\">cpu                                                                                           </span>\n",
       "<span style=\"color: #7f7f7f; text-decoration-color: #7f7f7f\">│       </span><span style=\"color: #7f7f7f; text-decoration-color: #7f7f7f; background-color: #272822\">                                                                                                           </span>\n",
       "<span style=\"color: #7f7f7f; text-decoration-color: #7f7f7f\">├── </span><span style=\"color: #7f7f7f; text-decoration-color: #7f7f7f\">original_work_dir</span>\n",
       "<span style=\"color: #7f7f7f; text-decoration-color: #7f7f7f\">│   └── </span><span style=\"color: #7f7f7f; text-decoration-color: #7f7f7f; background-color: #272822\">C:\\Users\\Skoltech\\Desktop\\RecSystemFinal\\Caser                                                             </span>\n",
       "<span style=\"color: #7f7f7f; text-decoration-color: #7f7f7f\">├── </span><span style=\"color: #7f7f7f; text-decoration-color: #7f7f7f\">data_dir</span>\n",
       "<span style=\"color: #7f7f7f; text-decoration-color: #7f7f7f\">│   └── </span><span style=\"color: #7f7f7f; text-decoration-color: #7f7f7f; background-color: #272822\">C:\\Users\\Skoltech\\Desktop\\RecSystemFinal\\Caser/data/                                                       </span>\n",
       "<span style=\"color: #7f7f7f; text-decoration-color: #7f7f7f\">├── </span><span style=\"color: #7f7f7f; text-decoration-color: #7f7f7f\">dataset_name</span>\n",
       "<span style=\"color: #7f7f7f; text-decoration-color: #7f7f7f\">│   └── </span><span style=\"color: #7f7f7f; text-decoration-color: #7f7f7f; background-color: #272822\">train_ver2.csv                                                                                             </span>\n",
       "<span style=\"color: #7f7f7f; text-decoration-color: #7f7f7f\">├── </span><span style=\"color: #7f7f7f; text-decoration-color: #7f7f7f\">dataset_name_test</span>\n",
       "<span style=\"color: #7f7f7f; text-decoration-color: #7f7f7f\">│   └── </span><span style=\"color: #7f7f7f; text-decoration-color: #7f7f7f; background-color: #272822\">train_ver2.csv                                                                                             </span>\n",
       "<span style=\"color: #7f7f7f; text-decoration-color: #7f7f7f\">├── </span><span style=\"color: #7f7f7f; text-decoration-color: #7f7f7f\">batch_size</span>\n",
       "<span style=\"color: #7f7f7f; text-decoration-color: #7f7f7f\">│   └── </span><span style=\"color: #7f7f7f; text-decoration-color: #7f7f7f; background-color: #272822\">64                                                                                                         </span>\n",
       "<span style=\"color: #7f7f7f; text-decoration-color: #7f7f7f\">├── </span><span style=\"color: #7f7f7f; text-decoration-color: #7f7f7f\">num_epochs</span>\n",
       "<span style=\"color: #7f7f7f; text-decoration-color: #7f7f7f\">│   └── </span><span style=\"color: #7f7f7f; text-decoration-color: #7f7f7f; background-color: #272822\">10                                                                                                         </span>\n",
       "<span style=\"color: #7f7f7f; text-decoration-color: #7f7f7f\">├── </span><span style=\"color: #7f7f7f; text-decoration-color: #7f7f7f\">unix_time</span>\n",
       "<span style=\"color: #7f7f7f; text-decoration-color: #7f7f7f\">│   └── </span><span style=\"color: #7f7f7f; text-decoration-color: #7f7f7f; background-color: #272822\">False                                                                                                      </span>\n",
       "<span style=\"color: #7f7f7f; text-decoration-color: #7f7f7f\">├── </span><span style=\"color: #7f7f7f; text-decoration-color: #7f7f7f\">num_types</span>\n",
       "<span style=\"color: #7f7f7f; text-decoration-color: #7f7f7f\">│   └── </span><span style=\"color: #7f7f7f; text-decoration-color: #7f7f7f; background-color: #272822\">None                                                                                                       </span>\n",
       "<span style=\"color: #7f7f7f; text-decoration-color: #7f7f7f\">├── </span><span style=\"color: #7f7f7f; text-decoration-color: #7f7f7f\">print_config</span>\n",
       "<span style=\"color: #7f7f7f; text-decoration-color: #7f7f7f\">│   └── </span><span style=\"color: #7f7f7f; text-decoration-color: #7f7f7f; background-color: #272822\">True                                                                                                       </span>\n",
       "<span style=\"color: #7f7f7f; text-decoration-color: #7f7f7f\">├── </span><span style=\"color: #7f7f7f; text-decoration-color: #7f7f7f\">ignore_warnings</span>\n",
       "<span style=\"color: #7f7f7f; text-decoration-color: #7f7f7f\">│   └── </span><span style=\"color: #7f7f7f; text-decoration-color: #7f7f7f; background-color: #272822\">True                                                                                                       </span>\n",
       "<span style=\"color: #7f7f7f; text-decoration-color: #7f7f7f\">├── </span><span style=\"color: #7f7f7f; text-decoration-color: #7f7f7f\">seed</span>\n",
       "<span style=\"color: #7f7f7f; text-decoration-color: #7f7f7f\">│   └── </span><span style=\"color: #7f7f7f; text-decoration-color: #7f7f7f; background-color: #272822\">25                                                                                                         </span>\n",
       "<span style=\"color: #7f7f7f; text-decoration-color: #7f7f7f\">├── </span><span style=\"color: #7f7f7f; text-decoration-color: #7f7f7f\">name</span>\n",
       "<span style=\"color: #7f7f7f; text-decoration-color: #7f7f7f\">│   └── </span><span style=\"color: #7f7f7f; text-decoration-color: #7f7f7f; background-color: #272822\">default                                                                                                    </span>\n",
       "<span style=\"color: #7f7f7f; text-decoration-color: #7f7f7f\">└── </span><span style=\"color: #7f7f7f; text-decoration-color: #7f7f7f\">ckpt_path</span>\n",
       "<span style=\"color: #7f7f7f; text-decoration-color: #7f7f7f\">    └── </span><span style=\"color: #7f7f7f; text-decoration-color: #7f7f7f; background-color: #272822\">test_ckpt\\last.ckpt                                                                                        </span>\n",
       "</pre>\n"
      ],
      "text/plain": [
       "\u001b[2mCONFIG\u001b[0m\n",
       "\u001b[2m├── \u001b[0m\u001b[2mdatamodule\u001b[0m\n",
       "\u001b[2m│   \u001b[0m\u001b[2m└── \u001b[0m\u001b[2;38;2;249;38;114;48;2;39;40;34m_target_\u001b[0m\u001b[2;38;2;248;248;242;48;2;39;40;34m:\u001b[0m\u001b[2;38;2;248;248;242;48;2;39;40;34m \u001b[0m\u001b[2;48;2;39;40;34msrc.datamodules.caser_datamodule.SantanderDataModule                                             \u001b[0m\n",
       "\u001b[2m│   \u001b[0m\u001b[2m    \u001b[0m\u001b[2;38;2;249;38;114;48;2;39;40;34mdata_dir\u001b[0m\u001b[2;38;2;248;248;242;48;2;39;40;34m:\u001b[0m\u001b[2;38;2;248;248;242;48;2;39;40;34m \u001b[0m\u001b[2;48;2;39;40;34mC:\\Users\\Skoltech\\Desktop\\RecSystemFinal\\Caser/data/                                             \u001b[0m\n",
       "\u001b[2m│   \u001b[0m\u001b[2m    \u001b[0m\u001b[2;38;2;249;38;114;48;2;39;40;34mdataset_name\u001b[0m\u001b[2;38;2;248;248;242;48;2;39;40;34m:\u001b[0m\u001b[2;38;2;248;248;242;48;2;39;40;34m \u001b[0m\u001b[2;48;2;39;40;34mtrain_ver2.csv                                                                               \u001b[0m\n",
       "\u001b[2m│   \u001b[0m\u001b[2m    \u001b[0m\u001b[2;38;2;249;38;114;48;2;39;40;34mdataset_name_test\u001b[0m\u001b[2;38;2;248;248;242;48;2;39;40;34m:\u001b[0m\u001b[2;38;2;248;248;242;48;2;39;40;34m \u001b[0m\u001b[2;48;2;39;40;34mtrain_ver2.csv                                                                          \u001b[0m\n",
       "\u001b[2m│   \u001b[0m\u001b[2m    \u001b[0m\u001b[2;38;2;249;38;114;48;2;39;40;34mbatch_size\u001b[0m\u001b[2;38;2;248;248;242;48;2;39;40;34m:\u001b[0m\u001b[2;38;2;248;248;242;48;2;39;40;34m \u001b[0m\u001b[2;48;2;39;40;34m64                                                                                             \u001b[0m\n",
       "\u001b[2m│   \u001b[0m\u001b[2m    \u001b[0m\u001b[2;38;2;249;38;114;48;2;39;40;34mnum_workers\u001b[0m\u001b[2;38;2;248;248;242;48;2;39;40;34m:\u001b[0m\u001b[2;38;2;248;248;242;48;2;39;40;34m \u001b[0m\u001b[2;48;2;39;40;34m0                                                                                             \u001b[0m\n",
       "\u001b[2m│   \u001b[0m\u001b[2m    \u001b[0m\u001b[2;38;2;249;38;114;48;2;39;40;34mpin_memory\u001b[0m\u001b[2;38;2;248;248;242;48;2;39;40;34m:\u001b[0m\u001b[2;38;2;248;248;242;48;2;39;40;34m \u001b[0m\u001b[2;48;2;39;40;34mfalse                                                                                          \u001b[0m\n",
       "\u001b[2m│   \u001b[0m\u001b[2m    \u001b[0m\u001b[2;38;2;249;38;114;48;2;39;40;34msample_size\u001b[0m\u001b[2;38;2;248;248;242;48;2;39;40;34m:\u001b[0m\u001b[2;38;2;248;248;242;48;2;39;40;34m \u001b[0m\u001b[2;48;2;39;40;34m2000                                                                                          \u001b[0m\n",
       "\u001b[2m│   \u001b[0m\u001b[2m    \u001b[0m\u001b[2;38;2;249;38;114;48;2;39;40;34mmin_data_points\u001b[0m\u001b[2;38;2;248;248;242;48;2;39;40;34m:\u001b[0m\u001b[2;38;2;248;248;242;48;2;39;40;34m \u001b[0m\u001b[2;48;2;39;40;34m17                                                                                        \u001b[0m\n",
       "\u001b[2m│   \u001b[0m\u001b[2m    \u001b[0m\u001b[2;38;2;249;38;114;48;2;39;40;34mseed\u001b[0m\u001b[2;38;2;248;248;242;48;2;39;40;34m:\u001b[0m\u001b[2;38;2;248;248;242;48;2;39;40;34m \u001b[0m\u001b[2;48;2;39;40;34m0                                                                                                    \u001b[0m\n",
       "\u001b[2m│   \u001b[0m\u001b[2m    \u001b[0m\u001b[2;38;2;249;38;114;48;2;39;40;34msequence_length\u001b[0m\u001b[2;38;2;248;248;242;48;2;39;40;34m:\u001b[0m\u001b[2;38;2;248;248;242;48;2;39;40;34m \u001b[0m\u001b[2;48;2;39;40;34m5                                                                                         \u001b[0m\n",
       "\u001b[2m│   \u001b[0m\u001b[2m    \u001b[0m\u001b[2;38;2;249;38;114;48;2;39;40;34mtarget_length\u001b[0m\u001b[2;38;2;248;248;242;48;2;39;40;34m:\u001b[0m\u001b[2;38;2;248;248;242;48;2;39;40;34m \u001b[0m\u001b[2;48;2;39;40;34m1                                                                                           \u001b[0m\n",
       "\u001b[2m│   \u001b[0m\u001b[2m    \u001b[0m\u001b[2;38;2;249;38;114;48;2;39;40;34mneg_samples\u001b[0m\u001b[2;38;2;248;248;242;48;2;39;40;34m:\u001b[0m\u001b[2;38;2;248;248;242;48;2;39;40;34m \u001b[0m\u001b[2;48;2;39;40;34m3                                                                                             \u001b[0m\n",
       "\u001b[2m│   \u001b[0m\u001b[2m    \u001b[0m\u001b[2;48;2;39;40;34m                                                                                                           \u001b[0m\n",
       "\u001b[2m├── \u001b[0m\u001b[2mmodel\u001b[0m\n",
       "\u001b[2m│   \u001b[0m\u001b[2m└── \u001b[0m\u001b[2;38;2;249;38;114;48;2;39;40;34m_target_\u001b[0m\u001b[2;38;2;248;248;242;48;2;39;40;34m:\u001b[0m\u001b[2;38;2;248;248;242;48;2;39;40;34m \u001b[0m\u001b[2;48;2;39;40;34msrc.models.caser.CaserModel                                                                      \u001b[0m\n",
       "\u001b[2m│   \u001b[0m\u001b[2m    \u001b[0m\u001b[2;38;2;249;38;114;48;2;39;40;34mdata_dir\u001b[0m\u001b[2;38;2;248;248;242;48;2;39;40;34m:\u001b[0m\u001b[2;38;2;248;248;242;48;2;39;40;34m \u001b[0m\u001b[2;48;2;39;40;34mC:\\Users\\Skoltech\\Desktop\\RecSystemFinal\\Caser/data/                                             \u001b[0m\n",
       "\u001b[2m│   \u001b[0m\u001b[2m    \u001b[0m\u001b[2;38;2;249;38;114;48;2;39;40;34mdataset_name\u001b[0m\u001b[2;38;2;248;248;242;48;2;39;40;34m:\u001b[0m\u001b[2;38;2;248;248;242;48;2;39;40;34m \u001b[0m\u001b[2;48;2;39;40;34mtrain_ver2.csv                                                                               \u001b[0m\n",
       "\u001b[2m│   \u001b[0m\u001b[2m    \u001b[0m\u001b[2;38;2;249;38;114;48;2;39;40;34mdataset_name_test\u001b[0m\u001b[2;38;2;248;248;242;48;2;39;40;34m:\u001b[0m\u001b[2;38;2;248;248;242;48;2;39;40;34m \u001b[0m\u001b[2;48;2;39;40;34mtrain_ver2.csv                                                                          \u001b[0m\n",
       "\u001b[2m│   \u001b[0m\u001b[2m    \u001b[0m\u001b[2;38;2;249;38;114;48;2;39;40;34mL\u001b[0m\u001b[2;38;2;248;248;242;48;2;39;40;34m:\u001b[0m\u001b[2;38;2;248;248;242;48;2;39;40;34m \u001b[0m\u001b[2;48;2;39;40;34m5                                                                                                       \u001b[0m\n",
       "\u001b[2m│   \u001b[0m\u001b[2m    \u001b[0m\u001b[2;38;2;249;38;114;48;2;39;40;34md\u001b[0m\u001b[2;38;2;248;248;242;48;2;39;40;34m:\u001b[0m\u001b[2;38;2;248;248;242;48;2;39;40;34m \u001b[0m\u001b[2;48;2;39;40;34m50                                                                                                      \u001b[0m\n",
       "\u001b[2m│   \u001b[0m\u001b[2m    \u001b[0m\u001b[2;38;2;249;38;114;48;2;39;40;34mnh\u001b[0m\u001b[2;38;2;248;248;242;48;2;39;40;34m:\u001b[0m\u001b[2;38;2;248;248;242;48;2;39;40;34m \u001b[0m\u001b[2;48;2;39;40;34m16                                                                                                     \u001b[0m\n",
       "\u001b[2m│   \u001b[0m\u001b[2m    \u001b[0m\u001b[2;38;2;249;38;114;48;2;39;40;34mnv\u001b[0m\u001b[2;38;2;248;248;242;48;2;39;40;34m:\u001b[0m\u001b[2;38;2;248;248;242;48;2;39;40;34m \u001b[0m\u001b[2;48;2;39;40;34m4                                                                                                      \u001b[0m\n",
       "\u001b[2m│   \u001b[0m\u001b[2m    \u001b[0m\u001b[2;38;2;249;38;114;48;2;39;40;34mdrop\u001b[0m\u001b[2;38;2;248;248;242;48;2;39;40;34m:\u001b[0m\u001b[2;38;2;248;248;242;48;2;39;40;34m \u001b[0m\u001b[2;48;2;39;40;34m0.5                                                                                                  \u001b[0m\n",
       "\u001b[2m│   \u001b[0m\u001b[2m    \u001b[0m\u001b[2;38;2;249;38;114;48;2;39;40;34mac_conv\u001b[0m\u001b[2;38;2;248;248;242;48;2;39;40;34m:\u001b[0m\u001b[2;38;2;248;248;242;48;2;39;40;34m \u001b[0m\u001b[2;48;2;39;40;34mrelu                                                                                              \u001b[0m\n",
       "\u001b[2m│   \u001b[0m\u001b[2m    \u001b[0m\u001b[2;38;2;249;38;114;48;2;39;40;34mac_fc\u001b[0m\u001b[2;38;2;248;248;242;48;2;39;40;34m:\u001b[0m\u001b[2;38;2;248;248;242;48;2;39;40;34m \u001b[0m\u001b[2;48;2;39;40;34mrelu                                                                                                \u001b[0m\n",
       "\u001b[2m│   \u001b[0m\u001b[2m    \u001b[0m\u001b[2;38;2;249;38;114;48;2;39;40;34ml2\u001b[0m\u001b[2;38;2;248;248;242;48;2;39;40;34m:\u001b[0m\u001b[2;38;2;248;248;242;48;2;39;40;34m \u001b[0m\u001b[2;48;2;39;40;34m1.0e-06                                                                                                \u001b[0m\n",
       "\u001b[2m│   \u001b[0m\u001b[2m    \u001b[0m\u001b[2;38;2;249;38;114;48;2;39;40;34mlearning_rate\u001b[0m\u001b[2;38;2;248;248;242;48;2;39;40;34m:\u001b[0m\u001b[2;38;2;248;248;242;48;2;39;40;34m \u001b[0m\u001b[2;48;2;39;40;34m0.001                                                                                       \u001b[0m\n",
       "\u001b[2m│   \u001b[0m\u001b[2m    \u001b[0m\u001b[2;48;2;39;40;34m                                                                                                           \u001b[0m\n",
       "\u001b[2m├── \u001b[0m\u001b[2mcallbacks\u001b[0m\n",
       "\u001b[2m│   \u001b[0m\u001b[2m└── \u001b[0m\u001b[2;38;2;249;38;114;48;2;39;40;34mmodel_checkpoint\u001b[0m\u001b[2;38;2;248;248;242;48;2;39;40;34m:\u001b[0m\u001b[2;48;2;39;40;34m                                                                                          \u001b[0m\n",
       "\u001b[2m│   \u001b[0m\u001b[2m    \u001b[0m\u001b[2;38;2;248;248;242;48;2;39;40;34m  \u001b[0m\u001b[2;38;2;249;38;114;48;2;39;40;34m_target_\u001b[0m\u001b[2;38;2;248;248;242;48;2;39;40;34m:\u001b[0m\u001b[2;38;2;248;248;242;48;2;39;40;34m \u001b[0m\u001b[2;48;2;39;40;34mpytorch_lightning.callbacks.ModelCheckpoint                                                    \u001b[0m\n",
       "\u001b[2m│   \u001b[0m\u001b[2m    \u001b[0m\u001b[2;38;2;248;248;242;48;2;39;40;34m  \u001b[0m\u001b[2;38;2;249;38;114;48;2;39;40;34mmonitor\u001b[0m\u001b[2;38;2;248;248;242;48;2;39;40;34m:\u001b[0m\u001b[2;38;2;248;248;242;48;2;39;40;34m \u001b[0m\u001b[2;48;2;39;40;34mval/Recall@3                                                                                    \u001b[0m\n",
       "\u001b[2m│   \u001b[0m\u001b[2m    \u001b[0m\u001b[2;38;2;248;248;242;48;2;39;40;34m  \u001b[0m\u001b[2;38;2;249;38;114;48;2;39;40;34mmode\u001b[0m\u001b[2;38;2;248;248;242;48;2;39;40;34m:\u001b[0m\u001b[2;38;2;248;248;242;48;2;39;40;34m \u001b[0m\u001b[2;48;2;39;40;34mmax                                                                                                \u001b[0m\n",
       "\u001b[2m│   \u001b[0m\u001b[2m    \u001b[0m\u001b[2;38;2;248;248;242;48;2;39;40;34m  \u001b[0m\u001b[2;38;2;249;38;114;48;2;39;40;34msave_top_k\u001b[0m\u001b[2;38;2;248;248;242;48;2;39;40;34m:\u001b[0m\u001b[2;38;2;248;248;242;48;2;39;40;34m \u001b[0m\u001b[2;48;2;39;40;34m1                                                                                            \u001b[0m\n",
       "\u001b[2m│   \u001b[0m\u001b[2m    \u001b[0m\u001b[2;38;2;248;248;242;48;2;39;40;34m  \u001b[0m\u001b[2;38;2;249;38;114;48;2;39;40;34msave_last\u001b[0m\u001b[2;38;2;248;248;242;48;2;39;40;34m:\u001b[0m\u001b[2;38;2;248;248;242;48;2;39;40;34m \u001b[0m\u001b[2;48;2;39;40;34mtrue                                                                                          \u001b[0m\n",
       "\u001b[2m│   \u001b[0m\u001b[2m    \u001b[0m\u001b[2;38;2;248;248;242;48;2;39;40;34m  \u001b[0m\u001b[2;38;2;249;38;114;48;2;39;40;34mverbose\u001b[0m\u001b[2;38;2;248;248;242;48;2;39;40;34m:\u001b[0m\u001b[2;38;2;248;248;242;48;2;39;40;34m \u001b[0m\u001b[2;48;2;39;40;34mfalse                                                                                           \u001b[0m\n",
       "\u001b[2m│   \u001b[0m\u001b[2m    \u001b[0m\u001b[2;38;2;248;248;242;48;2;39;40;34m  \u001b[0m\u001b[2;38;2;249;38;114;48;2;39;40;34mdirpath\u001b[0m\u001b[2;38;2;248;248;242;48;2;39;40;34m:\u001b[0m\u001b[2;38;2;248;248;242;48;2;39;40;34m \u001b[0m\u001b[2;48;2;39;40;34mcheckpoints/                                                                                    \u001b[0m\n",
       "\u001b[2m│   \u001b[0m\u001b[2m    \u001b[0m\u001b[2;38;2;248;248;242;48;2;39;40;34m  \u001b[0m\u001b[2;38;2;249;38;114;48;2;39;40;34mfilename\u001b[0m\u001b[2;38;2;248;248;242;48;2;39;40;34m:\u001b[0m\u001b[2;38;2;248;248;242;48;2;39;40;34m \u001b[0m\u001b[2;48;2;39;40;34mepoch_{epoch:03d}                                                                              \u001b[0m\n",
       "\u001b[2m│   \u001b[0m\u001b[2m    \u001b[0m\u001b[2;38;2;248;248;242;48;2;39;40;34m  \u001b[0m\u001b[2;38;2;249;38;114;48;2;39;40;34mauto_insert_metric_name\u001b[0m\u001b[2;38;2;248;248;242;48;2;39;40;34m:\u001b[0m\u001b[2;38;2;248;248;242;48;2;39;40;34m \u001b[0m\u001b[2;48;2;39;40;34mfalse                                                                           \u001b[0m\n",
       "\u001b[2m│   \u001b[0m\u001b[2m    \u001b[0m\u001b[2;38;2;249;38;114;48;2;39;40;34mearly_stopping\u001b[0m\u001b[2;38;2;248;248;242;48;2;39;40;34m:\u001b[0m\u001b[2;48;2;39;40;34m                                                                                            \u001b[0m\n",
       "\u001b[2m│   \u001b[0m\u001b[2m    \u001b[0m\u001b[2;38;2;248;248;242;48;2;39;40;34m  \u001b[0m\u001b[2;38;2;249;38;114;48;2;39;40;34m_target_\u001b[0m\u001b[2;38;2;248;248;242;48;2;39;40;34m:\u001b[0m\u001b[2;38;2;248;248;242;48;2;39;40;34m \u001b[0m\u001b[2;48;2;39;40;34mpytorch_lightning.callbacks.EarlyStopping                                                      \u001b[0m\n",
       "\u001b[2m│   \u001b[0m\u001b[2m    \u001b[0m\u001b[2;38;2;248;248;242;48;2;39;40;34m  \u001b[0m\u001b[2;38;2;249;38;114;48;2;39;40;34mmonitor\u001b[0m\u001b[2;38;2;248;248;242;48;2;39;40;34m:\u001b[0m\u001b[2;38;2;248;248;242;48;2;39;40;34m \u001b[0m\u001b[2;48;2;39;40;34mval/Recall@3                                                                                    \u001b[0m\n",
       "\u001b[2m│   \u001b[0m\u001b[2m    \u001b[0m\u001b[2;38;2;248;248;242;48;2;39;40;34m  \u001b[0m\u001b[2;38;2;249;38;114;48;2;39;40;34mmode\u001b[0m\u001b[2;38;2;248;248;242;48;2;39;40;34m:\u001b[0m\u001b[2;38;2;248;248;242;48;2;39;40;34m \u001b[0m\u001b[2;48;2;39;40;34mmax                                                                                                \u001b[0m\n",
       "\u001b[2m│   \u001b[0m\u001b[2m    \u001b[0m\u001b[2;38;2;248;248;242;48;2;39;40;34m  \u001b[0m\u001b[2;38;2;249;38;114;48;2;39;40;34mpatience\u001b[0m\u001b[2;38;2;248;248;242;48;2;39;40;34m:\u001b[0m\u001b[2;38;2;248;248;242;48;2;39;40;34m \u001b[0m\u001b[2;48;2;39;40;34m100                                                                                            \u001b[0m\n",
       "\u001b[2m│   \u001b[0m\u001b[2m    \u001b[0m\u001b[2;38;2;248;248;242;48;2;39;40;34m  \u001b[0m\u001b[2;38;2;249;38;114;48;2;39;40;34mmin_delta\u001b[0m\u001b[2;38;2;248;248;242;48;2;39;40;34m:\u001b[0m\u001b[2;38;2;248;248;242;48;2;39;40;34m \u001b[0m\u001b[2;48;2;39;40;34m0                                                                                             \u001b[0m\n",
       "\u001b[2m│   \u001b[0m\u001b[2m    \u001b[0m\u001b[2;38;2;249;38;114;48;2;39;40;34mmodel_summary\u001b[0m\u001b[2;38;2;248;248;242;48;2;39;40;34m:\u001b[0m\u001b[2;48;2;39;40;34m                                                                                             \u001b[0m\n",
       "\u001b[2m│   \u001b[0m\u001b[2m    \u001b[0m\u001b[2;38;2;248;248;242;48;2;39;40;34m  \u001b[0m\u001b[2;38;2;249;38;114;48;2;39;40;34m_target_\u001b[0m\u001b[2;38;2;248;248;242;48;2;39;40;34m:\u001b[0m\u001b[2;38;2;248;248;242;48;2;39;40;34m \u001b[0m\u001b[2;48;2;39;40;34mpytorch_lightning.callbacks.RichModelSummary                                                   \u001b[0m\n",
       "\u001b[2m│   \u001b[0m\u001b[2m    \u001b[0m\u001b[2;38;2;248;248;242;48;2;39;40;34m  \u001b[0m\u001b[2;38;2;249;38;114;48;2;39;40;34mmax_depth\u001b[0m\u001b[2;38;2;248;248;242;48;2;39;40;34m:\u001b[0m\u001b[2;38;2;248;248;242;48;2;39;40;34m \u001b[0m\u001b[2;48;2;39;40;34m-1                                                                                            \u001b[0m\n",
       "\u001b[2m│   \u001b[0m\u001b[2m    \u001b[0m\u001b[2;38;2;249;38;114;48;2;39;40;34mrich_progress_bar\u001b[0m\u001b[2;38;2;248;248;242;48;2;39;40;34m:\u001b[0m\u001b[2;48;2;39;40;34m                                                                                         \u001b[0m\n",
       "\u001b[2m│   \u001b[0m\u001b[2m    \u001b[0m\u001b[2;38;2;248;248;242;48;2;39;40;34m  \u001b[0m\u001b[2;38;2;249;38;114;48;2;39;40;34m_target_\u001b[0m\u001b[2;38;2;248;248;242;48;2;39;40;34m:\u001b[0m\u001b[2;38;2;248;248;242;48;2;39;40;34m \u001b[0m\u001b[2;48;2;39;40;34mpytorch_lightning.callbacks.RichProgressBar                                                    \u001b[0m\n",
       "\u001b[2m│   \u001b[0m\u001b[2m    \u001b[0m\u001b[2;48;2;39;40;34m                                                                                                           \u001b[0m\n",
       "\u001b[2m├── \u001b[0m\u001b[2mlogger\u001b[0m\n",
       "\u001b[2m│   \u001b[0m\u001b[2m└── \u001b[0m\u001b[2;38;2;249;38;114;48;2;39;40;34mcomet\u001b[0m\u001b[2;38;2;248;248;242;48;2;39;40;34m:\u001b[0m\u001b[2;48;2;39;40;34m                                                                                                     \u001b[0m\n",
       "\u001b[2m│   \u001b[0m\u001b[2m    \u001b[0m\u001b[2;38;2;248;248;242;48;2;39;40;34m  \u001b[0m\u001b[2;38;2;249;38;114;48;2;39;40;34m_target_\u001b[0m\u001b[2;38;2;248;248;242;48;2;39;40;34m:\u001b[0m\u001b[2;38;2;248;248;242;48;2;39;40;34m \u001b[0m\u001b[2;48;2;39;40;34mpytorch_lightning.loggers.comet.CometLogger                                                    \u001b[0m\n",
       "\u001b[2m│   \u001b[0m\u001b[2m    \u001b[0m\u001b[2;38;2;248;248;242;48;2;39;40;34m  \u001b[0m\u001b[2;38;2;249;38;114;48;2;39;40;34mapi_key\u001b[0m\u001b[2;38;2;248;248;242;48;2;39;40;34m:\u001b[0m\u001b[2;38;2;248;248;242;48;2;39;40;34m \u001b[0m\u001b[2;48;2;39;40;34mXmlVuApoep6S65VSewQg3tRDp                                                                       \u001b[0m\n",
       "\u001b[2m│   \u001b[0m\u001b[2m    \u001b[0m\u001b[2;38;2;248;248;242;48;2;39;40;34m  \u001b[0m\u001b[2;38;2;249;38;114;48;2;39;40;34mproject_name\u001b[0m\u001b[2;38;2;248;248;242;48;2;39;40;34m:\u001b[0m\u001b[2;38;2;248;248;242;48;2;39;40;34m \u001b[0m\u001b[2;48;2;39;40;34mrecsys                                                                                     \u001b[0m\n",
       "\u001b[2m│   \u001b[0m\u001b[2m    \u001b[0m\u001b[2;38;2;248;248;242;48;2;39;40;34m  \u001b[0m\u001b[2;38;2;249;38;114;48;2;39;40;34mworkspace\u001b[0m\u001b[2;38;2;248;248;242;48;2;39;40;34m:\u001b[0m\u001b[2;38;2;248;248;242;48;2;39;40;34m \u001b[0m\u001b[2;48;2;39;40;34mverdangeta                                                                                    \u001b[0m\n",
       "\u001b[2m│   \u001b[0m\u001b[2m    \u001b[0m\u001b[2;38;2;248;248;242;48;2;39;40;34m  \u001b[0m\u001b[2;38;2;249;38;114;48;2;39;40;34mexperiment_name\u001b[0m\u001b[2;38;2;248;248;242;48;2;39;40;34m:\u001b[0m\u001b[2;38;2;248;248;242;48;2;39;40;34m \u001b[0m\u001b[2;48;2;39;40;34mdefault                                                                                 \u001b[0m\n",
       "\u001b[2m│   \u001b[0m\u001b[2m    \u001b[0m\u001b[2;48;2;39;40;34m                                                                                                           \u001b[0m\n",
       "\u001b[2m├── \u001b[0m\u001b[2mtrainer\u001b[0m\n",
       "\u001b[2m│   \u001b[0m\u001b[2m└── \u001b[0m\u001b[2;38;2;249;38;114;48;2;39;40;34m_target_\u001b[0m\u001b[2;38;2;248;248;242;48;2;39;40;34m:\u001b[0m\u001b[2;38;2;248;248;242;48;2;39;40;34m \u001b[0m\u001b[2;48;2;39;40;34mpytorch_lightning.Trainer                                                                        \u001b[0m\n",
       "\u001b[2m│   \u001b[0m\u001b[2m    \u001b[0m\u001b[2;38;2;249;38;114;48;2;39;40;34mmin_epochs\u001b[0m\u001b[2;38;2;248;248;242;48;2;39;40;34m:\u001b[0m\u001b[2;38;2;248;248;242;48;2;39;40;34m \u001b[0m\u001b[2;48;2;39;40;34m1                                                                                              \u001b[0m\n",
       "\u001b[2m│   \u001b[0m\u001b[2m    \u001b[0m\u001b[2;38;2;249;38;114;48;2;39;40;34mmax_epochs\u001b[0m\u001b[2;38;2;248;248;242;48;2;39;40;34m:\u001b[0m\u001b[2;38;2;248;248;242;48;2;39;40;34m \u001b[0m\u001b[2;48;2;39;40;34m10                                                                                             \u001b[0m\n",
       "\u001b[2m│   \u001b[0m\u001b[2m    \u001b[0m\u001b[2;38;2;249;38;114;48;2;39;40;34maccelerator\u001b[0m\u001b[2;38;2;248;248;242;48;2;39;40;34m:\u001b[0m\u001b[2;38;2;248;248;242;48;2;39;40;34m \u001b[0m\u001b[2;48;2;39;40;34mcpu                                                                                           \u001b[0m\n",
       "\u001b[2m│   \u001b[0m\u001b[2m    \u001b[0m\u001b[2;48;2;39;40;34m                                                                                                           \u001b[0m\n",
       "\u001b[2m├── \u001b[0m\u001b[2moriginal_work_dir\u001b[0m\n",
       "\u001b[2m│   \u001b[0m\u001b[2m└── \u001b[0m\u001b[2;48;2;39;40;34mC:\\Users\\Skoltech\\Desktop\\RecSystemFinal\\Caser                                                             \u001b[0m\n",
       "\u001b[2m├── \u001b[0m\u001b[2mdata_dir\u001b[0m\n",
       "\u001b[2m│   \u001b[0m\u001b[2m└── \u001b[0m\u001b[2;48;2;39;40;34mC:\\Users\\Skoltech\\Desktop\\RecSystemFinal\\Caser/data/                                                       \u001b[0m\n",
       "\u001b[2m├── \u001b[0m\u001b[2mdataset_name\u001b[0m\n",
       "\u001b[2m│   \u001b[0m\u001b[2m└── \u001b[0m\u001b[2;48;2;39;40;34mtrain_ver2.csv                                                                                             \u001b[0m\n",
       "\u001b[2m├── \u001b[0m\u001b[2mdataset_name_test\u001b[0m\n",
       "\u001b[2m│   \u001b[0m\u001b[2m└── \u001b[0m\u001b[2;48;2;39;40;34mtrain_ver2.csv                                                                                             \u001b[0m\n",
       "\u001b[2m├── \u001b[0m\u001b[2mbatch_size\u001b[0m\n",
       "\u001b[2m│   \u001b[0m\u001b[2m└── \u001b[0m\u001b[2;48;2;39;40;34m64                                                                                                         \u001b[0m\n",
       "\u001b[2m├── \u001b[0m\u001b[2mnum_epochs\u001b[0m\n",
       "\u001b[2m│   \u001b[0m\u001b[2m└── \u001b[0m\u001b[2;48;2;39;40;34m10                                                                                                         \u001b[0m\n",
       "\u001b[2m├── \u001b[0m\u001b[2munix_time\u001b[0m\n",
       "\u001b[2m│   \u001b[0m\u001b[2m└── \u001b[0m\u001b[2;48;2;39;40;34mFalse                                                                                                      \u001b[0m\n",
       "\u001b[2m├── \u001b[0m\u001b[2mnum_types\u001b[0m\n",
       "\u001b[2m│   \u001b[0m\u001b[2m└── \u001b[0m\u001b[2;48;2;39;40;34mNone                                                                                                       \u001b[0m\n",
       "\u001b[2m├── \u001b[0m\u001b[2mprint_config\u001b[0m\n",
       "\u001b[2m│   \u001b[0m\u001b[2m└── \u001b[0m\u001b[2;48;2;39;40;34mTrue                                                                                                       \u001b[0m\n",
       "\u001b[2m├── \u001b[0m\u001b[2mignore_warnings\u001b[0m\n",
       "\u001b[2m│   \u001b[0m\u001b[2m└── \u001b[0m\u001b[2;48;2;39;40;34mTrue                                                                                                       \u001b[0m\n",
       "\u001b[2m├── \u001b[0m\u001b[2mseed\u001b[0m\n",
       "\u001b[2m│   \u001b[0m\u001b[2m└── \u001b[0m\u001b[2;48;2;39;40;34m25                                                                                                         \u001b[0m\n",
       "\u001b[2m├── \u001b[0m\u001b[2mname\u001b[0m\n",
       "\u001b[2m│   \u001b[0m\u001b[2m└── \u001b[0m\u001b[2;48;2;39;40;34mdefault                                                                                                    \u001b[0m\n",
       "\u001b[2m└── \u001b[0m\u001b[2mckpt_path\u001b[0m\n",
       "\u001b[2m    \u001b[0m\u001b[2m└── \u001b[0m\u001b[2;48;2;39;40;34mtest_ckpt\\last.ckpt                                                                                        \u001b[0m\n"
      ]
     },
     "metadata": {},
     "output_type": "display_data"
    },
    {
     "data": {
      "text/html": [
       "<pre style=\"white-space:pre;overflow-x:auto;line-height:normal;font-family:Menlo,'DejaVu Sans Mono',consolas,'Courier New',monospace\"><span style=\"color: #7f7f7f; text-decoration-color: #7f7f7f\">CONFIG</span>\n",
       "<span style=\"color: #7f7f7f; text-decoration-color: #7f7f7f\">+-- </span><span style=\"color: #7f7f7f; text-decoration-color: #7f7f7f\">datamodule</span>\n",
       "<span style=\"color: #7f7f7f; text-decoration-color: #7f7f7f\">|   `-- </span><span style=\"color: #fc92b8; text-decoration-color: #fc92b8; background-color: #272822\">_target_</span><span style=\"color: #fbfbf8; text-decoration-color: #fbfbf8; background-color: #272822\">: </span><span style=\"color: #7f7f7f; text-decoration-color: #7f7f7f; background-color: #272822\">src.datamodules.caser_datamodule.SantanderDataModule                                             </span>\n",
       "<span style=\"color: #7f7f7f; text-decoration-color: #7f7f7f\">|       </span><span style=\"color: #fc92b8; text-decoration-color: #fc92b8; background-color: #272822\">data_dir</span><span style=\"color: #fbfbf8; text-decoration-color: #fbfbf8; background-color: #272822\">: </span><span style=\"color: #7f7f7f; text-decoration-color: #7f7f7f; background-color: #272822\">C:\\Users\\Skoltech\\Desktop\\RecSystemFinal\\Caser/data/                                             </span>\n",
       "<span style=\"color: #7f7f7f; text-decoration-color: #7f7f7f\">|       </span><span style=\"color: #fc92b8; text-decoration-color: #fc92b8; background-color: #272822\">dataset_name</span><span style=\"color: #fbfbf8; text-decoration-color: #fbfbf8; background-color: #272822\">: </span><span style=\"color: #7f7f7f; text-decoration-color: #7f7f7f; background-color: #272822\">train_ver2.csv                                                                               </span>\n",
       "<span style=\"color: #7f7f7f; text-decoration-color: #7f7f7f\">|       </span><span style=\"color: #fc92b8; text-decoration-color: #fc92b8; background-color: #272822\">dataset_name_test</span><span style=\"color: #fbfbf8; text-decoration-color: #fbfbf8; background-color: #272822\">: </span><span style=\"color: #7f7f7f; text-decoration-color: #7f7f7f; background-color: #272822\">train_ver2.csv                                                                          </span>\n",
       "<span style=\"color: #7f7f7f; text-decoration-color: #7f7f7f\">|       </span><span style=\"color: #fc92b8; text-decoration-color: #fc92b8; background-color: #272822\">batch_size</span><span style=\"color: #fbfbf8; text-decoration-color: #fbfbf8; background-color: #272822\">: </span><span style=\"color: #7f7f7f; text-decoration-color: #7f7f7f; background-color: #272822\">64                                                                                             </span>\n",
       "<span style=\"color: #7f7f7f; text-decoration-color: #7f7f7f\">|       </span><span style=\"color: #fc92b8; text-decoration-color: #fc92b8; background-color: #272822\">num_workers</span><span style=\"color: #fbfbf8; text-decoration-color: #fbfbf8; background-color: #272822\">: </span><span style=\"color: #7f7f7f; text-decoration-color: #7f7f7f; background-color: #272822\">0                                                                                             </span>\n",
       "<span style=\"color: #7f7f7f; text-decoration-color: #7f7f7f\">|       </span><span style=\"color: #fc92b8; text-decoration-color: #fc92b8; background-color: #272822\">pin_memory</span><span style=\"color: #fbfbf8; text-decoration-color: #fbfbf8; background-color: #272822\">: </span><span style=\"color: #7f7f7f; text-decoration-color: #7f7f7f; background-color: #272822\">false                                                                                          </span>\n",
       "<span style=\"color: #7f7f7f; text-decoration-color: #7f7f7f\">|       </span><span style=\"color: #fc92b8; text-decoration-color: #fc92b8; background-color: #272822\">sample_size</span><span style=\"color: #fbfbf8; text-decoration-color: #fbfbf8; background-color: #272822\">: </span><span style=\"color: #7f7f7f; text-decoration-color: #7f7f7f; background-color: #272822\">2000                                                                                          </span>\n",
       "<span style=\"color: #7f7f7f; text-decoration-color: #7f7f7f\">|       </span><span style=\"color: #fc92b8; text-decoration-color: #fc92b8; background-color: #272822\">min_data_points</span><span style=\"color: #fbfbf8; text-decoration-color: #fbfbf8; background-color: #272822\">: </span><span style=\"color: #7f7f7f; text-decoration-color: #7f7f7f; background-color: #272822\">17                                                                                        </span>\n",
       "<span style=\"color: #7f7f7f; text-decoration-color: #7f7f7f\">|       </span><span style=\"color: #fc92b8; text-decoration-color: #fc92b8; background-color: #272822\">seed</span><span style=\"color: #fbfbf8; text-decoration-color: #fbfbf8; background-color: #272822\">: </span><span style=\"color: #7f7f7f; text-decoration-color: #7f7f7f; background-color: #272822\">0                                                                                                    </span>\n",
       "<span style=\"color: #7f7f7f; text-decoration-color: #7f7f7f\">|       </span><span style=\"color: #fc92b8; text-decoration-color: #fc92b8; background-color: #272822\">sequence_length</span><span style=\"color: #fbfbf8; text-decoration-color: #fbfbf8; background-color: #272822\">: </span><span style=\"color: #7f7f7f; text-decoration-color: #7f7f7f; background-color: #272822\">5                                                                                         </span>\n",
       "<span style=\"color: #7f7f7f; text-decoration-color: #7f7f7f\">|       </span><span style=\"color: #fc92b8; text-decoration-color: #fc92b8; background-color: #272822\">target_length</span><span style=\"color: #fbfbf8; text-decoration-color: #fbfbf8; background-color: #272822\">: </span><span style=\"color: #7f7f7f; text-decoration-color: #7f7f7f; background-color: #272822\">1                                                                                           </span>\n",
       "<span style=\"color: #7f7f7f; text-decoration-color: #7f7f7f\">|       </span><span style=\"color: #fc92b8; text-decoration-color: #fc92b8; background-color: #272822\">neg_samples</span><span style=\"color: #fbfbf8; text-decoration-color: #fbfbf8; background-color: #272822\">: </span><span style=\"color: #7f7f7f; text-decoration-color: #7f7f7f; background-color: #272822\">3                                                                                             </span>\n",
       "<span style=\"color: #7f7f7f; text-decoration-color: #7f7f7f\">|       </span><span style=\"color: #7f7f7f; text-decoration-color: #7f7f7f; background-color: #272822\">                                                                                                           </span>\n",
       "<span style=\"color: #7f7f7f; text-decoration-color: #7f7f7f\">+-- </span><span style=\"color: #7f7f7f; text-decoration-color: #7f7f7f\">model</span>\n",
       "<span style=\"color: #7f7f7f; text-decoration-color: #7f7f7f\">|   `-- </span><span style=\"color: #fc92b8; text-decoration-color: #fc92b8; background-color: #272822\">_target_</span><span style=\"color: #fbfbf8; text-decoration-color: #fbfbf8; background-color: #272822\">: </span><span style=\"color: #7f7f7f; text-decoration-color: #7f7f7f; background-color: #272822\">src.models.caser.CaserModel                                                                      </span>\n",
       "<span style=\"color: #7f7f7f; text-decoration-color: #7f7f7f\">|       </span><span style=\"color: #fc92b8; text-decoration-color: #fc92b8; background-color: #272822\">data_dir</span><span style=\"color: #fbfbf8; text-decoration-color: #fbfbf8; background-color: #272822\">: </span><span style=\"color: #7f7f7f; text-decoration-color: #7f7f7f; background-color: #272822\">C:\\Users\\Skoltech\\Desktop\\RecSystemFinal\\Caser/data/                                             </span>\n",
       "<span style=\"color: #7f7f7f; text-decoration-color: #7f7f7f\">|       </span><span style=\"color: #fc92b8; text-decoration-color: #fc92b8; background-color: #272822\">dataset_name</span><span style=\"color: #fbfbf8; text-decoration-color: #fbfbf8; background-color: #272822\">: </span><span style=\"color: #7f7f7f; text-decoration-color: #7f7f7f; background-color: #272822\">train_ver2.csv                                                                               </span>\n",
       "<span style=\"color: #7f7f7f; text-decoration-color: #7f7f7f\">|       </span><span style=\"color: #fc92b8; text-decoration-color: #fc92b8; background-color: #272822\">dataset_name_test</span><span style=\"color: #fbfbf8; text-decoration-color: #fbfbf8; background-color: #272822\">: </span><span style=\"color: #7f7f7f; text-decoration-color: #7f7f7f; background-color: #272822\">train_ver2.csv                                                                          </span>\n",
       "<span style=\"color: #7f7f7f; text-decoration-color: #7f7f7f\">|       </span><span style=\"color: #fc92b8; text-decoration-color: #fc92b8; background-color: #272822\">L</span><span style=\"color: #fbfbf8; text-decoration-color: #fbfbf8; background-color: #272822\">: </span><span style=\"color: #7f7f7f; text-decoration-color: #7f7f7f; background-color: #272822\">5                                                                                                       </span>\n",
       "<span style=\"color: #7f7f7f; text-decoration-color: #7f7f7f\">|       </span><span style=\"color: #fc92b8; text-decoration-color: #fc92b8; background-color: #272822\">d</span><span style=\"color: #fbfbf8; text-decoration-color: #fbfbf8; background-color: #272822\">: </span><span style=\"color: #7f7f7f; text-decoration-color: #7f7f7f; background-color: #272822\">50                                                                                                      </span>\n",
       "<span style=\"color: #7f7f7f; text-decoration-color: #7f7f7f\">|       </span><span style=\"color: #fc92b8; text-decoration-color: #fc92b8; background-color: #272822\">nh</span><span style=\"color: #fbfbf8; text-decoration-color: #fbfbf8; background-color: #272822\">: </span><span style=\"color: #7f7f7f; text-decoration-color: #7f7f7f; background-color: #272822\">16                                                                                                     </span>\n",
       "<span style=\"color: #7f7f7f; text-decoration-color: #7f7f7f\">|       </span><span style=\"color: #fc92b8; text-decoration-color: #fc92b8; background-color: #272822\">nv</span><span style=\"color: #fbfbf8; text-decoration-color: #fbfbf8; background-color: #272822\">: </span><span style=\"color: #7f7f7f; text-decoration-color: #7f7f7f; background-color: #272822\">4                                                                                                      </span>\n",
       "<span style=\"color: #7f7f7f; text-decoration-color: #7f7f7f\">|       </span><span style=\"color: #fc92b8; text-decoration-color: #fc92b8; background-color: #272822\">drop</span><span style=\"color: #fbfbf8; text-decoration-color: #fbfbf8; background-color: #272822\">: </span><span style=\"color: #7f7f7f; text-decoration-color: #7f7f7f; background-color: #272822\">0.5                                                                                                  </span>\n",
       "<span style=\"color: #7f7f7f; text-decoration-color: #7f7f7f\">|       </span><span style=\"color: #fc92b8; text-decoration-color: #fc92b8; background-color: #272822\">ac_conv</span><span style=\"color: #fbfbf8; text-decoration-color: #fbfbf8; background-color: #272822\">: </span><span style=\"color: #7f7f7f; text-decoration-color: #7f7f7f; background-color: #272822\">relu                                                                                              </span>\n",
       "<span style=\"color: #7f7f7f; text-decoration-color: #7f7f7f\">|       </span><span style=\"color: #fc92b8; text-decoration-color: #fc92b8; background-color: #272822\">ac_fc</span><span style=\"color: #fbfbf8; text-decoration-color: #fbfbf8; background-color: #272822\">: </span><span style=\"color: #7f7f7f; text-decoration-color: #7f7f7f; background-color: #272822\">relu                                                                                                </span>\n",
       "<span style=\"color: #7f7f7f; text-decoration-color: #7f7f7f\">|       </span><span style=\"color: #fc92b8; text-decoration-color: #fc92b8; background-color: #272822\">l2</span><span style=\"color: #fbfbf8; text-decoration-color: #fbfbf8; background-color: #272822\">: </span><span style=\"color: #7f7f7f; text-decoration-color: #7f7f7f; background-color: #272822\">1.0e-06                                                                                                </span>\n",
       "<span style=\"color: #7f7f7f; text-decoration-color: #7f7f7f\">|       </span><span style=\"color: #fc92b8; text-decoration-color: #fc92b8; background-color: #272822\">learning_rate</span><span style=\"color: #fbfbf8; text-decoration-color: #fbfbf8; background-color: #272822\">: </span><span style=\"color: #7f7f7f; text-decoration-color: #7f7f7f; background-color: #272822\">0.001                                                                                       </span>\n",
       "<span style=\"color: #7f7f7f; text-decoration-color: #7f7f7f\">|       </span><span style=\"color: #7f7f7f; text-decoration-color: #7f7f7f; background-color: #272822\">                                                                                                           </span>\n",
       "<span style=\"color: #7f7f7f; text-decoration-color: #7f7f7f\">+-- </span><span style=\"color: #7f7f7f; text-decoration-color: #7f7f7f\">callbacks</span>\n",
       "<span style=\"color: #7f7f7f; text-decoration-color: #7f7f7f\">|   `-- </span><span style=\"color: #fc92b8; text-decoration-color: #fc92b8; background-color: #272822\">model_checkpoint</span><span style=\"color: #fbfbf8; text-decoration-color: #fbfbf8; background-color: #272822\">:</span><span style=\"color: #7f7f7f; text-decoration-color: #7f7f7f; background-color: #272822\">                                                                                          </span>\n",
       "<span style=\"color: #7f7f7f; text-decoration-color: #7f7f7f\">|       </span><span style=\"color: #fbfbf8; text-decoration-color: #fbfbf8; background-color: #272822\">  </span><span style=\"color: #fc92b8; text-decoration-color: #fc92b8; background-color: #272822\">_target_</span><span style=\"color: #fbfbf8; text-decoration-color: #fbfbf8; background-color: #272822\">: </span><span style=\"color: #7f7f7f; text-decoration-color: #7f7f7f; background-color: #272822\">pytorch_lightning.callbacks.ModelCheckpoint                                                    </span>\n",
       "<span style=\"color: #7f7f7f; text-decoration-color: #7f7f7f\">|       </span><span style=\"color: #fbfbf8; text-decoration-color: #fbfbf8; background-color: #272822\">  </span><span style=\"color: #fc92b8; text-decoration-color: #fc92b8; background-color: #272822\">monitor</span><span style=\"color: #fbfbf8; text-decoration-color: #fbfbf8; background-color: #272822\">: </span><span style=\"color: #7f7f7f; text-decoration-color: #7f7f7f; background-color: #272822\">val/Recall@3                                                                                    </span>\n",
       "<span style=\"color: #7f7f7f; text-decoration-color: #7f7f7f\">|       </span><span style=\"color: #fbfbf8; text-decoration-color: #fbfbf8; background-color: #272822\">  </span><span style=\"color: #fc92b8; text-decoration-color: #fc92b8; background-color: #272822\">mode</span><span style=\"color: #fbfbf8; text-decoration-color: #fbfbf8; background-color: #272822\">: </span><span style=\"color: #7f7f7f; text-decoration-color: #7f7f7f; background-color: #272822\">max                                                                                                </span>\n",
       "<span style=\"color: #7f7f7f; text-decoration-color: #7f7f7f\">|       </span><span style=\"color: #fbfbf8; text-decoration-color: #fbfbf8; background-color: #272822\">  </span><span style=\"color: #fc92b8; text-decoration-color: #fc92b8; background-color: #272822\">save_top_k</span><span style=\"color: #fbfbf8; text-decoration-color: #fbfbf8; background-color: #272822\">: </span><span style=\"color: #7f7f7f; text-decoration-color: #7f7f7f; background-color: #272822\">1                                                                                            </span>\n",
       "<span style=\"color: #7f7f7f; text-decoration-color: #7f7f7f\">|       </span><span style=\"color: #fbfbf8; text-decoration-color: #fbfbf8; background-color: #272822\">  </span><span style=\"color: #fc92b8; text-decoration-color: #fc92b8; background-color: #272822\">save_last</span><span style=\"color: #fbfbf8; text-decoration-color: #fbfbf8; background-color: #272822\">: </span><span style=\"color: #7f7f7f; text-decoration-color: #7f7f7f; background-color: #272822\">true                                                                                          </span>\n",
       "<span style=\"color: #7f7f7f; text-decoration-color: #7f7f7f\">|       </span><span style=\"color: #fbfbf8; text-decoration-color: #fbfbf8; background-color: #272822\">  </span><span style=\"color: #fc92b8; text-decoration-color: #fc92b8; background-color: #272822\">verbose</span><span style=\"color: #fbfbf8; text-decoration-color: #fbfbf8; background-color: #272822\">: </span><span style=\"color: #7f7f7f; text-decoration-color: #7f7f7f; background-color: #272822\">false                                                                                           </span>\n",
       "<span style=\"color: #7f7f7f; text-decoration-color: #7f7f7f\">|       </span><span style=\"color: #fbfbf8; text-decoration-color: #fbfbf8; background-color: #272822\">  </span><span style=\"color: #fc92b8; text-decoration-color: #fc92b8; background-color: #272822\">dirpath</span><span style=\"color: #fbfbf8; text-decoration-color: #fbfbf8; background-color: #272822\">: </span><span style=\"color: #7f7f7f; text-decoration-color: #7f7f7f; background-color: #272822\">checkpoints/                                                                                    </span>\n",
       "<span style=\"color: #7f7f7f; text-decoration-color: #7f7f7f\">|       </span><span style=\"color: #fbfbf8; text-decoration-color: #fbfbf8; background-color: #272822\">  </span><span style=\"color: #fc92b8; text-decoration-color: #fc92b8; background-color: #272822\">filename</span><span style=\"color: #fbfbf8; text-decoration-color: #fbfbf8; background-color: #272822\">: </span><span style=\"color: #7f7f7f; text-decoration-color: #7f7f7f; background-color: #272822\">epoch_{epoch:03d}                                                                              </span>\n",
       "<span style=\"color: #7f7f7f; text-decoration-color: #7f7f7f\">|       </span><span style=\"color: #fbfbf8; text-decoration-color: #fbfbf8; background-color: #272822\">  </span><span style=\"color: #fc92b8; text-decoration-color: #fc92b8; background-color: #272822\">auto_insert_metric_name</span><span style=\"color: #fbfbf8; text-decoration-color: #fbfbf8; background-color: #272822\">: </span><span style=\"color: #7f7f7f; text-decoration-color: #7f7f7f; background-color: #272822\">false                                                                           </span>\n",
       "<span style=\"color: #7f7f7f; text-decoration-color: #7f7f7f\">|       </span><span style=\"color: #fc92b8; text-decoration-color: #fc92b8; background-color: #272822\">early_stopping</span><span style=\"color: #fbfbf8; text-decoration-color: #fbfbf8; background-color: #272822\">:</span><span style=\"color: #7f7f7f; text-decoration-color: #7f7f7f; background-color: #272822\">                                                                                            </span>\n",
       "<span style=\"color: #7f7f7f; text-decoration-color: #7f7f7f\">|       </span><span style=\"color: #fbfbf8; text-decoration-color: #fbfbf8; background-color: #272822\">  </span><span style=\"color: #fc92b8; text-decoration-color: #fc92b8; background-color: #272822\">_target_</span><span style=\"color: #fbfbf8; text-decoration-color: #fbfbf8; background-color: #272822\">: </span><span style=\"color: #7f7f7f; text-decoration-color: #7f7f7f; background-color: #272822\">pytorch_lightning.callbacks.EarlyStopping                                                      </span>\n",
       "<span style=\"color: #7f7f7f; text-decoration-color: #7f7f7f\">|       </span><span style=\"color: #fbfbf8; text-decoration-color: #fbfbf8; background-color: #272822\">  </span><span style=\"color: #fc92b8; text-decoration-color: #fc92b8; background-color: #272822\">monitor</span><span style=\"color: #fbfbf8; text-decoration-color: #fbfbf8; background-color: #272822\">: </span><span style=\"color: #7f7f7f; text-decoration-color: #7f7f7f; background-color: #272822\">val/Recall@3                                                                                    </span>\n",
       "<span style=\"color: #7f7f7f; text-decoration-color: #7f7f7f\">|       </span><span style=\"color: #fbfbf8; text-decoration-color: #fbfbf8; background-color: #272822\">  </span><span style=\"color: #fc92b8; text-decoration-color: #fc92b8; background-color: #272822\">mode</span><span style=\"color: #fbfbf8; text-decoration-color: #fbfbf8; background-color: #272822\">: </span><span style=\"color: #7f7f7f; text-decoration-color: #7f7f7f; background-color: #272822\">max                                                                                                </span>\n",
       "<span style=\"color: #7f7f7f; text-decoration-color: #7f7f7f\">|       </span><span style=\"color: #fbfbf8; text-decoration-color: #fbfbf8; background-color: #272822\">  </span><span style=\"color: #fc92b8; text-decoration-color: #fc92b8; background-color: #272822\">patience</span><span style=\"color: #fbfbf8; text-decoration-color: #fbfbf8; background-color: #272822\">: </span><span style=\"color: #7f7f7f; text-decoration-color: #7f7f7f; background-color: #272822\">100                                                                                            </span>\n",
       "<span style=\"color: #7f7f7f; text-decoration-color: #7f7f7f\">|       </span><span style=\"color: #fbfbf8; text-decoration-color: #fbfbf8; background-color: #272822\">  </span><span style=\"color: #fc92b8; text-decoration-color: #fc92b8; background-color: #272822\">min_delta</span><span style=\"color: #fbfbf8; text-decoration-color: #fbfbf8; background-color: #272822\">: </span><span style=\"color: #7f7f7f; text-decoration-color: #7f7f7f; background-color: #272822\">0                                                                                             </span>\n",
       "<span style=\"color: #7f7f7f; text-decoration-color: #7f7f7f\">|       </span><span style=\"color: #fc92b8; text-decoration-color: #fc92b8; background-color: #272822\">model_summary</span><span style=\"color: #fbfbf8; text-decoration-color: #fbfbf8; background-color: #272822\">:</span><span style=\"color: #7f7f7f; text-decoration-color: #7f7f7f; background-color: #272822\">                                                                                             </span>\n",
       "<span style=\"color: #7f7f7f; text-decoration-color: #7f7f7f\">|       </span><span style=\"color: #fbfbf8; text-decoration-color: #fbfbf8; background-color: #272822\">  </span><span style=\"color: #fc92b8; text-decoration-color: #fc92b8; background-color: #272822\">_target_</span><span style=\"color: #fbfbf8; text-decoration-color: #fbfbf8; background-color: #272822\">: </span><span style=\"color: #7f7f7f; text-decoration-color: #7f7f7f; background-color: #272822\">pytorch_lightning.callbacks.RichModelSummary                                                   </span>\n",
       "<span style=\"color: #7f7f7f; text-decoration-color: #7f7f7f\">|       </span><span style=\"color: #fbfbf8; text-decoration-color: #fbfbf8; background-color: #272822\">  </span><span style=\"color: #fc92b8; text-decoration-color: #fc92b8; background-color: #272822\">max_depth</span><span style=\"color: #fbfbf8; text-decoration-color: #fbfbf8; background-color: #272822\">: </span><span style=\"color: #7f7f7f; text-decoration-color: #7f7f7f; background-color: #272822\">-1                                                                                            </span>\n",
       "<span style=\"color: #7f7f7f; text-decoration-color: #7f7f7f\">|       </span><span style=\"color: #fc92b8; text-decoration-color: #fc92b8; background-color: #272822\">rich_progress_bar</span><span style=\"color: #fbfbf8; text-decoration-color: #fbfbf8; background-color: #272822\">:</span><span style=\"color: #7f7f7f; text-decoration-color: #7f7f7f; background-color: #272822\">                                                                                         </span>\n",
       "<span style=\"color: #7f7f7f; text-decoration-color: #7f7f7f\">|       </span><span style=\"color: #fbfbf8; text-decoration-color: #fbfbf8; background-color: #272822\">  </span><span style=\"color: #fc92b8; text-decoration-color: #fc92b8; background-color: #272822\">_target_</span><span style=\"color: #fbfbf8; text-decoration-color: #fbfbf8; background-color: #272822\">: </span><span style=\"color: #7f7f7f; text-decoration-color: #7f7f7f; background-color: #272822\">pytorch_lightning.callbacks.RichProgressBar                                                    </span>\n",
       "<span style=\"color: #7f7f7f; text-decoration-color: #7f7f7f\">|       </span><span style=\"color: #7f7f7f; text-decoration-color: #7f7f7f; background-color: #272822\">                                                                                                           </span>\n",
       "<span style=\"color: #7f7f7f; text-decoration-color: #7f7f7f\">+-- </span><span style=\"color: #7f7f7f; text-decoration-color: #7f7f7f\">logger</span>\n",
       "<span style=\"color: #7f7f7f; text-decoration-color: #7f7f7f\">|   `-- </span><span style=\"color: #fc92b8; text-decoration-color: #fc92b8; background-color: #272822\">comet</span><span style=\"color: #fbfbf8; text-decoration-color: #fbfbf8; background-color: #272822\">:</span><span style=\"color: #7f7f7f; text-decoration-color: #7f7f7f; background-color: #272822\">                                                                                                     </span>\n",
       "<span style=\"color: #7f7f7f; text-decoration-color: #7f7f7f\">|       </span><span style=\"color: #fbfbf8; text-decoration-color: #fbfbf8; background-color: #272822\">  </span><span style=\"color: #fc92b8; text-decoration-color: #fc92b8; background-color: #272822\">_target_</span><span style=\"color: #fbfbf8; text-decoration-color: #fbfbf8; background-color: #272822\">: </span><span style=\"color: #7f7f7f; text-decoration-color: #7f7f7f; background-color: #272822\">pytorch_lightning.loggers.comet.CometLogger                                                    </span>\n",
       "<span style=\"color: #7f7f7f; text-decoration-color: #7f7f7f\">|       </span><span style=\"color: #fbfbf8; text-decoration-color: #fbfbf8; background-color: #272822\">  </span><span style=\"color: #fc92b8; text-decoration-color: #fc92b8; background-color: #272822\">api_key</span><span style=\"color: #fbfbf8; text-decoration-color: #fbfbf8; background-color: #272822\">: </span><span style=\"color: #7f7f7f; text-decoration-color: #7f7f7f; background-color: #272822\">XmlVuApoep6S65VSewQg3tRDp                                                                       </span>\n",
       "<span style=\"color: #7f7f7f; text-decoration-color: #7f7f7f\">|       </span><span style=\"color: #fbfbf8; text-decoration-color: #fbfbf8; background-color: #272822\">  </span><span style=\"color: #fc92b8; text-decoration-color: #fc92b8; background-color: #272822\">project_name</span><span style=\"color: #fbfbf8; text-decoration-color: #fbfbf8; background-color: #272822\">: </span><span style=\"color: #7f7f7f; text-decoration-color: #7f7f7f; background-color: #272822\">recsys                                                                                     </span>\n",
       "<span style=\"color: #7f7f7f; text-decoration-color: #7f7f7f\">|       </span><span style=\"color: #fbfbf8; text-decoration-color: #fbfbf8; background-color: #272822\">  </span><span style=\"color: #fc92b8; text-decoration-color: #fc92b8; background-color: #272822\">workspace</span><span style=\"color: #fbfbf8; text-decoration-color: #fbfbf8; background-color: #272822\">: </span><span style=\"color: #7f7f7f; text-decoration-color: #7f7f7f; background-color: #272822\">verdangeta                                                                                    </span>\n",
       "<span style=\"color: #7f7f7f; text-decoration-color: #7f7f7f\">|       </span><span style=\"color: #fbfbf8; text-decoration-color: #fbfbf8; background-color: #272822\">  </span><span style=\"color: #fc92b8; text-decoration-color: #fc92b8; background-color: #272822\">experiment_name</span><span style=\"color: #fbfbf8; text-decoration-color: #fbfbf8; background-color: #272822\">: </span><span style=\"color: #7f7f7f; text-decoration-color: #7f7f7f; background-color: #272822\">default                                                                                 </span>\n",
       "<span style=\"color: #7f7f7f; text-decoration-color: #7f7f7f\">|       </span><span style=\"color: #7f7f7f; text-decoration-color: #7f7f7f; background-color: #272822\">                                                                                                           </span>\n",
       "<span style=\"color: #7f7f7f; text-decoration-color: #7f7f7f\">+-- </span><span style=\"color: #7f7f7f; text-decoration-color: #7f7f7f\">trainer</span>\n",
       "<span style=\"color: #7f7f7f; text-decoration-color: #7f7f7f\">|   `-- </span><span style=\"color: #fc92b8; text-decoration-color: #fc92b8; background-color: #272822\">_target_</span><span style=\"color: #fbfbf8; text-decoration-color: #fbfbf8; background-color: #272822\">: </span><span style=\"color: #7f7f7f; text-decoration-color: #7f7f7f; background-color: #272822\">pytorch_lightning.Trainer                                                                        </span>\n",
       "<span style=\"color: #7f7f7f; text-decoration-color: #7f7f7f\">|       </span><span style=\"color: #fc92b8; text-decoration-color: #fc92b8; background-color: #272822\">min_epochs</span><span style=\"color: #fbfbf8; text-decoration-color: #fbfbf8; background-color: #272822\">: </span><span style=\"color: #7f7f7f; text-decoration-color: #7f7f7f; background-color: #272822\">1                                                                                              </span>\n",
       "<span style=\"color: #7f7f7f; text-decoration-color: #7f7f7f\">|       </span><span style=\"color: #fc92b8; text-decoration-color: #fc92b8; background-color: #272822\">max_epochs</span><span style=\"color: #fbfbf8; text-decoration-color: #fbfbf8; background-color: #272822\">: </span><span style=\"color: #7f7f7f; text-decoration-color: #7f7f7f; background-color: #272822\">10                                                                                             </span>\n",
       "<span style=\"color: #7f7f7f; text-decoration-color: #7f7f7f\">|       </span><span style=\"color: #fc92b8; text-decoration-color: #fc92b8; background-color: #272822\">accelerator</span><span style=\"color: #fbfbf8; text-decoration-color: #fbfbf8; background-color: #272822\">: </span><span style=\"color: #7f7f7f; text-decoration-color: #7f7f7f; background-color: #272822\">cpu                                                                                           </span>\n",
       "<span style=\"color: #7f7f7f; text-decoration-color: #7f7f7f\">|       </span><span style=\"color: #7f7f7f; text-decoration-color: #7f7f7f; background-color: #272822\">                                                                                                           </span>\n",
       "<span style=\"color: #7f7f7f; text-decoration-color: #7f7f7f\">+-- </span><span style=\"color: #7f7f7f; text-decoration-color: #7f7f7f\">original_work_dir</span>\n",
       "<span style=\"color: #7f7f7f; text-decoration-color: #7f7f7f\">|   `-- </span><span style=\"color: #7f7f7f; text-decoration-color: #7f7f7f; background-color: #272822\">C:\\Users\\Skoltech\\Desktop\\RecSystemFinal\\Caser                                                             </span>\n",
       "<span style=\"color: #7f7f7f; text-decoration-color: #7f7f7f\">+-- </span><span style=\"color: #7f7f7f; text-decoration-color: #7f7f7f\">data_dir</span>\n",
       "<span style=\"color: #7f7f7f; text-decoration-color: #7f7f7f\">|   `-- </span><span style=\"color: #7f7f7f; text-decoration-color: #7f7f7f; background-color: #272822\">C:\\Users\\Skoltech\\Desktop\\RecSystemFinal\\Caser/data/                                                       </span>\n",
       "<span style=\"color: #7f7f7f; text-decoration-color: #7f7f7f\">+-- </span><span style=\"color: #7f7f7f; text-decoration-color: #7f7f7f\">dataset_name</span>\n",
       "<span style=\"color: #7f7f7f; text-decoration-color: #7f7f7f\">|   `-- </span><span style=\"color: #7f7f7f; text-decoration-color: #7f7f7f; background-color: #272822\">train_ver2.csv                                                                                             </span>\n",
       "<span style=\"color: #7f7f7f; text-decoration-color: #7f7f7f\">+-- </span><span style=\"color: #7f7f7f; text-decoration-color: #7f7f7f\">dataset_name_test</span>\n",
       "<span style=\"color: #7f7f7f; text-decoration-color: #7f7f7f\">|   `-- </span><span style=\"color: #7f7f7f; text-decoration-color: #7f7f7f; background-color: #272822\">train_ver2.csv                                                                                             </span>\n",
       "<span style=\"color: #7f7f7f; text-decoration-color: #7f7f7f\">+-- </span><span style=\"color: #7f7f7f; text-decoration-color: #7f7f7f\">batch_size</span>\n",
       "<span style=\"color: #7f7f7f; text-decoration-color: #7f7f7f\">|   `-- </span><span style=\"color: #7f7f7f; text-decoration-color: #7f7f7f; background-color: #272822\">64                                                                                                         </span>\n",
       "<span style=\"color: #7f7f7f; text-decoration-color: #7f7f7f\">+-- </span><span style=\"color: #7f7f7f; text-decoration-color: #7f7f7f\">num_epochs</span>\n",
       "<span style=\"color: #7f7f7f; text-decoration-color: #7f7f7f\">|   `-- </span><span style=\"color: #7f7f7f; text-decoration-color: #7f7f7f; background-color: #272822\">10                                                                                                         </span>\n",
       "<span style=\"color: #7f7f7f; text-decoration-color: #7f7f7f\">+-- </span><span style=\"color: #7f7f7f; text-decoration-color: #7f7f7f\">unix_time</span>\n",
       "<span style=\"color: #7f7f7f; text-decoration-color: #7f7f7f\">|   `-- </span><span style=\"color: #7f7f7f; text-decoration-color: #7f7f7f; background-color: #272822\">False                                                                                                      </span>\n",
       "<span style=\"color: #7f7f7f; text-decoration-color: #7f7f7f\">+-- </span><span style=\"color: #7f7f7f; text-decoration-color: #7f7f7f\">num_types</span>\n",
       "<span style=\"color: #7f7f7f; text-decoration-color: #7f7f7f\">|   `-- </span><span style=\"color: #7f7f7f; text-decoration-color: #7f7f7f; background-color: #272822\">None                                                                                                       </span>\n",
       "<span style=\"color: #7f7f7f; text-decoration-color: #7f7f7f\">+-- </span><span style=\"color: #7f7f7f; text-decoration-color: #7f7f7f\">print_config</span>\n",
       "<span style=\"color: #7f7f7f; text-decoration-color: #7f7f7f\">|   `-- </span><span style=\"color: #7f7f7f; text-decoration-color: #7f7f7f; background-color: #272822\">True                                                                                                       </span>\n",
       "<span style=\"color: #7f7f7f; text-decoration-color: #7f7f7f\">+-- </span><span style=\"color: #7f7f7f; text-decoration-color: #7f7f7f\">ignore_warnings</span>\n",
       "<span style=\"color: #7f7f7f; text-decoration-color: #7f7f7f\">|   `-- </span><span style=\"color: #7f7f7f; text-decoration-color: #7f7f7f; background-color: #272822\">True                                                                                                       </span>\n",
       "<span style=\"color: #7f7f7f; text-decoration-color: #7f7f7f\">+-- </span><span style=\"color: #7f7f7f; text-decoration-color: #7f7f7f\">seed</span>\n",
       "<span style=\"color: #7f7f7f; text-decoration-color: #7f7f7f\">|   `-- </span><span style=\"color: #7f7f7f; text-decoration-color: #7f7f7f; background-color: #272822\">25                                                                                                         </span>\n",
       "<span style=\"color: #7f7f7f; text-decoration-color: #7f7f7f\">+-- </span><span style=\"color: #7f7f7f; text-decoration-color: #7f7f7f\">name</span>\n",
       "<span style=\"color: #7f7f7f; text-decoration-color: #7f7f7f\">|   `-- </span><span style=\"color: #7f7f7f; text-decoration-color: #7f7f7f; background-color: #272822\">default                                                                                                    </span>\n",
       "<span style=\"color: #7f7f7f; text-decoration-color: #7f7f7f\">`-- </span><span style=\"color: #7f7f7f; text-decoration-color: #7f7f7f\">ckpt_path</span>\n",
       "<span style=\"color: #7f7f7f; text-decoration-color: #7f7f7f\">    `-- </span><span style=\"color: #7f7f7f; text-decoration-color: #7f7f7f; background-color: #272822\">test_ckpt\\last.ckpt                                                                                        </span>\n",
       "</pre>\n"
      ],
      "text/plain": [
       "\u001b[2mCONFIG\u001b[0m\n",
       "\u001b[2m+-- \u001b[0m\u001b[2mdatamodule\u001b[0m\n",
       "\u001b[2m|   \u001b[0m\u001b[2m`-- \u001b[0m\u001b[2;38;2;249;38;114;48;2;39;40;34m_target_\u001b[0m\u001b[2;38;2;248;248;242;48;2;39;40;34m:\u001b[0m\u001b[2;38;2;248;248;242;48;2;39;40;34m \u001b[0m\u001b[2;48;2;39;40;34msrc.datamodules.caser_datamodule.SantanderDataModule                                             \u001b[0m\n",
       "\u001b[2m|   \u001b[0m\u001b[2m    \u001b[0m\u001b[2;38;2;249;38;114;48;2;39;40;34mdata_dir\u001b[0m\u001b[2;38;2;248;248;242;48;2;39;40;34m:\u001b[0m\u001b[2;38;2;248;248;242;48;2;39;40;34m \u001b[0m\u001b[2;48;2;39;40;34mC:\\Users\\Skoltech\\Desktop\\RecSystemFinal\\Caser/data/                                             \u001b[0m\n",
       "\u001b[2m|   \u001b[0m\u001b[2m    \u001b[0m\u001b[2;38;2;249;38;114;48;2;39;40;34mdataset_name\u001b[0m\u001b[2;38;2;248;248;242;48;2;39;40;34m:\u001b[0m\u001b[2;38;2;248;248;242;48;2;39;40;34m \u001b[0m\u001b[2;48;2;39;40;34mtrain_ver2.csv                                                                               \u001b[0m\n",
       "\u001b[2m|   \u001b[0m\u001b[2m    \u001b[0m\u001b[2;38;2;249;38;114;48;2;39;40;34mdataset_name_test\u001b[0m\u001b[2;38;2;248;248;242;48;2;39;40;34m:\u001b[0m\u001b[2;38;2;248;248;242;48;2;39;40;34m \u001b[0m\u001b[2;48;2;39;40;34mtrain_ver2.csv                                                                          \u001b[0m\n",
       "\u001b[2m|   \u001b[0m\u001b[2m    \u001b[0m\u001b[2;38;2;249;38;114;48;2;39;40;34mbatch_size\u001b[0m\u001b[2;38;2;248;248;242;48;2;39;40;34m:\u001b[0m\u001b[2;38;2;248;248;242;48;2;39;40;34m \u001b[0m\u001b[2;48;2;39;40;34m64                                                                                             \u001b[0m\n",
       "\u001b[2m|   \u001b[0m\u001b[2m    \u001b[0m\u001b[2;38;2;249;38;114;48;2;39;40;34mnum_workers\u001b[0m\u001b[2;38;2;248;248;242;48;2;39;40;34m:\u001b[0m\u001b[2;38;2;248;248;242;48;2;39;40;34m \u001b[0m\u001b[2;48;2;39;40;34m0                                                                                             \u001b[0m\n",
       "\u001b[2m|   \u001b[0m\u001b[2m    \u001b[0m\u001b[2;38;2;249;38;114;48;2;39;40;34mpin_memory\u001b[0m\u001b[2;38;2;248;248;242;48;2;39;40;34m:\u001b[0m\u001b[2;38;2;248;248;242;48;2;39;40;34m \u001b[0m\u001b[2;48;2;39;40;34mfalse                                                                                          \u001b[0m\n",
       "\u001b[2m|   \u001b[0m\u001b[2m    \u001b[0m\u001b[2;38;2;249;38;114;48;2;39;40;34msample_size\u001b[0m\u001b[2;38;2;248;248;242;48;2;39;40;34m:\u001b[0m\u001b[2;38;2;248;248;242;48;2;39;40;34m \u001b[0m\u001b[2;48;2;39;40;34m2000                                                                                          \u001b[0m\n",
       "\u001b[2m|   \u001b[0m\u001b[2m    \u001b[0m\u001b[2;38;2;249;38;114;48;2;39;40;34mmin_data_points\u001b[0m\u001b[2;38;2;248;248;242;48;2;39;40;34m:\u001b[0m\u001b[2;38;2;248;248;242;48;2;39;40;34m \u001b[0m\u001b[2;48;2;39;40;34m17                                                                                        \u001b[0m\n",
       "\u001b[2m|   \u001b[0m\u001b[2m    \u001b[0m\u001b[2;38;2;249;38;114;48;2;39;40;34mseed\u001b[0m\u001b[2;38;2;248;248;242;48;2;39;40;34m:\u001b[0m\u001b[2;38;2;248;248;242;48;2;39;40;34m \u001b[0m\u001b[2;48;2;39;40;34m0                                                                                                    \u001b[0m\n",
       "\u001b[2m|   \u001b[0m\u001b[2m    \u001b[0m\u001b[2;38;2;249;38;114;48;2;39;40;34msequence_length\u001b[0m\u001b[2;38;2;248;248;242;48;2;39;40;34m:\u001b[0m\u001b[2;38;2;248;248;242;48;2;39;40;34m \u001b[0m\u001b[2;48;2;39;40;34m5                                                                                         \u001b[0m\n",
       "\u001b[2m|   \u001b[0m\u001b[2m    \u001b[0m\u001b[2;38;2;249;38;114;48;2;39;40;34mtarget_length\u001b[0m\u001b[2;38;2;248;248;242;48;2;39;40;34m:\u001b[0m\u001b[2;38;2;248;248;242;48;2;39;40;34m \u001b[0m\u001b[2;48;2;39;40;34m1                                                                                           \u001b[0m\n",
       "\u001b[2m|   \u001b[0m\u001b[2m    \u001b[0m\u001b[2;38;2;249;38;114;48;2;39;40;34mneg_samples\u001b[0m\u001b[2;38;2;248;248;242;48;2;39;40;34m:\u001b[0m\u001b[2;38;2;248;248;242;48;2;39;40;34m \u001b[0m\u001b[2;48;2;39;40;34m3                                                                                             \u001b[0m\n",
       "\u001b[2m|   \u001b[0m\u001b[2m    \u001b[0m\u001b[2;48;2;39;40;34m                                                                                                           \u001b[0m\n",
       "\u001b[2m+-- \u001b[0m\u001b[2mmodel\u001b[0m\n",
       "\u001b[2m|   \u001b[0m\u001b[2m`-- \u001b[0m\u001b[2;38;2;249;38;114;48;2;39;40;34m_target_\u001b[0m\u001b[2;38;2;248;248;242;48;2;39;40;34m:\u001b[0m\u001b[2;38;2;248;248;242;48;2;39;40;34m \u001b[0m\u001b[2;48;2;39;40;34msrc.models.caser.CaserModel                                                                      \u001b[0m\n",
       "\u001b[2m|   \u001b[0m\u001b[2m    \u001b[0m\u001b[2;38;2;249;38;114;48;2;39;40;34mdata_dir\u001b[0m\u001b[2;38;2;248;248;242;48;2;39;40;34m:\u001b[0m\u001b[2;38;2;248;248;242;48;2;39;40;34m \u001b[0m\u001b[2;48;2;39;40;34mC:\\Users\\Skoltech\\Desktop\\RecSystemFinal\\Caser/data/                                             \u001b[0m\n",
       "\u001b[2m|   \u001b[0m\u001b[2m    \u001b[0m\u001b[2;38;2;249;38;114;48;2;39;40;34mdataset_name\u001b[0m\u001b[2;38;2;248;248;242;48;2;39;40;34m:\u001b[0m\u001b[2;38;2;248;248;242;48;2;39;40;34m \u001b[0m\u001b[2;48;2;39;40;34mtrain_ver2.csv                                                                               \u001b[0m\n",
       "\u001b[2m|   \u001b[0m\u001b[2m    \u001b[0m\u001b[2;38;2;249;38;114;48;2;39;40;34mdataset_name_test\u001b[0m\u001b[2;38;2;248;248;242;48;2;39;40;34m:\u001b[0m\u001b[2;38;2;248;248;242;48;2;39;40;34m \u001b[0m\u001b[2;48;2;39;40;34mtrain_ver2.csv                                                                          \u001b[0m\n",
       "\u001b[2m|   \u001b[0m\u001b[2m    \u001b[0m\u001b[2;38;2;249;38;114;48;2;39;40;34mL\u001b[0m\u001b[2;38;2;248;248;242;48;2;39;40;34m:\u001b[0m\u001b[2;38;2;248;248;242;48;2;39;40;34m \u001b[0m\u001b[2;48;2;39;40;34m5                                                                                                       \u001b[0m\n",
       "\u001b[2m|   \u001b[0m\u001b[2m    \u001b[0m\u001b[2;38;2;249;38;114;48;2;39;40;34md\u001b[0m\u001b[2;38;2;248;248;242;48;2;39;40;34m:\u001b[0m\u001b[2;38;2;248;248;242;48;2;39;40;34m \u001b[0m\u001b[2;48;2;39;40;34m50                                                                                                      \u001b[0m\n",
       "\u001b[2m|   \u001b[0m\u001b[2m    \u001b[0m\u001b[2;38;2;249;38;114;48;2;39;40;34mnh\u001b[0m\u001b[2;38;2;248;248;242;48;2;39;40;34m:\u001b[0m\u001b[2;38;2;248;248;242;48;2;39;40;34m \u001b[0m\u001b[2;48;2;39;40;34m16                                                                                                     \u001b[0m\n",
       "\u001b[2m|   \u001b[0m\u001b[2m    \u001b[0m\u001b[2;38;2;249;38;114;48;2;39;40;34mnv\u001b[0m\u001b[2;38;2;248;248;242;48;2;39;40;34m:\u001b[0m\u001b[2;38;2;248;248;242;48;2;39;40;34m \u001b[0m\u001b[2;48;2;39;40;34m4                                                                                                      \u001b[0m\n",
       "\u001b[2m|   \u001b[0m\u001b[2m    \u001b[0m\u001b[2;38;2;249;38;114;48;2;39;40;34mdrop\u001b[0m\u001b[2;38;2;248;248;242;48;2;39;40;34m:\u001b[0m\u001b[2;38;2;248;248;242;48;2;39;40;34m \u001b[0m\u001b[2;48;2;39;40;34m0.5                                                                                                  \u001b[0m\n",
       "\u001b[2m|   \u001b[0m\u001b[2m    \u001b[0m\u001b[2;38;2;249;38;114;48;2;39;40;34mac_conv\u001b[0m\u001b[2;38;2;248;248;242;48;2;39;40;34m:\u001b[0m\u001b[2;38;2;248;248;242;48;2;39;40;34m \u001b[0m\u001b[2;48;2;39;40;34mrelu                                                                                              \u001b[0m\n",
       "\u001b[2m|   \u001b[0m\u001b[2m    \u001b[0m\u001b[2;38;2;249;38;114;48;2;39;40;34mac_fc\u001b[0m\u001b[2;38;2;248;248;242;48;2;39;40;34m:\u001b[0m\u001b[2;38;2;248;248;242;48;2;39;40;34m \u001b[0m\u001b[2;48;2;39;40;34mrelu                                                                                                \u001b[0m\n",
       "\u001b[2m|   \u001b[0m\u001b[2m    \u001b[0m\u001b[2;38;2;249;38;114;48;2;39;40;34ml2\u001b[0m\u001b[2;38;2;248;248;242;48;2;39;40;34m:\u001b[0m\u001b[2;38;2;248;248;242;48;2;39;40;34m \u001b[0m\u001b[2;48;2;39;40;34m1.0e-06                                                                                                \u001b[0m\n",
       "\u001b[2m|   \u001b[0m\u001b[2m    \u001b[0m\u001b[2;38;2;249;38;114;48;2;39;40;34mlearning_rate\u001b[0m\u001b[2;38;2;248;248;242;48;2;39;40;34m:\u001b[0m\u001b[2;38;2;248;248;242;48;2;39;40;34m \u001b[0m\u001b[2;48;2;39;40;34m0.001                                                                                       \u001b[0m\n",
       "\u001b[2m|   \u001b[0m\u001b[2m    \u001b[0m\u001b[2;48;2;39;40;34m                                                                                                           \u001b[0m\n",
       "\u001b[2m+-- \u001b[0m\u001b[2mcallbacks\u001b[0m\n",
       "\u001b[2m|   \u001b[0m\u001b[2m`-- \u001b[0m\u001b[2;38;2;249;38;114;48;2;39;40;34mmodel_checkpoint\u001b[0m\u001b[2;38;2;248;248;242;48;2;39;40;34m:\u001b[0m\u001b[2;48;2;39;40;34m                                                                                          \u001b[0m\n",
       "\u001b[2m|   \u001b[0m\u001b[2m    \u001b[0m\u001b[2;38;2;248;248;242;48;2;39;40;34m  \u001b[0m\u001b[2;38;2;249;38;114;48;2;39;40;34m_target_\u001b[0m\u001b[2;38;2;248;248;242;48;2;39;40;34m:\u001b[0m\u001b[2;38;2;248;248;242;48;2;39;40;34m \u001b[0m\u001b[2;48;2;39;40;34mpytorch_lightning.callbacks.ModelCheckpoint                                                    \u001b[0m\n",
       "\u001b[2m|   \u001b[0m\u001b[2m    \u001b[0m\u001b[2;38;2;248;248;242;48;2;39;40;34m  \u001b[0m\u001b[2;38;2;249;38;114;48;2;39;40;34mmonitor\u001b[0m\u001b[2;38;2;248;248;242;48;2;39;40;34m:\u001b[0m\u001b[2;38;2;248;248;242;48;2;39;40;34m \u001b[0m\u001b[2;48;2;39;40;34mval/Recall@3                                                                                    \u001b[0m\n",
       "\u001b[2m|   \u001b[0m\u001b[2m    \u001b[0m\u001b[2;38;2;248;248;242;48;2;39;40;34m  \u001b[0m\u001b[2;38;2;249;38;114;48;2;39;40;34mmode\u001b[0m\u001b[2;38;2;248;248;242;48;2;39;40;34m:\u001b[0m\u001b[2;38;2;248;248;242;48;2;39;40;34m \u001b[0m\u001b[2;48;2;39;40;34mmax                                                                                                \u001b[0m\n",
       "\u001b[2m|   \u001b[0m\u001b[2m    \u001b[0m\u001b[2;38;2;248;248;242;48;2;39;40;34m  \u001b[0m\u001b[2;38;2;249;38;114;48;2;39;40;34msave_top_k\u001b[0m\u001b[2;38;2;248;248;242;48;2;39;40;34m:\u001b[0m\u001b[2;38;2;248;248;242;48;2;39;40;34m \u001b[0m\u001b[2;48;2;39;40;34m1                                                                                            \u001b[0m\n",
       "\u001b[2m|   \u001b[0m\u001b[2m    \u001b[0m\u001b[2;38;2;248;248;242;48;2;39;40;34m  \u001b[0m\u001b[2;38;2;249;38;114;48;2;39;40;34msave_last\u001b[0m\u001b[2;38;2;248;248;242;48;2;39;40;34m:\u001b[0m\u001b[2;38;2;248;248;242;48;2;39;40;34m \u001b[0m\u001b[2;48;2;39;40;34mtrue                                                                                          \u001b[0m\n",
       "\u001b[2m|   \u001b[0m\u001b[2m    \u001b[0m\u001b[2;38;2;248;248;242;48;2;39;40;34m  \u001b[0m\u001b[2;38;2;249;38;114;48;2;39;40;34mverbose\u001b[0m\u001b[2;38;2;248;248;242;48;2;39;40;34m:\u001b[0m\u001b[2;38;2;248;248;242;48;2;39;40;34m \u001b[0m\u001b[2;48;2;39;40;34mfalse                                                                                           \u001b[0m\n",
       "\u001b[2m|   \u001b[0m\u001b[2m    \u001b[0m\u001b[2;38;2;248;248;242;48;2;39;40;34m  \u001b[0m\u001b[2;38;2;249;38;114;48;2;39;40;34mdirpath\u001b[0m\u001b[2;38;2;248;248;242;48;2;39;40;34m:\u001b[0m\u001b[2;38;2;248;248;242;48;2;39;40;34m \u001b[0m\u001b[2;48;2;39;40;34mcheckpoints/                                                                                    \u001b[0m\n",
       "\u001b[2m|   \u001b[0m\u001b[2m    \u001b[0m\u001b[2;38;2;248;248;242;48;2;39;40;34m  \u001b[0m\u001b[2;38;2;249;38;114;48;2;39;40;34mfilename\u001b[0m\u001b[2;38;2;248;248;242;48;2;39;40;34m:\u001b[0m\u001b[2;38;2;248;248;242;48;2;39;40;34m \u001b[0m\u001b[2;48;2;39;40;34mepoch_{epoch:03d}                                                                              \u001b[0m\n",
       "\u001b[2m|   \u001b[0m\u001b[2m    \u001b[0m\u001b[2;38;2;248;248;242;48;2;39;40;34m  \u001b[0m\u001b[2;38;2;249;38;114;48;2;39;40;34mauto_insert_metric_name\u001b[0m\u001b[2;38;2;248;248;242;48;2;39;40;34m:\u001b[0m\u001b[2;38;2;248;248;242;48;2;39;40;34m \u001b[0m\u001b[2;48;2;39;40;34mfalse                                                                           \u001b[0m\n",
       "\u001b[2m|   \u001b[0m\u001b[2m    \u001b[0m\u001b[2;38;2;249;38;114;48;2;39;40;34mearly_stopping\u001b[0m\u001b[2;38;2;248;248;242;48;2;39;40;34m:\u001b[0m\u001b[2;48;2;39;40;34m                                                                                            \u001b[0m\n",
       "\u001b[2m|   \u001b[0m\u001b[2m    \u001b[0m\u001b[2;38;2;248;248;242;48;2;39;40;34m  \u001b[0m\u001b[2;38;2;249;38;114;48;2;39;40;34m_target_\u001b[0m\u001b[2;38;2;248;248;242;48;2;39;40;34m:\u001b[0m\u001b[2;38;2;248;248;242;48;2;39;40;34m \u001b[0m\u001b[2;48;2;39;40;34mpytorch_lightning.callbacks.EarlyStopping                                                      \u001b[0m\n",
       "\u001b[2m|   \u001b[0m\u001b[2m    \u001b[0m\u001b[2;38;2;248;248;242;48;2;39;40;34m  \u001b[0m\u001b[2;38;2;249;38;114;48;2;39;40;34mmonitor\u001b[0m\u001b[2;38;2;248;248;242;48;2;39;40;34m:\u001b[0m\u001b[2;38;2;248;248;242;48;2;39;40;34m \u001b[0m\u001b[2;48;2;39;40;34mval/Recall@3                                                                                    \u001b[0m\n",
       "\u001b[2m|   \u001b[0m\u001b[2m    \u001b[0m\u001b[2;38;2;248;248;242;48;2;39;40;34m  \u001b[0m\u001b[2;38;2;249;38;114;48;2;39;40;34mmode\u001b[0m\u001b[2;38;2;248;248;242;48;2;39;40;34m:\u001b[0m\u001b[2;38;2;248;248;242;48;2;39;40;34m \u001b[0m\u001b[2;48;2;39;40;34mmax                                                                                                \u001b[0m\n",
       "\u001b[2m|   \u001b[0m\u001b[2m    \u001b[0m\u001b[2;38;2;248;248;242;48;2;39;40;34m  \u001b[0m\u001b[2;38;2;249;38;114;48;2;39;40;34mpatience\u001b[0m\u001b[2;38;2;248;248;242;48;2;39;40;34m:\u001b[0m\u001b[2;38;2;248;248;242;48;2;39;40;34m \u001b[0m\u001b[2;48;2;39;40;34m100                                                                                            \u001b[0m\n",
       "\u001b[2m|   \u001b[0m\u001b[2m    \u001b[0m\u001b[2;38;2;248;248;242;48;2;39;40;34m  \u001b[0m\u001b[2;38;2;249;38;114;48;2;39;40;34mmin_delta\u001b[0m\u001b[2;38;2;248;248;242;48;2;39;40;34m:\u001b[0m\u001b[2;38;2;248;248;242;48;2;39;40;34m \u001b[0m\u001b[2;48;2;39;40;34m0                                                                                             \u001b[0m\n",
       "\u001b[2m|   \u001b[0m\u001b[2m    \u001b[0m\u001b[2;38;2;249;38;114;48;2;39;40;34mmodel_summary\u001b[0m\u001b[2;38;2;248;248;242;48;2;39;40;34m:\u001b[0m\u001b[2;48;2;39;40;34m                                                                                             \u001b[0m\n",
       "\u001b[2m|   \u001b[0m\u001b[2m    \u001b[0m\u001b[2;38;2;248;248;242;48;2;39;40;34m  \u001b[0m\u001b[2;38;2;249;38;114;48;2;39;40;34m_target_\u001b[0m\u001b[2;38;2;248;248;242;48;2;39;40;34m:\u001b[0m\u001b[2;38;2;248;248;242;48;2;39;40;34m \u001b[0m\u001b[2;48;2;39;40;34mpytorch_lightning.callbacks.RichModelSummary                                                   \u001b[0m\n",
       "\u001b[2m|   \u001b[0m\u001b[2m    \u001b[0m\u001b[2;38;2;248;248;242;48;2;39;40;34m  \u001b[0m\u001b[2;38;2;249;38;114;48;2;39;40;34mmax_depth\u001b[0m\u001b[2;38;2;248;248;242;48;2;39;40;34m:\u001b[0m\u001b[2;38;2;248;248;242;48;2;39;40;34m \u001b[0m\u001b[2;48;2;39;40;34m-1                                                                                            \u001b[0m\n",
       "\u001b[2m|   \u001b[0m\u001b[2m    \u001b[0m\u001b[2;38;2;249;38;114;48;2;39;40;34mrich_progress_bar\u001b[0m\u001b[2;38;2;248;248;242;48;2;39;40;34m:\u001b[0m\u001b[2;48;2;39;40;34m                                                                                         \u001b[0m\n",
       "\u001b[2m|   \u001b[0m\u001b[2m    \u001b[0m\u001b[2;38;2;248;248;242;48;2;39;40;34m  \u001b[0m\u001b[2;38;2;249;38;114;48;2;39;40;34m_target_\u001b[0m\u001b[2;38;2;248;248;242;48;2;39;40;34m:\u001b[0m\u001b[2;38;2;248;248;242;48;2;39;40;34m \u001b[0m\u001b[2;48;2;39;40;34mpytorch_lightning.callbacks.RichProgressBar                                                    \u001b[0m\n",
       "\u001b[2m|   \u001b[0m\u001b[2m    \u001b[0m\u001b[2;48;2;39;40;34m                                                                                                           \u001b[0m\n",
       "\u001b[2m+-- \u001b[0m\u001b[2mlogger\u001b[0m\n",
       "\u001b[2m|   \u001b[0m\u001b[2m`-- \u001b[0m\u001b[2;38;2;249;38;114;48;2;39;40;34mcomet\u001b[0m\u001b[2;38;2;248;248;242;48;2;39;40;34m:\u001b[0m\u001b[2;48;2;39;40;34m                                                                                                     \u001b[0m\n",
       "\u001b[2m|   \u001b[0m\u001b[2m    \u001b[0m\u001b[2;38;2;248;248;242;48;2;39;40;34m  \u001b[0m\u001b[2;38;2;249;38;114;48;2;39;40;34m_target_\u001b[0m\u001b[2;38;2;248;248;242;48;2;39;40;34m:\u001b[0m\u001b[2;38;2;248;248;242;48;2;39;40;34m \u001b[0m\u001b[2;48;2;39;40;34mpytorch_lightning.loggers.comet.CometLogger                                                    \u001b[0m\n",
       "\u001b[2m|   \u001b[0m\u001b[2m    \u001b[0m\u001b[2;38;2;248;248;242;48;2;39;40;34m  \u001b[0m\u001b[2;38;2;249;38;114;48;2;39;40;34mapi_key\u001b[0m\u001b[2;38;2;248;248;242;48;2;39;40;34m:\u001b[0m\u001b[2;38;2;248;248;242;48;2;39;40;34m \u001b[0m\u001b[2;48;2;39;40;34mXmlVuApoep6S65VSewQg3tRDp                                                                       \u001b[0m\n",
       "\u001b[2m|   \u001b[0m\u001b[2m    \u001b[0m\u001b[2;38;2;248;248;242;48;2;39;40;34m  \u001b[0m\u001b[2;38;2;249;38;114;48;2;39;40;34mproject_name\u001b[0m\u001b[2;38;2;248;248;242;48;2;39;40;34m:\u001b[0m\u001b[2;38;2;248;248;242;48;2;39;40;34m \u001b[0m\u001b[2;48;2;39;40;34mrecsys                                                                                     \u001b[0m\n",
       "\u001b[2m|   \u001b[0m\u001b[2m    \u001b[0m\u001b[2;38;2;248;248;242;48;2;39;40;34m  \u001b[0m\u001b[2;38;2;249;38;114;48;2;39;40;34mworkspace\u001b[0m\u001b[2;38;2;248;248;242;48;2;39;40;34m:\u001b[0m\u001b[2;38;2;248;248;242;48;2;39;40;34m \u001b[0m\u001b[2;48;2;39;40;34mverdangeta                                                                                    \u001b[0m\n",
       "\u001b[2m|   \u001b[0m\u001b[2m    \u001b[0m\u001b[2;38;2;248;248;242;48;2;39;40;34m  \u001b[0m\u001b[2;38;2;249;38;114;48;2;39;40;34mexperiment_name\u001b[0m\u001b[2;38;2;248;248;242;48;2;39;40;34m:\u001b[0m\u001b[2;38;2;248;248;242;48;2;39;40;34m \u001b[0m\u001b[2;48;2;39;40;34mdefault                                                                                 \u001b[0m\n",
       "\u001b[2m|   \u001b[0m\u001b[2m    \u001b[0m\u001b[2;48;2;39;40;34m                                                                                                           \u001b[0m\n",
       "\u001b[2m+-- \u001b[0m\u001b[2mtrainer\u001b[0m\n",
       "\u001b[2m|   \u001b[0m\u001b[2m`-- \u001b[0m\u001b[2;38;2;249;38;114;48;2;39;40;34m_target_\u001b[0m\u001b[2;38;2;248;248;242;48;2;39;40;34m:\u001b[0m\u001b[2;38;2;248;248;242;48;2;39;40;34m \u001b[0m\u001b[2;48;2;39;40;34mpytorch_lightning.Trainer                                                                        \u001b[0m\n",
       "\u001b[2m|   \u001b[0m\u001b[2m    \u001b[0m\u001b[2;38;2;249;38;114;48;2;39;40;34mmin_epochs\u001b[0m\u001b[2;38;2;248;248;242;48;2;39;40;34m:\u001b[0m\u001b[2;38;2;248;248;242;48;2;39;40;34m \u001b[0m\u001b[2;48;2;39;40;34m1                                                                                              \u001b[0m\n",
       "\u001b[2m|   \u001b[0m\u001b[2m    \u001b[0m\u001b[2;38;2;249;38;114;48;2;39;40;34mmax_epochs\u001b[0m\u001b[2;38;2;248;248;242;48;2;39;40;34m:\u001b[0m\u001b[2;38;2;248;248;242;48;2;39;40;34m \u001b[0m\u001b[2;48;2;39;40;34m10                                                                                             \u001b[0m\n",
       "\u001b[2m|   \u001b[0m\u001b[2m    \u001b[0m\u001b[2;38;2;249;38;114;48;2;39;40;34maccelerator\u001b[0m\u001b[2;38;2;248;248;242;48;2;39;40;34m:\u001b[0m\u001b[2;38;2;248;248;242;48;2;39;40;34m \u001b[0m\u001b[2;48;2;39;40;34mcpu                                                                                           \u001b[0m\n",
       "\u001b[2m|   \u001b[0m\u001b[2m    \u001b[0m\u001b[2;48;2;39;40;34m                                                                                                           \u001b[0m\n",
       "\u001b[2m+-- \u001b[0m\u001b[2moriginal_work_dir\u001b[0m\n",
       "\u001b[2m|   \u001b[0m\u001b[2m`-- \u001b[0m\u001b[2;48;2;39;40;34mC:\\Users\\Skoltech\\Desktop\\RecSystemFinal\\Caser                                                             \u001b[0m\n",
       "\u001b[2m+-- \u001b[0m\u001b[2mdata_dir\u001b[0m\n",
       "\u001b[2m|   \u001b[0m\u001b[2m`-- \u001b[0m\u001b[2;48;2;39;40;34mC:\\Users\\Skoltech\\Desktop\\RecSystemFinal\\Caser/data/                                                       \u001b[0m\n",
       "\u001b[2m+-- \u001b[0m\u001b[2mdataset_name\u001b[0m\n",
       "\u001b[2m|   \u001b[0m\u001b[2m`-- \u001b[0m\u001b[2;48;2;39;40;34mtrain_ver2.csv                                                                                             \u001b[0m\n",
       "\u001b[2m+-- \u001b[0m\u001b[2mdataset_name_test\u001b[0m\n",
       "\u001b[2m|   \u001b[0m\u001b[2m`-- \u001b[0m\u001b[2;48;2;39;40;34mtrain_ver2.csv                                                                                             \u001b[0m\n",
       "\u001b[2m+-- \u001b[0m\u001b[2mbatch_size\u001b[0m\n",
       "\u001b[2m|   \u001b[0m\u001b[2m`-- \u001b[0m\u001b[2;48;2;39;40;34m64                                                                                                         \u001b[0m\n",
       "\u001b[2m+-- \u001b[0m\u001b[2mnum_epochs\u001b[0m\n",
       "\u001b[2m|   \u001b[0m\u001b[2m`-- \u001b[0m\u001b[2;48;2;39;40;34m10                                                                                                         \u001b[0m\n",
       "\u001b[2m+-- \u001b[0m\u001b[2munix_time\u001b[0m\n",
       "\u001b[2m|   \u001b[0m\u001b[2m`-- \u001b[0m\u001b[2;48;2;39;40;34mFalse                                                                                                      \u001b[0m\n",
       "\u001b[2m+-- \u001b[0m\u001b[2mnum_types\u001b[0m\n",
       "\u001b[2m|   \u001b[0m\u001b[2m`-- \u001b[0m\u001b[2;48;2;39;40;34mNone                                                                                                       \u001b[0m\n",
       "\u001b[2m+-- \u001b[0m\u001b[2mprint_config\u001b[0m\n",
       "\u001b[2m|   \u001b[0m\u001b[2m`-- \u001b[0m\u001b[2;48;2;39;40;34mTrue                                                                                                       \u001b[0m\n",
       "\u001b[2m+-- \u001b[0m\u001b[2mignore_warnings\u001b[0m\n",
       "\u001b[2m|   \u001b[0m\u001b[2m`-- \u001b[0m\u001b[2;48;2;39;40;34mTrue                                                                                                       \u001b[0m\n",
       "\u001b[2m+-- \u001b[0m\u001b[2mseed\u001b[0m\n",
       "\u001b[2m|   \u001b[0m\u001b[2m`-- \u001b[0m\u001b[2;48;2;39;40;34m25                                                                                                         \u001b[0m\n",
       "\u001b[2m+-- \u001b[0m\u001b[2mname\u001b[0m\n",
       "\u001b[2m|   \u001b[0m\u001b[2m`-- \u001b[0m\u001b[2;48;2;39;40;34mdefault                                                                                                    \u001b[0m\n",
       "\u001b[2m`-- \u001b[0m\u001b[2mckpt_path\u001b[0m\n",
       "\u001b[2m    \u001b[0m\u001b[2m`-- \u001b[0m\u001b[2;48;2;39;40;34mtest_ckpt\\last.ckpt                                                                                        \u001b[0m\n"
      ]
     },
     "metadata": {},
     "output_type": "display_data"
    },
    {
     "name": "stderr",
     "output_type": "stream",
     "text": [
      "Global seed set to 25\n"
     ]
    },
    {
     "data": {
      "text/html": [
       "<pre style=\"white-space:pre;overflow-x:auto;line-height:normal;font-family:Menlo,'DejaVu Sans Mono',consolas,'Courier New',monospace\">[<span style=\"color: #008080; text-decoration-color: #008080\">2023-11-14 15:26:09,065</span>][<span style=\"color: #000080; text-decoration-color: #000080\">src.testing_pipeline</span>][<span style=\"color: #008000; text-decoration-color: #008000\">INFO</span>] - Instantiating datamodule \n",
       "&lt;src.datamodules.caser_datamodule.SantanderDataModule&gt;\n",
       "</pre>\n"
      ],
      "text/plain": [
       "[\u001b[36m2023-11-14 15:26:09,065\u001b[0m][\u001b[34msrc.testing_pipeline\u001b[0m][\u001b[32mINFO\u001b[0m] - Instantiating datamodule \n",
       "<src.datamodules.caser_datamodule.SantanderDataModule>\n"
      ]
     },
     "metadata": {},
     "output_type": "display_data"
    },
    {
     "data": {
      "text/html": [
       "<pre style=\"white-space:pre;overflow-x:auto;line-height:normal;font-family:Menlo,'DejaVu Sans Mono',consolas,'Courier New',monospace\">[<span style=\"color: #008080; text-decoration-color: #008080\">2023-11-14 15:26:09,070</span>][<span style=\"color: #000080; text-decoration-color: #000080\">src.testing_pipeline</span>][<span style=\"color: #008000; text-decoration-color: #008000\">INFO</span>] - Instantiating model &lt;src.models.caser.CaserModel&gt;\n",
       "</pre>\n"
      ],
      "text/plain": [
       "[\u001b[36m2023-11-14 15:26:09,070\u001b[0m][\u001b[34msrc.testing_pipeline\u001b[0m][\u001b[32mINFO\u001b[0m] - Instantiating model <src.models.caser.CaserModel>\n"
      ]
     },
     "metadata": {},
     "output_type": "display_data"
    },
    {
     "data": {
      "text/html": [
       "<pre style=\"white-space:pre;overflow-x:auto;line-height:normal;font-family:Menlo,'DejaVu Sans Mono',consolas,'Courier New',monospace\">[<span style=\"color: #008080; text-decoration-color: #008080\">2023-11-14 15:26:09,141</span>][<span style=\"color: #000080; text-decoration-color: #000080\">src.testing_pipeline</span>][<span style=\"color: #008000; text-decoration-color: #008000\">INFO</span>] - Instantiating logger \n",
       "&lt;pytorch_lightning.loggers.comet.CometLogger&gt;\n",
       "</pre>\n"
      ],
      "text/plain": [
       "[\u001b[36m2023-11-14 15:26:09,141\u001b[0m][\u001b[34msrc.testing_pipeline\u001b[0m][\u001b[32mINFO\u001b[0m] - Instantiating logger \n",
       "<pytorch_lightning.loggers.comet.CometLogger>\n"
      ]
     },
     "metadata": {},
     "output_type": "display_data"
    },
    {
     "name": "stderr",
     "output_type": "stream",
     "text": [
      "CometLogger will be initialized in online mode\n"
     ]
    },
    {
     "data": {
      "text/html": [
       "<pre style=\"white-space:pre;overflow-x:auto;line-height:normal;font-family:Menlo,'DejaVu Sans Mono',consolas,'Courier New',monospace\">[<span style=\"color: #008080; text-decoration-color: #008080\">2023-11-14 15:26:09,145</span>][<span style=\"color: #000080; text-decoration-color: #000080\">src.testing_pipeline</span>][<span style=\"color: #008000; text-decoration-color: #008000\">INFO</span>] - Instantiating trainer &lt;pytorch_lightning.Trainer&gt;\n",
       "</pre>\n"
      ],
      "text/plain": [
       "[\u001b[36m2023-11-14 15:26:09,145\u001b[0m][\u001b[34msrc.testing_pipeline\u001b[0m][\u001b[32mINFO\u001b[0m] - Instantiating trainer <pytorch_lightning.Trainer>\n"
      ]
     },
     "metadata": {},
     "output_type": "display_data"
    },
    {
     "name": "stderr",
     "output_type": "stream",
     "text": [
      "GPU available: True (cuda), used: False\n",
      "TPU available: False, using: 0 TPU cores\n",
      "IPU available: False, using: 0 IPUs\n",
      "HPU available: False, using: 0 HPUs\n",
      "\u001b[1;38;5;214mCOMET WARNING:\u001b[0m To get all data logged automatically, import comet_ml before the following modules: torch.\n",
      "\u001b[1;38;5;214mCOMET WARNING:\u001b[0m As you are running in a Jupyter environment, you will need to call `experiment.end()` when finished to ensure all metrics and code are logged before exiting.\n",
      "\u001b[1;38;5;214mCOMET WARNING:\u001b[0m Unknown error exporting current conda environment\n",
      "\u001b[1;38;5;214mCOMET WARNING:\u001b[0m Unknown error retrieving Conda package as an explicit file\n",
      "\u001b[1;38;5;214mCOMET WARNING:\u001b[0m Unknown error retrieving Conda information\n",
      "\u001b[1;38;5;39mCOMET INFO:\u001b[0m Experiment is live on comet.com https://www.comet.com/verdangeta/recsys/e0ef6f8a21634228b332a9e82f9f1b2f\n",
      "\n"
     ]
    },
    {
     "data": {
      "text/html": [
       "<pre style=\"white-space:pre;overflow-x:auto;line-height:normal;font-family:Menlo,'DejaVu Sans Mono',consolas,'Courier New',monospace\">[<span style=\"color: #008080; text-decoration-color: #008080\">2023-11-14 15:26:15,710</span>][<span style=\"color: #000080; text-decoration-color: #000080\">src.testing_pipeline</span>][<span style=\"color: #008000; text-decoration-color: #008000\">INFO</span>] - Starting testing!\n",
       "</pre>\n"
      ],
      "text/plain": [
       "[\u001b[36m2023-11-14 15:26:15,710\u001b[0m][\u001b[34msrc.testing_pipeline\u001b[0m][\u001b[32mINFO\u001b[0m] - Starting testing!\n"
      ]
     },
     "metadata": {},
     "output_type": "display_data"
    },
    {
     "data": {
      "text/html": [
       "<pre style=\"white-space:pre;overflow-x:auto;line-height:normal;font-family:Menlo,'DejaVu Sans Mono',consolas,'Courier New',monospace\">preparing data has already done!\n",
       "</pre>\n"
      ],
      "text/plain": [
       "preparing data has already done!\n"
      ]
     },
     "metadata": {},
     "output_type": "display_data"
    },
    {
     "data": {
      "text/html": [
       "<pre style=\"white-space:pre;overflow-x:auto;line-height:normal;font-family:Menlo,'DejaVu Sans Mono',consolas,'Courier New',monospace\">Train, validation and test datasets are ready for use!\n",
       "</pre>\n"
      ],
      "text/plain": [
       "Train, validation and test datasets are ready for use!\n"
      ]
     },
     "metadata": {},
     "output_type": "display_data"
    },
    {
     "name": "stderr",
     "output_type": "stream",
     "text": [
      "Restoring states from the checkpoint path at C:\\Users\\Skoltech\\Desktop\\RecSystemFinal\\Caser\\test_ckpt\\last.ckpt\n",
      "Loaded model weights from the checkpoint at C:\\Users\\Skoltech\\Desktop\\RecSystemFinal\\Caser\\test_ckpt\\last.ckpt\n"
     ]
    },
    {
     "data": {
      "application/vnd.jupyter.widget-view+json": {
       "model_id": "09f6be17dd7849d4a30716491971a039",
       "version_major": 2,
       "version_minor": 0
      },
      "text/plain": [
       "Testing: 0it [00:00, ?it/s]"
      ]
     },
     "metadata": {},
     "output_type": "display_data"
    },
    {
     "data": {
      "text/html": [
       "<pre style=\"white-space:pre;overflow-x:auto;line-height:normal;font-family:Menlo,'DejaVu Sans Mono',consolas,'Courier New',monospace\">┏━━━━━━━━━━━━━━━━━━━━━━━━━━━┳━━━━━━━━━━━━━━━━━━━━━━━━━━━┓\n",
       "┃<span style=\"font-weight: bold\">        Test metric        </span>┃<span style=\"font-weight: bold\">       DataLoader 0        </span>┃\n",
       "┡━━━━━━━━━━━━━━━━━━━━━━━━━━━╇━━━━━━━━━━━━━━━━━━━━━━━━━━━┩\n",
       "│<span style=\"color: #008080; text-decoration-color: #008080\">        test/MRR@1         </span>│<span style=\"color: #800080; text-decoration-color: #800080\">    0.8131080389144906     </span>│\n",
       "│<span style=\"color: #008080; text-decoration-color: #008080\">        test/MRR@2         </span>│<span style=\"color: #800080; text-decoration-color: #800080\">    0.8269329237071172     </span>│\n",
       "│<span style=\"color: #008080; text-decoration-color: #008080\">        test/MRR@3         </span>│<span style=\"color: #800080; text-decoration-color: #800080\">    0.8260937588894579     </span>│\n",
       "│<span style=\"color: #008080; text-decoration-color: #008080\">        test/NDCG@1        </span>│<span style=\"color: #800080; text-decoration-color: #800080\">    0.8131080269813538     </span>│\n",
       "│<span style=\"color: #008080; text-decoration-color: #008080\">        test/NDCG@2        </span>│<span style=\"color: #800080; text-decoration-color: #800080\">    0.7887366414070129     </span>│\n",
       "│<span style=\"color: #008080; text-decoration-color: #008080\">        test/NDCG@3        </span>│<span style=\"color: #800080; text-decoration-color: #800080\">     0.791541337966919     </span>│\n",
       "│<span style=\"color: #008080; text-decoration-color: #008080\">       test/Recall@1       </span>│<span style=\"color: #800080; text-decoration-color: #800080\">    0.8131080269813538     </span>│\n",
       "│<span style=\"color: #008080; text-decoration-color: #008080\">       test/Recall@2       </span>│<span style=\"color: #800080; text-decoration-color: #800080\">    0.7869943380355835     </span>│\n",
       "│<span style=\"color: #008080; text-decoration-color: #008080\">       test/Recall@3       </span>│<span style=\"color: #800080; text-decoration-color: #800080\">    0.7953575253486633     </span>│\n",
       "└───────────────────────────┴───────────────────────────┘\n",
       "</pre>\n"
      ],
      "text/plain": [
       "┏━━━━━━━━━━━━━━━━━━━━━━━━━━━┳━━━━━━━━━━━━━━━━━━━━━━━━━━━┓\n",
       "┃\u001b[1m \u001b[0m\u001b[1m       Test metric       \u001b[0m\u001b[1m \u001b[0m┃\u001b[1m \u001b[0m\u001b[1m      DataLoader 0       \u001b[0m\u001b[1m \u001b[0m┃\n",
       "┡━━━━━━━━━━━━━━━━━━━━━━━━━━━╇━━━━━━━━━━━━━━━━━━━━━━━━━━━┩\n",
       "│\u001b[36m \u001b[0m\u001b[36m       test/MRR@1        \u001b[0m\u001b[36m \u001b[0m│\u001b[35m \u001b[0m\u001b[35m   0.8131080389144906    \u001b[0m\u001b[35m \u001b[0m│\n",
       "│\u001b[36m \u001b[0m\u001b[36m       test/MRR@2        \u001b[0m\u001b[36m \u001b[0m│\u001b[35m \u001b[0m\u001b[35m   0.8269329237071172    \u001b[0m\u001b[35m \u001b[0m│\n",
       "│\u001b[36m \u001b[0m\u001b[36m       test/MRR@3        \u001b[0m\u001b[36m \u001b[0m│\u001b[35m \u001b[0m\u001b[35m   0.8260937588894579    \u001b[0m\u001b[35m \u001b[0m│\n",
       "│\u001b[36m \u001b[0m\u001b[36m       test/NDCG@1       \u001b[0m\u001b[36m \u001b[0m│\u001b[35m \u001b[0m\u001b[35m   0.8131080269813538    \u001b[0m\u001b[35m \u001b[0m│\n",
       "│\u001b[36m \u001b[0m\u001b[36m       test/NDCG@2       \u001b[0m\u001b[36m \u001b[0m│\u001b[35m \u001b[0m\u001b[35m   0.7887366414070129    \u001b[0m\u001b[35m \u001b[0m│\n",
       "│\u001b[36m \u001b[0m\u001b[36m       test/NDCG@3       \u001b[0m\u001b[36m \u001b[0m│\u001b[35m \u001b[0m\u001b[35m    0.791541337966919    \u001b[0m\u001b[35m \u001b[0m│\n",
       "│\u001b[36m \u001b[0m\u001b[36m      test/Recall@1      \u001b[0m\u001b[36m \u001b[0m│\u001b[35m \u001b[0m\u001b[35m   0.8131080269813538    \u001b[0m\u001b[35m \u001b[0m│\n",
       "│\u001b[36m \u001b[0m\u001b[36m      test/Recall@2      \u001b[0m\u001b[36m \u001b[0m│\u001b[35m \u001b[0m\u001b[35m   0.7869943380355835    \u001b[0m\u001b[35m \u001b[0m│\n",
       "│\u001b[36m \u001b[0m\u001b[36m      test/Recall@3      \u001b[0m\u001b[36m \u001b[0m│\u001b[35m \u001b[0m\u001b[35m   0.7953575253486633    \u001b[0m\u001b[35m \u001b[0m│\n",
       "└───────────────────────────┴───────────────────────────┘\n"
      ]
     },
     "metadata": {},
     "output_type": "display_data"
    },
    {
     "name": "stderr",
     "output_type": "stream",
     "text": [
      "\u001b[1;38;5;39mCOMET INFO:\u001b[0m ---------------------------------------------------------------------------------------\n",
      "\u001b[1;38;5;39mCOMET INFO:\u001b[0m Comet.ml Experiment Summary\n",
      "\u001b[1;38;5;39mCOMET INFO:\u001b[0m ---------------------------------------------------------------------------------------\n",
      "\u001b[1;38;5;39mCOMET INFO:\u001b[0m   Data:\n",
      "\u001b[1;38;5;39mCOMET INFO:\u001b[0m     display_summary_level : 1\n",
      "\u001b[1;38;5;39mCOMET INFO:\u001b[0m     url                   : https://www.comet.com/verdangeta/recsys/e0ef6f8a21634228b332a9e82f9f1b2f\n",
      "\u001b[1;38;5;39mCOMET INFO:\u001b[0m   Metrics:\n",
      "\u001b[1;38;5;39mCOMET INFO:\u001b[0m     test/MRR@1    : 0.8131080389144906\n",
      "\u001b[1;38;5;39mCOMET INFO:\u001b[0m     test/MRR@2    : 0.8269329237071172\n",
      "\u001b[1;38;5;39mCOMET INFO:\u001b[0m     test/MRR@3    : 0.8260937588894579\n",
      "\u001b[1;38;5;39mCOMET INFO:\u001b[0m     test/NDCG@1   : 0.8131080269813538\n",
      "\u001b[1;38;5;39mCOMET INFO:\u001b[0m     test/NDCG@2   : 0.7887366414070129\n",
      "\u001b[1;38;5;39mCOMET INFO:\u001b[0m     test/NDCG@3   : 0.791541337966919\n",
      "\u001b[1;38;5;39mCOMET INFO:\u001b[0m     test/Recall@1 : 0.8131080269813538\n",
      "\u001b[1;38;5;39mCOMET INFO:\u001b[0m     test/Recall@2 : 0.7869943380355835\n",
      "\u001b[1;38;5;39mCOMET INFO:\u001b[0m     test/Recall@3 : 0.7953575253486633\n",
      "\u001b[1;38;5;39mCOMET INFO:\u001b[0m   Others:\n",
      "\u001b[1;38;5;39mCOMET INFO:\u001b[0m     Created from : pytorch-lightning\n",
      "\u001b[1;38;5;39mCOMET INFO:\u001b[0m     Name         : default\n",
      "\u001b[1;38;5;39mCOMET INFO:\u001b[0m   Parameters:\n",
      "\u001b[1;38;5;39mCOMET INFO:\u001b[0m     ckpt_path : C:\\Users\\Skoltech\\Desktop\\RecSystemFinal\\Caser\\test_ckpt\\last.ckpt\n",
      "\u001b[1;38;5;39mCOMET INFO:\u001b[0m   Uploads:\n",
      "\u001b[1;38;5;39mCOMET INFO:\u001b[0m     environment details      : 1\n",
      "\u001b[1;38;5;39mCOMET INFO:\u001b[0m     filename                 : 1\n",
      "\u001b[1;38;5;39mCOMET INFO:\u001b[0m     git metadata             : 1\n",
      "\u001b[1;38;5;39mCOMET INFO:\u001b[0m     git-patch (uncompressed) : 1 (1.43 MB)\n",
      "\u001b[1;38;5;39mCOMET INFO:\u001b[0m     installed packages       : 1\n",
      "\u001b[1;38;5;39mCOMET INFO:\u001b[0m     model graph              : 1\n",
      "\u001b[1;38;5;39mCOMET INFO:\u001b[0m     notebook                 : 1\n",
      "\u001b[1;38;5;39mCOMET INFO:\u001b[0m     source_code              : 1\n",
      "\u001b[1;38;5;39mCOMET INFO:\u001b[0m \n",
      "\u001b[1;38;5;214mCOMET WARNING:\u001b[0m To get all data logged automatically, import comet_ml before the following modules: torch.\n",
      "\u001b[1;38;5;39mCOMET INFO:\u001b[0m Uploading 1 metrics, params and output messages\n"
     ]
    }
   ],
   "source": [
    "%run -i test.py +seed=25"
   ]
  },
  {
   "cell_type": "markdown",
   "id": "d00393ee",
   "metadata": {},
   "source": [
    "Model works well if all metrics are higher than 0.8"
   ]
  },
  {
   "cell_type": "markdown",
   "id": "39c48b63",
   "metadata": {
    "ExecuteTime": {
     "end_time": "2023-11-07T15:41:08.078936Z",
     "start_time": "2023-11-07T15:41:08.070940Z"
    }
   },
   "source": [
    "## Product recommendation for users"
   ]
  },
  {
   "cell_type": "code",
   "execution_count": 7,
   "id": "0a77b007",
   "metadata": {
    "ExecuteTime": {
     "end_time": "2023-11-09T11:57:26.969232Z",
     "start_time": "2023-11-09T11:57:26.962208Z"
    }
   },
   "outputs": [
    {
     "name": "stdout",
     "output_type": "stream",
     "text": [
      "[ 965 1460]\n"
     ]
    }
   ],
   "source": [
    "ckpt_path = \"./logs/experiments/runs/caser_santander_64/2023-11-07_16-49-37/checkpoints/epoch_002.ckpt\"\n",
    "\n",
    "user_id = np.random.choice(train_DL.dataset.users.reshape(-1),2)\n",
    "\n",
    "print(user_id)"
   ]
  },
  {
   "cell_type": "code",
   "execution_count": 12,
   "id": "60ceba9f",
   "metadata": {
    "ExecuteTime": {
     "end_time": "2023-11-09T11:57:54.110627Z",
     "start_time": "2023-11-09T11:57:53.893599Z"
    }
   },
   "outputs": [
    {
     "name": "stdout",
     "output_type": "stream",
     "text": [
      "Resume training from ./logs/experiments/runs/caser_santander_64/2023-11-07_16-49-37/checkpoints/epoch_002.ckpt\n",
      "Predictions for users:\n",
      "{965: tensor([ 4, 11, 10,  7,  5]), 1460: tensor([ 9,  4,  8, 10, 14])}\n"
     ]
    }
   ],
   "source": [
    "from inference_caser import make_predict\n",
    "\n",
    "make_predict(train_DL, user_id,ckpt_path, k = 5)"
   ]
  }
 ],
 "metadata": {
  "kernelspec": {
   "display_name": "Python 3 (ipykernel)",
   "language": "python",
   "name": "python3"
  },
  "language_info": {
   "codemirror_mode": {
    "name": "ipython",
    "version": 3
   },
   "file_extension": ".py",
   "mimetype": "text/x-python",
   "name": "python",
   "nbconvert_exporter": "python",
   "pygments_lexer": "ipython3",
   "version": "3.9.17"
  }
 },
 "nbformat": 4,
 "nbformat_minor": 5
}
