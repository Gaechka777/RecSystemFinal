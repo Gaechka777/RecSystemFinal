{
 "cells": [
  {
   "cell_type": "code",
   "execution_count": 1,
   "id": "f5e1d139",
   "metadata": {
    "ExecuteTime": {
     "end_time": "2023-07-26T12:55:40.637473Z",
     "start_time": "2023-07-26T12:55:39.963469Z"
    }
   },
   "outputs": [],
   "source": [
    "from interactions import Interactions"
   ]
  },
  {
   "cell_type": "code",
   "execution_count": 2,
   "id": "3d47ccb8",
   "metadata": {
    "ExecuteTime": {
     "end_time": "2023-07-26T12:55:41.525199Z",
     "start_time": "2023-07-26T12:55:41.365504Z"
    }
   },
   "outputs": [],
   "source": [
    "data_train = Interactions(\"train_ver2.csv\")"
   ]
  },
  {
   "cell_type": "code",
   "execution_count": 7,
   "id": "6fb104b3",
   "metadata": {
    "ExecuteTime": {
     "end_time": "2023-07-26T12:59:48.177929Z",
     "start_time": "2023-07-26T12:59:47.969021Z"
    }
   },
   "outputs": [],
   "source": [
    "data_train.to_sequence()"
   ]
  },
  {
   "cell_type": "code",
   "execution_count": 17,
   "id": "cef1b906",
   "metadata": {
    "ExecuteTime": {
     "end_time": "2023-07-26T13:23:26.472936Z",
     "start_time": "2023-07-26T13:23:26.461542Z"
    }
   },
   "outputs": [
    {
     "data": {
      "text/plain": [
       "array([[0, 0, 0, 0, 0],\n",
       "       [2, 2, 2, 2, 2],\n",
       "       [2, 2, 2, 2, 2],\n",
       "       ...,\n",
       "       [2, 3, 2, 3, 2],\n",
       "       [3, 2, 3, 2, 3],\n",
       "       [2, 3, 2, 3, 2]], dtype=int64)"
      ]
     },
     "execution_count": 17,
     "metadata": {},
     "output_type": "execute_result"
    }
   ],
   "source": [
    "data_train.sequences.sequences"
   ]
  },
  {
   "cell_type": "code",
   "execution_count": 12,
   "id": "021a4536",
   "metadata": {
    "ExecuteTime": {
     "end_time": "2023-07-26T13:00:47.596691Z",
     "start_time": "2023-07-26T13:00:47.584950Z"
    }
   },
   "outputs": [
    {
     "data": {
      "text/plain": [
       "array([   0,    1,    1, ..., 1961, 1961, 1961], dtype=int64)"
      ]
     },
     "execution_count": 12,
     "metadata": {},
     "output_type": "execute_result"
    }
   ],
   "source": [
    "data_train.sequences.user_ids"
   ]
  },
  {
   "cell_type": "code",
   "execution_count": 14,
   "id": "e3d7c275",
   "metadata": {
    "ExecuteTime": {
     "end_time": "2023-07-26T13:02:00.030735Z",
     "start_time": "2023-07-26T13:02:00.015732Z"
    }
   },
   "outputs": [
    {
     "data": {
      "text/plain": [
       "array([[0, 0, 0, 0, 1],\n",
       "       [2, 2, 2, 2, 2],\n",
       "       [3, 3, 3, 3, 3],\n",
       "       ...,\n",
       "       [3, 3, 3, 3, 3],\n",
       "       [3, 3, 3, 3, 3],\n",
       "       [3, 2, 3, 2, 3]], dtype=int64)"
      ]
     },
     "execution_count": 14,
     "metadata": {},
     "output_type": "execute_result"
    }
   ],
   "source": [
    "data_train.test_sequences.sequences"
   ]
  },
  {
   "cell_type": "code",
   "execution_count": 15,
   "id": "3712c792",
   "metadata": {
    "ExecuteTime": {
     "end_time": "2023-07-26T13:02:12.004735Z",
     "start_time": "2023-07-26T13:02:11.994703Z"
    }
   },
   "outputs": [
    {
     "data": {
      "text/plain": [
       "array([   0,    1,    2, ..., 1959, 1960, 1961], dtype=int64)"
      ]
     },
     "execution_count": 15,
     "metadata": {},
     "output_type": "execute_result"
    }
   ],
   "source": [
    "data_train.test_sequences.user_ids"
   ]
  },
  {
   "cell_type": "code",
   "execution_count": null,
   "id": "effecfa4",
   "metadata": {},
   "outputs": [],
   "source": []
  }
 ],
 "metadata": {
  "kernelspec": {
   "display_name": "Python 3 (ipykernel)",
   "language": "python",
   "name": "python3"
  },
  "language_info": {
   "codemirror_mode": {
    "name": "ipython",
    "version": 3
   },
   "file_extension": ".py",
   "mimetype": "text/x-python",
   "name": "python",
   "nbconvert_exporter": "python",
   "pygments_lexer": "ipython3",
   "version": "3.8.16"
  }
 },
 "nbformat": 4,
 "nbformat_minor": 5
}
